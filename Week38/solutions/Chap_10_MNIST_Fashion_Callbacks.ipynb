





<!DOCTYPE html>
<html
  lang="en"
  
  data-color-mode="auto" data-light-theme="light" data-dark-theme="dark"
  data-a11y-animated-images="system" data-a11y-link-underlines="true"
  
  >




  <head>
    <meta charset="utf-8">
  <link rel="dns-prefetch" href="https://github.githubassets.com">
  <link rel="dns-prefetch" href="https://avatars.githubusercontent.com">
  <link rel="dns-prefetch" href="https://github-cloud.s3.amazonaws.com">
  <link rel="dns-prefetch" href="https://user-images.githubusercontent.com/">
  <link rel="preconnect" href="https://github.githubassets.com" crossorigin>
  <link rel="preconnect" href="https://avatars.githubusercontent.com">

  


  <link crossorigin="anonymous" media="all" rel="stylesheet" href="https://github.githubassets.com/assets/light-6448649c7147.css" /><link crossorigin="anonymous" media="all" rel="stylesheet" href="https://github.githubassets.com/assets/light_high_contrast-42fc7e3b06b7.css" /><link crossorigin="anonymous" media="all" rel="stylesheet" href="https://github.githubassets.com/assets/dark-d17b946fc2c5.css" /><link crossorigin="anonymous" media="all" rel="stylesheet" href="https://github.githubassets.com/assets/dark_high_contrast-1b924088c83a.css" /><link data-color-theme="light" crossorigin="anonymous" media="all" rel="stylesheet" data-href="https://github.githubassets.com/assets/light-6448649c7147.css" /><link data-color-theme="light_high_contrast" crossorigin="anonymous" media="all" rel="stylesheet" data-href="https://github.githubassets.com/assets/light_high_contrast-42fc7e3b06b7.css" /><link data-color-theme="light_colorblind" crossorigin="anonymous" media="all" rel="stylesheet" data-href="https://github.githubassets.com/assets/light_colorblind-44cfaf0c8f7b.css" /><link data-color-theme="light_colorblind_high_contrast" crossorigin="anonymous" media="all" rel="stylesheet" data-href="https://github.githubassets.com/assets/light_colorblind_high_contrast-979217efd93e.css" /><link data-color-theme="light_tritanopia" crossorigin="anonymous" media="all" rel="stylesheet" data-href="https://github.githubassets.com/assets/light_tritanopia-4d5383026bfa.css" /><link data-color-theme="light_tritanopia_high_contrast" crossorigin="anonymous" media="all" rel="stylesheet" data-href="https://github.githubassets.com/assets/light_tritanopia_high_contrast-ff6ff8532348.css" /><link data-color-theme="dark" crossorigin="anonymous" media="all" rel="stylesheet" data-href="https://github.githubassets.com/assets/dark-d17b946fc2c5.css" /><link data-color-theme="dark_high_contrast" crossorigin="anonymous" media="all" rel="stylesheet" data-href="https://github.githubassets.com/assets/dark_high_contrast-1b924088c83a.css" /><link data-color-theme="dark_colorblind" crossorigin="anonymous" media="all" rel="stylesheet" data-href="https://github.githubassets.com/assets/dark_colorblind-654786382462.css" /><link data-color-theme="dark_colorblind_high_contrast" crossorigin="anonymous" media="all" rel="stylesheet" data-href="https://github.githubassets.com/assets/dark_colorblind_high_contrast-ecca008c6f6e.css" /><link data-color-theme="dark_tritanopia" crossorigin="anonymous" media="all" rel="stylesheet" data-href="https://github.githubassets.com/assets/dark_tritanopia-fff376053989.css" /><link data-color-theme="dark_tritanopia_high_contrast" crossorigin="anonymous" media="all" rel="stylesheet" data-href="https://github.githubassets.com/assets/dark_tritanopia_high_contrast-49adf52571e5.css" /><link data-color-theme="dark_dimmed" crossorigin="anonymous" media="all" rel="stylesheet" data-href="https://github.githubassets.com/assets/dark_dimmed-66d97c13c98a.css" /><link data-color-theme="dark_dimmed_high_contrast" crossorigin="anonymous" media="all" rel="stylesheet" data-href="https://github.githubassets.com/assets/dark_dimmed_high_contrast-c58f1d0432b9.css" />

  <style type="text/css">
    :root {
      --tab-size-preference: 4;
    }

    pre, code {
      tab-size: var(--tab-size-preference);
    }
  </style>

    <link crossorigin="anonymous" media="all" rel="stylesheet" href="https://github.githubassets.com/assets/primer-primitives-dc7ca6859caf.css" />
    <link crossorigin="anonymous" media="all" rel="stylesheet" href="https://github.githubassets.com/assets/primer-f96b923db733.css" />
    <link crossorigin="anonymous" media="all" rel="stylesheet" href="https://github.githubassets.com/assets/global-2744ca59d025.css" />
    <link crossorigin="anonymous" media="all" rel="stylesheet" href="https://github.githubassets.com/assets/github-efdc4f8b5091.css" />
  <link crossorigin="anonymous" media="all" rel="stylesheet" href="https://github.githubassets.com/assets/repository-5d735668c600.css" />
<link crossorigin="anonymous" media="all" rel="stylesheet" href="https://github.githubassets.com/assets/code-9c9b8dc61e74.css" />

  

  <script type="application/json" id="client-env">{"locale":"en","featureFlags":["alternate_user_config_repo","api_insights_show_missing_data_banner","attestations_filtering","attestations_sorting","billing_fixed_amount_metered_configured_discounts","client_version_header","codespaces_prebuild_region_target_update","contact_requests_implicit_opt_in","contact_sales_locale_utm_medium","contentful_lp_enterprise","contentful_lp_footnotes","copilot_agent_tasks_btn_code_nav","copilot_agent_tasks_btn_code_view","copilot_agent_tasks_btn_code_view_lines","copilot_agent_tasks_btn_file_reference","copilot_api_agentic_issue_marshal_yaml","copilot_api_draft_issue_code_search","copilot_chat_attach_multiple_images","copilot_chat_file_redirect","copilot_chat_reduce_quota_checks","copilot_chat_search_bar_redirect","copilot_chat_selection_attachments","copilot_chat_vision_in_claude","copilot_chat_vision_skip_thread_create","copilot_coding_agent_diff_stats","copilot_custom_copilots_feature_preview","copilot_custom_copilots_images","copilot_duplicate_thread","copilot_features_raycast_logo","copilot_free_to_paid_telem","copilot_ftp_hyperspace_upgrade_prompt","copilot_ftp_settings_upgrade","copilot_ftp_upgrade_to_pro_from_models","copilot_ftp_your_copilot_settings","copilot_global_overlay_v2","copilot_immersive_agent_branch_selection","copilot_immersive_structured_model_picker","copilot_loops_share_button","copilot_no_floating_button","copilot_read_shared_conversation","copilot_show_copilot_sub_issues_button_on_issues_page","copilot_spark_allow_empty_commit","copilot_spark_loading_webgl","copilot_spark_progressive_error_handling","copilot_spark_single_user_iteration","copilot_spark_use_billing_headers","copilot_spark_write_iteration_history_to_git","copilot_stable_conversation_view","copilot_workbench_agent_seed_tool","copilot_workbench_cache","copilot_workbench_connection_reload_banner","copilot_workbench_preview_analytics","copilot_workbench_ratelimit_fallback","copilot_workbench_refresh_on_wsod","copilot_workbench_synthetic_generation","dashboard_public_preview","direct_to_salesforce","dotcom_chat_client_side_skills","failbot_report_error_react_apps_on_page","ghost_pilot_confidence_truncation_25","ghost_pilot_confidence_truncation_40","global_nav_reductive_user_menu","global_search_multi_orgs","hpc_improve_dom_insertion_observer","hyperspace_diff_view","inp_reduced_threshold","insert_before_patch","issue_fields_report_usage","issues_react_blur_item_picker_on_close","issues_react_bots_timeline_pagination","issues_react_nested_picker_prevent_autoclose","issues_react_prohibit_title_fallback","issues_react_remove_placeholders","issues_sticky_sidebar","lifecycle_label_name_updates","link_contact_sales_swp_marketo","marketing_pages_search_explore_provider","mcp_registry_install","memex_mwl_filter_field_delimiter","memex_search_assignees","migrate_toasts_to_banners_web_notifications","new_traffic_page_banner","override_pulse_legacy_url","primer_react_segmented_control_tooltip","primer_react_unified_portal_root","record_sso_banner_metrics","releases_update_ref_selector","remove_child_patch","repos_insights_remove_new_url","sample_network_conn_type","scheduled_reminders_updated_limits","show_edit_on_default_option","site_homepage_contentful","site_msbuild_webgl_hero","spark_commit_on_default_branch","spark_show_data_access_on_publish","spark_sync_repository_after_iteration","viewscreen_sandbox","webp_support","workbench_default_sonnet4","workbench_store_readonly"],"copilotApiOverrideUrl":"https://api.githubcopilot.com"}</script>
<script crossorigin="anonymous" type="application/javascript" src="https://github.githubassets.com/assets/high-contrast-cookie-f3788027bd8d.js"></script>
<script crossorigin="anonymous" type="application/javascript" src="https://github.githubassets.com/assets/wp-runtime-f12c48a3a48a.js" defer="defer"></script>
<script crossorigin="anonymous" type="application/javascript" src="https://github.githubassets.com/assets/vendors-node_modules_oddbird_popover-polyfill_dist_popover-fn_js-468bf7cab607.js" defer="defer"></script>
<script crossorigin="anonymous" type="application/javascript" src="https://github.githubassets.com/assets/vendors-node_modules_stacktrace-parser_dist_stack-trace-parser_esm_js-node_modules_github_bro-2f4e04-280c10ec004d.js" defer="defer"></script>
<script crossorigin="anonymous" type="application/javascript" src="https://github.githubassets.com/assets/vendors-node_modules_github_arianotify-polyfill_ariaNotify-polyfill_js-node_modules_github_mi-c8eeba-690858154b11.js" defer="defer"></script>
<script crossorigin="anonymous" type="application/javascript" src="https://github.githubassets.com/assets/environment-e36acb721009.js" defer="defer"></script>
<script crossorigin="anonymous" type="application/javascript" src="https://github.githubassets.com/assets/vendors-node_modules_primer_behaviors_dist_esm_index_mjs-7e8c9c5d642d.js" defer="defer"></script>
<script crossorigin="anonymous" type="application/javascript" src="https://github.githubassets.com/assets/vendors-node_modules_github_relative-time-element_dist_index_js-c98257dc79a7.js" defer="defer"></script>
<script crossorigin="anonymous" type="application/javascript" src="https://github.githubassets.com/assets/vendors-node_modules_github_selector-observer_dist_index_esm_js-7e4d99c9171d.js" defer="defer"></script>
<script crossorigin="anonymous" type="application/javascript" src="https://github.githubassets.com/assets/vendors-node_modules_github_auto-complete-element_dist_index_js-node_modules_github_catalyst_-0d7d60-96b4510b084a.js" defer="defer"></script>
<script crossorigin="anonymous" type="application/javascript" src="https://github.githubassets.com/assets/vendors-node_modules_github_text-expander-element_dist_index_js-754f5b5e9e7e.js" defer="defer"></script>
<script crossorigin="anonymous" type="application/javascript" src="https://github.githubassets.com/assets/vendors-node_modules_github_filter-input-element_dist_index_js-node_modules_github_remote-inp-b5f1d7-fd008e5636c7.js" defer="defer"></script>
<script crossorigin="anonymous" type="application/javascript" src="https://github.githubassets.com/assets/vendors-node_modules_github_markdown-toolbar-element_dist_index_js-d41270eb61be.js" defer="defer"></script>
<script crossorigin="anonymous" type="application/javascript" src="https://github.githubassets.com/assets/vendors-node_modules_github_file-attachment-element_dist_index_js-node_modules_primer_view-co-c63e9a-b1f4633cac7f.js" defer="defer"></script>
<script crossorigin="anonymous" type="application/javascript" src="https://github.githubassets.com/assets/github-elements-e1b8d79d7efc.js" defer="defer"></script>
<script crossorigin="anonymous" type="application/javascript" src="https://github.githubassets.com/assets/element-registry-5772e1a8a7de.js" defer="defer"></script>
<script crossorigin="anonymous" type="application/javascript" src="https://github.githubassets.com/assets/vendors-node_modules_github_mini-throttle_dist_index_js-node_modules_github_hydro-analytics-c-2a6094-2f3b5bfd7e3b.js" defer="defer"></script>
<script crossorigin="anonymous" type="application/javascript" src="https://github.githubassets.com/assets/vendors-node_modules_braintree_browser-detection_dist_browser-detection_js-node_modules_githu-bb80ec-4e90f1d1076c.js" defer="defer"></script>
<script crossorigin="anonymous" type="application/javascript" src="https://github.githubassets.com/assets/vendors-node_modules_lit-html_lit-html_js-06c8637a6071.js" defer="defer"></script>
<script crossorigin="anonymous" type="application/javascript" src="https://github.githubassets.com/assets/vendors-node_modules_morphdom_dist_morphdom-esm_js-node_modules_swc_helpers_esm__define_property_js-5c587dccb470.js" defer="defer"></script>
<script crossorigin="anonymous" type="application/javascript" src="https://github.githubassets.com/assets/vendors-node_modules_github_turbo_dist_turbo_es2017-esm_js-8eb9b2209bcd.js" defer="defer"></script>
<script crossorigin="anonymous" type="application/javascript" src="https://github.githubassets.com/assets/vendors-node_modules_github_remote-form_dist_index_js-node_modules_delegated-events_dist_inde-893f9f-cd5d89ebdb50.js" defer="defer"></script>
<script crossorigin="anonymous" type="application/javascript" src="https://github.githubassets.com/assets/vendors-node_modules_github_quote-selection_dist_index_js-node_modules_github_session-resume_-590a09-91fdc8802bfa.js" defer="defer"></script>
<script crossorigin="anonymous" type="application/javascript" src="https://github.githubassets.com/assets/packages_document-metadata_document-metadata_ts-packages_failbot_failbot_ts-b8e9eefcce78.js" defer="defer"></script>
<script crossorigin="anonymous" type="application/javascript" src="https://github.githubassets.com/assets/packages_updatable-content_updatable-content_ts-a743e72edcf2.js" defer="defer"></script>
<script crossorigin="anonymous" type="application/javascript" src="https://github.githubassets.com/assets/app_assets_modules_github_behaviors_ajax-error_ts-app_assets_modules_github_behaviors_details-6493f1-b7112815a1fc.js" defer="defer"></script>
<script crossorigin="anonymous" type="application/javascript" src="https://github.githubassets.com/assets/app_assets_modules_github_behaviors_task-list_ts-app_assets_modules_github_throttled-input_ts-047775-82bfe789bb2f.js" defer="defer"></script>
<script crossorigin="anonymous" type="application/javascript" src="https://github.githubassets.com/assets/app_assets_modules_github_behaviors_commenting_edit_ts-app_assets_modules_github_behaviors_ht-83c235-6bc7a8849328.js" defer="defer"></script>
<script crossorigin="anonymous" type="application/javascript" src="https://github.githubassets.com/assets/behaviors-6206313cbfca.js" defer="defer"></script>
<script crossorigin="anonymous" type="application/javascript" src="https://github.githubassets.com/assets/vendors-node_modules_delegated-events_dist_index_js-node_modules_github_catalyst_lib_index_js-ef6d0f-ee7f82e278f6.js" defer="defer"></script>
<script crossorigin="anonymous" type="application/javascript" src="https://github.githubassets.com/assets/notifications-global-f5c28dea1388.js" defer="defer"></script>
<script crossorigin="anonymous" type="application/javascript" src="https://github.githubassets.com/assets/vendors-node_modules_github_mini-throttle_dist_index_js-node_modules_github_catalyst_lib_inde-96937f-bc1f2aa7a397.js" defer="defer"></script>
<script crossorigin="anonymous" type="application/javascript" src="https://github.githubassets.com/assets/code-menu-f0fbee92a5e1.js" defer="defer"></script>
  
  <script crossorigin="anonymous" type="application/javascript" src="https://github.githubassets.com/assets/primer-react-68db5c96d18f.js" defer="defer"></script>
<script crossorigin="anonymous" type="application/javascript" src="https://github.githubassets.com/assets/react-core-f6571bc10d64.js" defer="defer"></script>
<script crossorigin="anonymous" type="application/javascript" src="https://github.githubassets.com/assets/react-lib-17ccbc80f53b.js" defer="defer"></script>
<script crossorigin="anonymous" type="application/javascript" src="https://github.githubassets.com/assets/octicons-react-0f0d82031c98.js" defer="defer"></script>
<script crossorigin="anonymous" type="application/javascript" src="https://github.githubassets.com/assets/vendors-node_modules_emotion_is-prop-valid_dist_emotion-is-prop-valid_esm_js-node_modules_emo-1fff13-a67dacb6db80.js" defer="defer"></script>
<script crossorigin="anonymous" type="application/javascript" src="https://github.githubassets.com/assets/vendors-node_modules_tanstack_query-core_build_modern_mutation_js-node_modules_tanstack_query-9bf7e4-a1bacdef8ef2.js" defer="defer"></script>
<script crossorigin="anonymous" type="application/javascript" src="https://github.githubassets.com/assets/vendors-node_modules_tanstack_query-core_build_modern_queryClient_js-node_modules_tanstack_re-d87a32-ae1d44ebdc99.js" defer="defer"></script>
<script crossorigin="anonymous" type="application/javascript" src="https://github.githubassets.com/assets/vendors-node_modules_dompurify_dist_purify_es_mjs-0294cfa498e7.js" defer="defer"></script>
<script crossorigin="anonymous" type="application/javascript" src="https://github.githubassets.com/assets/vendors-node_modules_lodash-es__Stack_js-node_modules_lodash-es__Uint8Array_js-node_modules_l-4faaa6-95511fe13c4b.js" defer="defer"></script>
<script crossorigin="anonymous" type="application/javascript" src="https://github.githubassets.com/assets/vendors-node_modules_lit-labs_react_index_js-node_modules_tanstack_react-virtual_dist_esm_index_js-44a2211e428b.js" defer="defer"></script>
<script crossorigin="anonymous" type="application/javascript" src="https://github.githubassets.com/assets/vendors-node_modules_swc_helpers_esm__define_property_js-node_modules_lodash-es__getAllKeys_j-86c8c2-f6bac8d2298f.js" defer="defer"></script>
<script crossorigin="anonymous" type="application/javascript" src="https://github.githubassets.com/assets/vendors-node_modules_focus-visible_dist_focus-visible_js-node_modules_github_hydro-analytics--425d03-af2be75f09b4.js" defer="defer"></script>
<script crossorigin="anonymous" type="application/javascript" src="https://github.githubassets.com/assets/vendors-node_modules_github_catalyst_lib_index_js-node_modules_primer_styled-react_dist_index-d380a0-4dcb8c5eae60.js" defer="defer"></script>
<script crossorigin="anonymous" type="application/javascript" src="https://github.githubassets.com/assets/packages_paths_index_ts-454af952061a.js" defer="defer"></script>
<script crossorigin="anonymous" type="application/javascript" src="https://github.githubassets.com/assets/packages_fetch-headers_fetch-headers_ts-packages_history_history_ts-packages_promise-with-res-c5198c-ef8c20fb4804.js" defer="defer"></script>
<script crossorigin="anonymous" type="application/javascript" src="https://github.githubassets.com/assets/packages_ref-selector_RefSelector_tsx-f3ee87e52467.js" defer="defer"></script>
<script crossorigin="anonymous" type="application/javascript" src="https://github.githubassets.com/assets/packages_commit-attribution_index_ts-packages_commit-checks-status_index_ts-packages_current--18e2dc-b3046fcc482e.js" defer="defer"></script>
<script crossorigin="anonymous" type="application/javascript" src="https://github.githubassets.com/assets/packages_code-view-shared_hooks_use-canonical-object_ts-packages_code-view-shared_hooks_use-f-37800a-180056e94977.js" defer="defer"></script>
<script crossorigin="anonymous" type="application/javascript" src="https://github.githubassets.com/assets/packages_app-uuid_app-uuid_ts-packages_repos-file-tree-view_repos-file-tree-view_ts-a7b891e293c8.js" defer="defer"></script>
<script crossorigin="anonymous" type="application/javascript" src="https://github.githubassets.com/assets/app_assets_modules_react-code-view_utilities_lines_ts-fe703433a9e1.js" defer="defer"></script>
<script crossorigin="anonymous" type="application/javascript" src="https://github.githubassets.com/assets/packages_code-view-shared_utilities_web-worker_ts-packages_code-view-shared_worker-jobs_debou-52b466-441746302aac.js" defer="defer"></script>
<script crossorigin="anonymous" type="application/javascript" src="https://github.githubassets.com/assets/packages_code-nav_code-nav_ts-packages_filter-sort_filter-sort_ts-packages_fuzzy-filter_fuzzy-03fd45-02d3b07ec699.js" defer="defer"></script>
<script crossorigin="anonymous" type="application/javascript" src="https://github.githubassets.com/assets/react-code-view-7f58dc6c42a8.js" defer="defer"></script>
<link crossorigin="anonymous" media="all" rel="stylesheet" href="https://github.githubassets.com/assets/primer-react.592b66644437c8ba4190.module.css" />
<link crossorigin="anonymous" media="all" rel="stylesheet" href="https://github.githubassets.com/assets/react-code-view.8b7d2260c74f2a9b531c.module.css" />

  <script crossorigin="anonymous" type="application/javascript" src="https://github.githubassets.com/assets/vendors-node_modules_lit-labs_react_index_js-node_modules_primer_styled-react_dist_index_js-n-6066db-181578a3cf37.js" defer="defer"></script>
<script crossorigin="anonymous" type="application/javascript" src="https://github.githubassets.com/assets/packages_notifications-subscriptions-menu_entry_ts-packages_promise-with-resolvers-polyfill_p-df0233-37157a955eee.js" defer="defer"></script>
<script crossorigin="anonymous" type="application/javascript" src="https://github.githubassets.com/assets/notifications-subscriptions-menu-b543218624ad.js" defer="defer"></script>
<link crossorigin="anonymous" media="all" rel="stylesheet" href="https://github.githubassets.com/assets/primer-react.592b66644437c8ba4190.module.css" />
<link crossorigin="anonymous" media="all" rel="stylesheet" href="https://github.githubassets.com/assets/notifications-subscriptions-menu.44a4ce5e60cfd5c27b1a.module.css" />


  <title>ML-Examples/Chap_10_MNIST_Fashion_Callbacks.ipynb at main · hkeasv/ML-Examples · GitHub</title>



  <meta name="route-pattern" content="/:user_id/:repository/blob/*name(/*path)" data-turbo-transient>
  <meta name="route-controller" content="blob" data-turbo-transient>
  <meta name="route-action" content="show" data-turbo-transient>
  <meta name="fetch-nonce" content="v2:68089bc2-af2d-4ea2-dd90-94ca1ea36ef6">

    
  <meta name="current-catalog-service-hash" content="f3abb0cc802f3d7b95fc8762b94bdcb13bf39634c40c357301c4aa1d67a256fb">


  <meta name="request-id" content="F818:E9E1B:CFC3244:AFD6DB8:68D3B520" data-pjax-transient="true"/><meta name="html-safe-nonce" content="9014f470dfd5c9ea49286bb951907a6ad7a6f42c06f4a7f6087c6eafce67c1d9" data-pjax-transient="true"/><meta name="visitor-payload" content="eyJyZWZlcnJlciI6IiIsInJlcXVlc3RfaWQiOiJGODE4OkU5RTFCOkNGQzMyNDQ6QUZENkRCODo2OEQzQjUyMCIsInZpc2l0b3JfaWQiOiI0OTU4NDE0NzM0MzIxMDYyNzIiLCJyZWdpb25fZWRnZSI6ImZyYSIsInJlZ2lvbl9yZW5kZXIiOiJmcmEifQ==" data-pjax-transient="true"/><meta name="visitor-hmac" content="85ef984edf48813ca01ef8275e009b563cade2cb025904583c6bfd56d52391f9" data-pjax-transient="true"/>


    <meta name="hovercard-subject-tag" content="repository:751802809" data-turbo-transient>


  <meta name="github-keyboard-shortcuts" content="repository,source-code,file-tree,copilot" data-turbo-transient="true" />
  

  <meta name="selected-link" value="repo_source" data-turbo-transient>
  <link rel="assets" href="https://github.githubassets.com/">

    <meta name="google-site-verification" content="Apib7-x98H0j5cPqHWwSMm6dNU4GmODRoqxLiDzdx9I">

<meta name="octolytics-url" content="https://collector.github.com/github/collect" />

  <meta name="analytics-location" content="/&lt;user-name&gt;/&lt;repo-name&gt;/blob/show" data-turbo-transient="true" />

  




    <meta name="user-login" content="">

  

    <meta name="viewport" content="width=device-width">

    

      <meta name="description" content="Contribute to hkeasv/ML-Examples development by creating an account on GitHub.">

      <link rel="search" type="application/opensearchdescription+xml" href="/opensearch.xml" title="GitHub">

    <link rel="fluid-icon" href="https://github.com/fluidicon.png" title="GitHub">
    <meta property="fb:app_id" content="1401488693436528">
    <meta name="apple-itunes-app" content="app-id=1477376905, app-argument=https://github.com/hkeasv/ML-Examples/blob/main/Chap_10_MNIST_Fashion_Callbacks.ipynb" />

      <meta name="twitter:image" content="https://opengraph.githubassets.com/cce1a023e2e606a1463f7048a53125c53d54507168f84d4cc6edf8c82454b11f/hkeasv/ML-Examples" /><meta name="twitter:site" content="@github" /><meta name="twitter:card" content="summary_large_image" /><meta name="twitter:title" content="ML-Examples/Chap_10_MNIST_Fashion_Callbacks.ipynb at main · hkeasv/ML-Examples" /><meta name="twitter:description" content="Contribute to hkeasv/ML-Examples development by creating an account on GitHub." />
  <meta property="og:image" content="https://opengraph.githubassets.com/cce1a023e2e606a1463f7048a53125c53d54507168f84d4cc6edf8c82454b11f/hkeasv/ML-Examples" /><meta property="og:image:alt" content="Contribute to hkeasv/ML-Examples development by creating an account on GitHub." /><meta property="og:image:width" content="1200" /><meta property="og:image:height" content="600" /><meta property="og:site_name" content="GitHub" /><meta property="og:type" content="object" /><meta property="og:title" content="ML-Examples/Chap_10_MNIST_Fashion_Callbacks.ipynb at main · hkeasv/ML-Examples" /><meta property="og:url" content="https://github.com/hkeasv/ML-Examples/blob/main/Chap_10_MNIST_Fashion_Callbacks.ipynb" /><meta property="og:description" content="Contribute to hkeasv/ML-Examples development by creating an account on GitHub." />
  




      <meta name="hostname" content="github.com">



        <meta name="expected-hostname" content="github.com">


  <meta http-equiv="x-pjax-version" content="8bb04e694dff06c7476943a741bb4ed37bf2a54cd5cfd7c980194982890a9337" data-turbo-track="reload">
  <meta http-equiv="x-pjax-csp-version" content="c922ef32c4ab94f8b870c62883f3e41755ec705db76ec4efb0d343458f1e28c7" data-turbo-track="reload">
  <meta http-equiv="x-pjax-css-version" content="0bc51a290919c52cc62b3d8b4eed96609edf264f742d0409c975553b0cdc84a8" data-turbo-track="reload">
  <meta http-equiv="x-pjax-js-version" content="327c08d44a4074cc82ec4863842eb15858485e870bd3f244bf8c1c0621239b37" data-turbo-track="reload">

  <meta name="turbo-cache-control" content="no-preview" data-turbo-transient="">

      <meta name="turbo-cache-control" content="no-cache" data-turbo-transient>

    <meta data-hydrostats="publish">

  <meta name="go-import" content="github.com/hkeasv/ML-Examples git https://github.com/hkeasv/ML-Examples.git">

  <meta name="octolytics-dimension-user_id" content="151037089" /><meta name="octolytics-dimension-user_login" content="hkeasv" /><meta name="octolytics-dimension-repository_id" content="751802809" /><meta name="octolytics-dimension-repository_nwo" content="hkeasv/ML-Examples" /><meta name="octolytics-dimension-repository_public" content="true" /><meta name="octolytics-dimension-repository_is_fork" content="false" /><meta name="octolytics-dimension-repository_network_root_id" content="751802809" /><meta name="octolytics-dimension-repository_network_root_nwo" content="hkeasv/ML-Examples" />



    

    <meta name="turbo-body-classes" content="logged-out env-production page-responsive">


  <meta name="browser-stats-url" content="https://api.github.com/_private/browser/stats">

  <meta name="browser-errors-url" content="https://api.github.com/_private/browser/errors">

  <meta name="release" content="40ffcd0b39532f848ce8011d5437afb207f17025">
  <meta name="ui-target" content="full">

  <link rel="mask-icon" href="https://github.githubassets.com/assets/pinned-octocat-093da3e6fa40.svg" color="#000000">
  <link rel="alternate icon" class="js-site-favicon" type="image/png" href="https://github.githubassets.com/favicons/favicon.png">
  <link rel="icon" class="js-site-favicon" type="image/svg+xml" href="https://github.githubassets.com/favicons/favicon.svg" data-base-href="https://github.githubassets.com/favicons/favicon">

<meta name="theme-color" content="#1e2327">
<meta name="color-scheme" content="light dark" />


  <link rel="manifest" href="/manifest.json" crossOrigin="use-credentials">

  </head>

  <body class="logged-out env-production page-responsive" style="word-wrap: break-word;">
    <div data-turbo-body class="logged-out env-production page-responsive" style="word-wrap: break-word;">
      



    <div class="position-relative header-wrapper js-header-wrapper ">
      <a href="#start-of-content" data-skip-target-assigned="false" class="px-2 py-4 color-bg-accent-emphasis color-fg-on-emphasis show-on-focus js-skip-to-content">Skip to content</a>

      <span data-view-component="true" class="progress-pjax-loader Progress position-fixed width-full">
    <span style="width: 0%;" data-view-component="true" class="Progress-item progress-pjax-loader-bar left-0 top-0 color-bg-accent-emphasis"></span>
</span>      
      
      <link crossorigin="anonymous" media="all" rel="stylesheet" href="https://github.githubassets.com/assets/primer-react.592b66644437c8ba4190.module.css" />
<link crossorigin="anonymous" media="all" rel="stylesheet" href="https://github.githubassets.com/assets/keyboard-shortcuts-dialog.2de9c7d6456a311fce49.module.css" />

<react-partial
  partial-name="keyboard-shortcuts-dialog"
  data-ssr="false"
  data-attempted-ssr="false"
  data-react-profiling="false"
>
  
  <script type="application/json" data-target="react-partial.embeddedData">{"props":{"docsUrl":"https://docs.github.com/get-started/accessibility/keyboard-shortcuts"}}</script>
  <div data-target="react-partial.reactRoot"></div>
</react-partial>





      

          

              
<script crossorigin="anonymous" type="application/javascript" src="https://github.githubassets.com/assets/vendors-node_modules_gsap_index_js-23c9606618ce.js" defer="defer"></script>
<script crossorigin="anonymous" type="application/javascript" src="https://github.githubassets.com/assets/vendors-node_modules_github_remote-form_dist_index_js-node_modules_delegated-events_dist_inde-94fd67-04dd9f3c4754.js" defer="defer"></script>
<script crossorigin="anonymous" type="application/javascript" src="https://github.githubassets.com/assets/sessions-ac148cb2a2f3.js" defer="defer"></script>

<header class="HeaderMktg header-logged-out js-details-container js-header Details f4 py-3" role="banner" data-is-top="true" data-color-mode=light data-light-theme=light data-dark-theme=dark>
  <h2 class="sr-only">Navigation Menu</h2>

  <button type="button" class="HeaderMktg-backdrop d-lg-none border-0 position-fixed top-0 left-0 width-full height-full js-details-target" aria-label="Toggle navigation">
    <span class="d-none">Toggle navigation</span>
  </button>

  <div class="d-flex flex-column flex-lg-row flex-items-center px-3 px-md-4 px-lg-5 height-full position-relative z-1">
    <div class="d-flex flex-justify-between flex-items-center width-full width-lg-auto">
      <div class="flex-1">
        <button aria-label="Toggle navigation" aria-expanded="false" type="button" data-view-component="true" class="js-details-target js-nav-padding-recalculate js-header-menu-toggle Button--link Button--medium Button d-lg-none color-fg-inherit p-1">  <span class="Button-content">
    <span class="Button-label"><div class="HeaderMenu-toggle-bar rounded my-1"></div>
            <div class="HeaderMenu-toggle-bar rounded my-1"></div>
            <div class="HeaderMenu-toggle-bar rounded my-1"></div></span>
  </span>
</button>
      </div>

      <a class="mr-lg-3 color-fg-inherit flex-order-2 js-prevent-focus-on-mobile-nav"
        href="/"
        aria-label="Homepage"
        data-analytics-event="{&quot;category&quot;:&quot;Marketing nav&quot;,&quot;action&quot;:&quot;click to go to homepage&quot;,&quot;label&quot;:&quot;ref_page:Marketing;ref_cta:Logomark;ref_loc:Header&quot;}">
        <svg height="32" aria-hidden="true" viewBox="0 0 24 24" version="1.1" width="32" data-view-component="true" class="octicon octicon-mark-github">
    <path d="M12 1C5.923 1 1 5.923 1 12c0 4.867 3.149 8.979 7.521 10.436.55.096.756-.233.756-.522 0-.262-.013-1.128-.013-2.049-2.764.509-3.479-.674-3.699-1.292-.124-.317-.66-1.293-1.127-1.554-.385-.207-.936-.715-.014-.729.866-.014 1.485.797 1.691 1.128.99 1.663 2.571 1.196 3.204.907.096-.715.385-1.196.701-1.471-2.448-.275-5.005-1.224-5.005-5.432 0-1.196.426-2.186 1.128-2.956-.111-.275-.496-1.402.11-2.915 0 0 .921-.288 3.024 1.128a10.193 10.193 0 0 1 2.75-.371c.936 0 1.871.123 2.75.371 2.104-1.43 3.025-1.128 3.025-1.128.605 1.513.221 2.64.111 2.915.701.77 1.127 1.747 1.127 2.956 0 4.222-2.571 5.157-5.019 5.432.399.344.743 1.004.743 2.035 0 1.471-.014 2.654-.014 3.025 0 .289.206.632.756.522C19.851 20.979 23 16.854 23 12c0-6.077-4.922-11-11-11Z"></path>
</svg>
      </a>

      <div class="d-flex flex-1 flex-order-2 text-right d-lg-none gap-2 flex-justify-end">
          <a
            href="/login?return_to=https%3A%2F%2Fgithub.com%2Fhkeasv%2FML-Examples%2Fblob%2Fmain%2FChap_10_MNIST_Fashion_Callbacks.ipynb"
            class="HeaderMenu-link HeaderMenu-button d-inline-flex f5 no-underline border color-border-default rounded-2 px-2 py-1 color-fg-inherit js-prevent-focus-on-mobile-nav"
            data-hydro-click="{&quot;event_type&quot;:&quot;authentication.click&quot;,&quot;payload&quot;:{&quot;location_in_page&quot;:&quot;site header menu&quot;,&quot;repository_id&quot;:null,&quot;auth_type&quot;:&quot;SIGN_UP&quot;,&quot;originating_url&quot;:&quot;https://github.com/hkeasv/ML-Examples/blob/main/Chap_10_MNIST_Fashion_Callbacks.ipynb&quot;,&quot;user_id&quot;:null}}" data-hydro-click-hmac="1faf36c999282069737dcd2a5801a0341ad7aac1118a2761de64a0e1d224fd23"
            data-analytics-event="{&quot;category&quot;:&quot;Marketing nav&quot;,&quot;action&quot;:&quot;click to Sign in&quot;,&quot;label&quot;:&quot;ref_page:Marketing;ref_cta:Sign in;ref_loc:Header&quot;}"
          >
            Sign in
          </a>
              <div class="AppHeader-appearanceSettings">
    <react-partial-anchor>
      <button data-target="react-partial-anchor.anchor" id="icon-button-5d5b07b6-d7c3-498a-91e6-48754cd82f65" aria-labelledby="tooltip-2f407d63-0086-4364-94ae-43e5945c94bf" type="button" disabled="disabled" data-view-component="true" class="Button Button--iconOnly Button--invisible Button--medium AppHeader-button HeaderMenu-link border cursor-wait">  <svg aria-hidden="true" height="16" viewBox="0 0 16 16" version="1.1" width="16" data-view-component="true" class="octicon octicon-sliders Button-visual">
    <path d="M15 2.75a.75.75 0 0 1-.75.75h-4a.75.75 0 0 1 0-1.5h4a.75.75 0 0 1 .75.75Zm-8.5.75v1.25a.75.75 0 0 0 1.5 0v-4a.75.75 0 0 0-1.5 0V2H1.75a.75.75 0 0 0 0 1.5H6.5Zm1.25 5.25a.75.75 0 0 0 0-1.5h-6a.75.75 0 0 0 0 1.5h6ZM15 8a.75.75 0 0 1-.75.75H11.5V10a.75.75 0 1 1-1.5 0V6a.75.75 0 0 1 1.5 0v1.25h2.75A.75.75 0 0 1 15 8Zm-9 5.25v-2a.75.75 0 0 0-1.5 0v1.25H1.75a.75.75 0 0 0 0 1.5H4.5v1.25a.75.75 0 0 0 1.5 0v-2Zm9 0a.75.75 0 0 1-.75.75h-6a.75.75 0 0 1 0-1.5h6a.75.75 0 0 1 .75.75Z"></path>
</svg>
</button><tool-tip id="tooltip-2f407d63-0086-4364-94ae-43e5945c94bf" for="icon-button-5d5b07b6-d7c3-498a-91e6-48754cd82f65" popover="manual" data-direction="s" data-type="label" data-view-component="true" class="sr-only position-absolute">Appearance settings</tool-tip>

      <template data-target="react-partial-anchor.template">
        <link crossorigin="anonymous" media="all" rel="stylesheet" href="https://github.githubassets.com/assets/primer-react.592b66644437c8ba4190.module.css" />
<link crossorigin="anonymous" media="all" rel="stylesheet" href="https://github.githubassets.com/assets/appearance-settings.6c63a6de228d6520804d.module.css" />

<react-partial
  partial-name="appearance-settings"
  data-ssr="false"
  data-attempted-ssr="false"
  data-react-profiling="false"
>
  
  <script type="application/json" data-target="react-partial.embeddedData">{"props":{}}</script>
  <div data-target="react-partial.reactRoot"></div>
</react-partial>


      </template>
    </react-partial-anchor>
  </div>

      </div>
    </div>


    <div class="HeaderMenu js-header-menu height-fit position-lg-relative d-lg-flex flex-column flex-auto top-0">
      <div class="HeaderMenu-wrapper d-flex flex-column flex-self-start flex-lg-row flex-auto rounded rounded-lg-0">
          <nav class="HeaderMenu-nav" aria-label="Global">
            <ul class="d-lg-flex list-style-none">
                <li class="HeaderMenu-item position-relative flex-wrap flex-justify-between flex-items-center d-block d-lg-flex flex-lg-nowrap flex-lg-items-center js-details-container js-header-menu-item">
      <button type="button" class="HeaderMenu-link border-0 width-full width-lg-auto px-0 px-lg-2 py-lg-2 no-wrap d-flex flex-items-center flex-justify-between js-details-target" aria-expanded="false">
        Platform
        <svg opacity="0.5" aria-hidden="true" height="16" viewBox="0 0 16 16" version="1.1" width="16" data-view-component="true" class="octicon octicon-chevron-down HeaderMenu-icon ml-1">
    <path d="M12.78 5.22a.749.749 0 0 1 0 1.06l-4.25 4.25a.749.749 0 0 1-1.06 0L3.22 6.28a.749.749 0 1 1 1.06-1.06L8 8.939l3.72-3.719a.749.749 0 0 1 1.06 0Z"></path>
</svg>
      </button>

      <div class="HeaderMenu-dropdown dropdown-menu rounded m-0 p-0 pt-2 pt-lg-4 position-relative position-lg-absolute left-0 left-lg-n3 dropdown-menu-wide">
        <div class="d-lg-flex dropdown-menu-wide">
            <div class="HeaderMenu-column px-lg-4">
                <div class="">

                  <ul class="list-style-none f5" >
                      <li>
  <a class="HeaderMenu-dropdown-link d-block no-underline position-relative py-2 Link--secondary d-flex flex-items-center Link--has-description mb-lg-3" data-analytics-event="{&quot;location&quot;:&quot;navbar&quot;,&quot;action&quot;:&quot;github_copilot&quot;,&quot;context&quot;:&quot;platform&quot;,&quot;tag&quot;:&quot;link&quot;,&quot;label&quot;:&quot;github_copilot_link_platform_navbar&quot;}" href="https://github.com/features/copilot">
      <svg aria-hidden="true" height="24" viewBox="0 0 24 24" version="1.1" width="24" data-view-component="true" class="octicon octicon-copilot color-fg-subtle mr-3">
    <path d="M23.922 16.992c-.861 1.495-5.859 5.023-11.922 5.023-6.063 0-11.061-3.528-11.922-5.023A.641.641 0 0 1 0 16.736v-2.869a.841.841 0 0 1 .053-.22c.372-.935 1.347-2.292 2.605-2.656.167-.429.414-1.055.644-1.517a10.195 10.195 0 0 1-.052-1.086c0-1.331.282-2.499 1.132-3.368.397-.406.89-.717 1.474-.952 1.399-1.136 3.392-2.093 6.122-2.093 2.731 0 4.767.957 6.166 2.093.584.235 1.077.546 1.474.952.85.869 1.132 2.037 1.132 3.368 0 .368-.014.733-.052 1.086.23.462.477 1.088.644 1.517 1.258.364 2.233 1.721 2.605 2.656a.832.832 0 0 1 .053.22v2.869a.641.641 0 0 1-.078.256ZM12.172 11h-.344a4.323 4.323 0 0 1-.355.508C10.703 12.455 9.555 13 7.965 13c-1.725 0-2.989-.359-3.782-1.259a2.005 2.005 0 0 1-.085-.104L4 11.741v6.585c1.435.779 4.514 2.179 8 2.179 3.486 0 6.565-1.4 8-2.179v-6.585l-.098-.104s-.033.045-.085.104c-.793.9-2.057 1.259-3.782 1.259-1.59 0-2.738-.545-3.508-1.492a4.323 4.323 0 0 1-.355-.508h-.016.016Zm.641-2.935c.136 1.057.403 1.913.878 2.497.442.544 1.134.938 2.344.938 1.573 0 2.292-.337 2.657-.751.384-.435.558-1.15.558-2.361 0-1.14-.243-1.847-.705-2.319-.477-.488-1.319-.862-2.824-1.025-1.487-.161-2.192.138-2.533.529-.269.307-.437.808-.438 1.578v.021c0 .265.021.562.063.893Zm-1.626 0c.042-.331.063-.628.063-.894v-.02c-.001-.77-.169-1.271-.438-1.578-.341-.391-1.046-.69-2.533-.529-1.505.163-2.347.537-2.824 1.025-.462.472-.705 1.179-.705 2.319 0 1.211.175 1.926.558 2.361.365.414 1.084.751 2.657.751 1.21 0 1.902-.394 2.344-.938.475-.584.742-1.44.878-2.497Z"></path><path d="M14.5 14.25a1 1 0 0 1 1 1v2a1 1 0 0 1-2 0v-2a1 1 0 0 1 1-1Zm-5 0a1 1 0 0 1 1 1v2a1 1 0 0 1-2 0v-2a1 1 0 0 1 1-1Z"></path>
</svg>
      <div>
        <div class="color-fg-default h4">
          GitHub Copilot

        </div>

        Write better code with AI
      </div>

    
</a></li>

                      <li>
  <a class="HeaderMenu-dropdown-link d-block no-underline position-relative py-2 Link--secondary d-flex flex-items-center Link--has-description mb-lg-3" data-analytics-event="{&quot;location&quot;:&quot;navbar&quot;,&quot;action&quot;:&quot;github_spark&quot;,&quot;context&quot;:&quot;platform&quot;,&quot;tag&quot;:&quot;link&quot;,&quot;label&quot;:&quot;github_spark_link_platform_navbar&quot;}" href="https://github.com/features/spark">
      <svg aria-hidden="true" height="24" viewBox="0 0 24 24" version="1.1" width="24" data-view-component="true" class="octicon octicon-sparkle-fill color-fg-subtle mr-3">
    <path d="M11.296 1.924c.24-.656 1.168-.656 1.408 0l.717 1.958a11.25 11.25 0 0 0 6.697 6.697l1.958.717c.657.24.657 1.168 0 1.408l-1.958.717a11.25 11.25 0 0 0-6.697 6.697l-.717 1.958c-.24.657-1.168.657-1.408 0l-.717-1.958a11.25 11.25 0 0 0-6.697-6.697l-1.958-.717c-.656-.24-.656-1.168 0-1.408l1.958-.717a11.25 11.25 0 0 0 6.697-6.697l.717-1.958Z"></path>
</svg>
      <div>
        <div class="color-fg-default h4">
          GitHub Spark

            <span class="HeaderMenu-label">
              New
            </span>
        </div>

        Build and deploy intelligent apps
      </div>

    
</a></li>

                      <li>
  <a class="HeaderMenu-dropdown-link d-block no-underline position-relative py-2 Link--secondary d-flex flex-items-center Link--has-description mb-lg-3" data-analytics-event="{&quot;location&quot;:&quot;navbar&quot;,&quot;action&quot;:&quot;github_models&quot;,&quot;context&quot;:&quot;platform&quot;,&quot;tag&quot;:&quot;link&quot;,&quot;label&quot;:&quot;github_models_link_platform_navbar&quot;}" href="https://github.com/features/models">
      <svg aria-hidden="true" height="24" viewBox="0 0 24 24" version="1.1" width="24" data-view-component="true" class="octicon octicon-ai-model color-fg-subtle mr-3">
    <path d="M19.375 8.5a3.25 3.25 0 1 1-3.163 4h-3a3.252 3.252 0 0 1-4.443 2.509L7.214 17.76a3.25 3.25 0 1 1-1.342-.674l1.672-2.957A3.238 3.238 0 0 1 6.75 12c0-.907.371-1.727.97-2.316L6.117 6.846A3.253 3.253 0 0 1 1.875 3.75a3.25 3.25 0 1 1 5.526 2.32l1.603 2.836A3.25 3.25 0 0 1 13.093 11h3.119a3.252 3.252 0 0 1 3.163-2.5ZM10 10.25a1.75 1.75 0 1 0-.001 3.499A1.75 1.75 0 0 0 10 10.25ZM5.125 2a1.75 1.75 0 1 0 0 3.5 1.75 1.75 0 0 0 0-3.5Zm12.5 9.75a1.75 1.75 0 1 0 3.5 0 1.75 1.75 0 0 0-3.5 0Zm-14.25 8.5a1.75 1.75 0 1 0 3.501-.001 1.75 1.75 0 0 0-3.501.001Z"></path>
</svg>
      <div>
        <div class="color-fg-default h4">
          GitHub Models

            <span class="HeaderMenu-label">
              New
            </span>
        </div>

        Manage and compare prompts
      </div>

    
</a></li>

                      <li>
  <a class="HeaderMenu-dropdown-link d-block no-underline position-relative py-2 Link--secondary d-flex flex-items-center Link--has-description mb-lg-3" data-analytics-event="{&quot;location&quot;:&quot;navbar&quot;,&quot;action&quot;:&quot;github_advanced_security&quot;,&quot;context&quot;:&quot;platform&quot;,&quot;tag&quot;:&quot;link&quot;,&quot;label&quot;:&quot;github_advanced_security_link_platform_navbar&quot;}" href="https://github.com/security/advanced-security">
      <svg aria-hidden="true" height="24" viewBox="0 0 24 24" version="1.1" width="24" data-view-component="true" class="octicon octicon-shield-check color-fg-subtle mr-3">
    <path d="M16.53 9.78a.75.75 0 0 0-1.06-1.06L11 13.19l-1.97-1.97a.75.75 0 0 0-1.06 1.06l2.5 2.5a.75.75 0 0 0 1.06 0l5-5Z"></path><path d="m12.54.637 8.25 2.675A1.75 1.75 0 0 1 22 4.976V10c0 6.19-3.771 10.704-9.401 12.83a1.704 1.704 0 0 1-1.198 0C5.77 20.705 2 16.19 2 10V4.976c0-.758.489-1.43 1.21-1.664L11.46.637a1.748 1.748 0 0 1 1.08 0Zm-.617 1.426-8.25 2.676a.249.249 0 0 0-.173.237V10c0 5.46 3.28 9.483 8.43 11.426a.199.199 0 0 0 .14 0C17.22 19.483 20.5 15.461 20.5 10V4.976a.25.25 0 0 0-.173-.237l-8.25-2.676a.253.253 0 0 0-.154 0Z"></path>
</svg>
      <div>
        <div class="color-fg-default h4">
          GitHub Advanced Security

        </div>

        Find and fix vulnerabilities
      </div>

    
</a></li>

                      <li>
  <a class="HeaderMenu-dropdown-link d-block no-underline position-relative py-2 Link--secondary d-flex flex-items-center Link--has-description" data-analytics-event="{&quot;location&quot;:&quot;navbar&quot;,&quot;action&quot;:&quot;actions&quot;,&quot;context&quot;:&quot;platform&quot;,&quot;tag&quot;:&quot;link&quot;,&quot;label&quot;:&quot;actions_link_platform_navbar&quot;}" href="https://github.com/features/actions">
      <svg aria-hidden="true" height="24" viewBox="0 0 24 24" version="1.1" width="24" data-view-component="true" class="octicon octicon-workflow color-fg-subtle mr-3">
    <path d="M1 3a2 2 0 0 1 2-2h6.5a2 2 0 0 1 2 2v6.5a2 2 0 0 1-2 2H7v4.063C7 16.355 7.644 17 8.438 17H12.5v-2.5a2 2 0 0 1 2-2H21a2 2 0 0 1 2 2V21a2 2 0 0 1-2 2h-6.5a2 2 0 0 1-2-2v-2.5H8.437A2.939 2.939 0 0 1 5.5 15.562V11.5H3a2 2 0 0 1-2-2Zm2-.5a.5.5 0 0 0-.5.5v6.5a.5.5 0 0 0 .5.5h6.5a.5.5 0 0 0 .5-.5V3a.5.5 0 0 0-.5-.5ZM14.5 14a.5.5 0 0 0-.5.5V21a.5.5 0 0 0 .5.5H21a.5.5 0 0 0 .5-.5v-6.5a.5.5 0 0 0-.5-.5Z"></path>
</svg>
      <div>
        <div class="color-fg-default h4">
          Actions

        </div>

        Automate any workflow
      </div>

    
</a></li>

                  </ul>
                </div>
            </div>
            <div class="HeaderMenu-column px-lg-4 pb-3 pb-lg-0 border-lg-right">
                <div class="border-bottom border-lg-bottom-0 pb-lg-0 pb-3">

                  <ul class="list-style-none f5" >
                      <li>
  <a class="HeaderMenu-dropdown-link d-block no-underline position-relative py-2 Link--secondary d-flex flex-items-center Link--has-description mb-lg-3" data-analytics-event="{&quot;location&quot;:&quot;navbar&quot;,&quot;action&quot;:&quot;codespaces&quot;,&quot;context&quot;:&quot;platform&quot;,&quot;tag&quot;:&quot;link&quot;,&quot;label&quot;:&quot;codespaces_link_platform_navbar&quot;}" href="https://github.com/features/codespaces">
      <svg aria-hidden="true" height="24" viewBox="0 0 24 24" version="1.1" width="24" data-view-component="true" class="octicon octicon-codespaces color-fg-subtle mr-3">
    <path d="M3.5 3.75C3.5 2.784 4.284 2 5.25 2h13.5c.966 0 1.75.784 1.75 1.75v7.5A1.75 1.75 0 0 1 18.75 13H5.25a1.75 1.75 0 0 1-1.75-1.75Zm-2 12c0-.966.784-1.75 1.75-1.75h17.5c.966 0 1.75.784 1.75 1.75v4a1.75 1.75 0 0 1-1.75 1.75H3.25a1.75 1.75 0 0 1-1.75-1.75ZM5.25 3.5a.25.25 0 0 0-.25.25v7.5c0 .138.112.25.25.25h13.5a.25.25 0 0 0 .25-.25v-7.5a.25.25 0 0 0-.25-.25Zm-2 12a.25.25 0 0 0-.25.25v4c0 .138.112.25.25.25h17.5a.25.25 0 0 0 .25-.25v-4a.25.25 0 0 0-.25-.25Z"></path><path d="M10 17.75a.75.75 0 0 1 .75-.75h6.5a.75.75 0 0 1 0 1.5h-6.5a.75.75 0 0 1-.75-.75Zm-4 0a.75.75 0 0 1 .75-.75h.5a.75.75 0 0 1 0 1.5h-.5a.75.75 0 0 1-.75-.75Z"></path>
</svg>
      <div>
        <div class="color-fg-default h4">
          Codespaces

        </div>

        Instant dev environments
      </div>

    
</a></li>

                      <li>
  <a class="HeaderMenu-dropdown-link d-block no-underline position-relative py-2 Link--secondary d-flex flex-items-center Link--has-description mb-lg-3" data-analytics-event="{&quot;location&quot;:&quot;navbar&quot;,&quot;action&quot;:&quot;issues&quot;,&quot;context&quot;:&quot;platform&quot;,&quot;tag&quot;:&quot;link&quot;,&quot;label&quot;:&quot;issues_link_platform_navbar&quot;}" href="https://github.com/features/issues">
      <svg aria-hidden="true" height="24" viewBox="0 0 24 24" version="1.1" width="24" data-view-component="true" class="octicon octicon-issue-opened color-fg-subtle mr-3">
    <path d="M12 1c6.075 0 11 4.925 11 11s-4.925 11-11 11S1 18.075 1 12 5.925 1 12 1ZM2.5 12a9.5 9.5 0 0 0 9.5 9.5 9.5 9.5 0 0 0 9.5-9.5A9.5 9.5 0 0 0 12 2.5 9.5 9.5 0 0 0 2.5 12Zm9.5 2a2 2 0 1 1-.001-3.999A2 2 0 0 1 12 14Z"></path>
</svg>
      <div>
        <div class="color-fg-default h4">
          Issues

        </div>

        Plan and track work
      </div>

    
</a></li>

                      <li>
  <a class="HeaderMenu-dropdown-link d-block no-underline position-relative py-2 Link--secondary d-flex flex-items-center Link--has-description mb-lg-3" data-analytics-event="{&quot;location&quot;:&quot;navbar&quot;,&quot;action&quot;:&quot;code_review&quot;,&quot;context&quot;:&quot;platform&quot;,&quot;tag&quot;:&quot;link&quot;,&quot;label&quot;:&quot;code_review_link_platform_navbar&quot;}" href="https://github.com/features/code-review">
      <svg aria-hidden="true" height="24" viewBox="0 0 24 24" version="1.1" width="24" data-view-component="true" class="octicon octicon-code-review color-fg-subtle mr-3">
    <path d="M10.3 6.74a.75.75 0 0 1-.04 1.06l-2.908 2.7 2.908 2.7a.75.75 0 1 1-1.02 1.1l-3.5-3.25a.75.75 0 0 1 0-1.1l3.5-3.25a.75.75 0 0 1 1.06.04Zm3.44 1.06a.75.75 0 1 1 1.02-1.1l3.5 3.25a.75.75 0 0 1 0 1.1l-3.5 3.25a.75.75 0 1 1-1.02-1.1l2.908-2.7-2.908-2.7Z"></path><path d="M1.5 4.25c0-.966.784-1.75 1.75-1.75h17.5c.966 0 1.75.784 1.75 1.75v12.5a1.75 1.75 0 0 1-1.75 1.75h-9.69l-3.573 3.573A1.458 1.458 0 0 1 5 21.043V18.5H3.25a1.75 1.75 0 0 1-1.75-1.75ZM3.25 4a.25.25 0 0 0-.25.25v12.5c0 .138.112.25.25.25h2.5a.75.75 0 0 1 .75.75v3.19l3.72-3.72a.749.749 0 0 1 .53-.22h10a.25.25 0 0 0 .25-.25V4.25a.25.25 0 0 0-.25-.25Z"></path>
</svg>
      <div>
        <div class="color-fg-default h4">
          Code Review

        </div>

        Manage code changes
      </div>

    
</a></li>

                      <li>
  <a class="HeaderMenu-dropdown-link d-block no-underline position-relative py-2 Link--secondary d-flex flex-items-center Link--has-description mb-lg-3" data-analytics-event="{&quot;location&quot;:&quot;navbar&quot;,&quot;action&quot;:&quot;discussions&quot;,&quot;context&quot;:&quot;platform&quot;,&quot;tag&quot;:&quot;link&quot;,&quot;label&quot;:&quot;discussions_link_platform_navbar&quot;}" href="https://github.com/features/discussions">
      <svg aria-hidden="true" height="24" viewBox="0 0 24 24" version="1.1" width="24" data-view-component="true" class="octicon octicon-comment-discussion color-fg-subtle mr-3">
    <path d="M1.75 1h12.5c.966 0 1.75.784 1.75 1.75v9.5A1.75 1.75 0 0 1 14.25 14H8.061l-2.574 2.573A1.458 1.458 0 0 1 3 15.543V14H1.75A1.75 1.75 0 0 1 0 12.25v-9.5C0 1.784.784 1 1.75 1ZM1.5 2.75v9.5c0 .138.112.25.25.25h2a.75.75 0 0 1 .75.75v2.19l2.72-2.72a.749.749 0 0 1 .53-.22h6.5a.25.25 0 0 0 .25-.25v-9.5a.25.25 0 0 0-.25-.25H1.75a.25.25 0 0 0-.25.25Z"></path><path d="M22.5 8.75a.25.25 0 0 0-.25-.25h-3.5a.75.75 0 0 1 0-1.5h3.5c.966 0 1.75.784 1.75 1.75v9.5A1.75 1.75 0 0 1 22.25 20H21v1.543a1.457 1.457 0 0 1-2.487 1.03L15.939 20H10.75A1.75 1.75 0 0 1 9 18.25v-1.465a.75.75 0 0 1 1.5 0v1.465c0 .138.112.25.25.25h5.5a.75.75 0 0 1 .53.22l2.72 2.72v-2.19a.75.75 0 0 1 .75-.75h2a.25.25 0 0 0 .25-.25v-9.5Z"></path>
</svg>
      <div>
        <div class="color-fg-default h4">
          Discussions

        </div>

        Collaborate outside of code
      </div>

    
</a></li>

                      <li>
  <a class="HeaderMenu-dropdown-link d-block no-underline position-relative py-2 Link--secondary d-flex flex-items-center Link--has-description" data-analytics-event="{&quot;location&quot;:&quot;navbar&quot;,&quot;action&quot;:&quot;code_search&quot;,&quot;context&quot;:&quot;platform&quot;,&quot;tag&quot;:&quot;link&quot;,&quot;label&quot;:&quot;code_search_link_platform_navbar&quot;}" href="https://github.com/features/code-search">
      <svg aria-hidden="true" height="24" viewBox="0 0 24 24" version="1.1" width="24" data-view-component="true" class="octicon octicon-code-square color-fg-subtle mr-3">
    <path d="M10.3 8.24a.75.75 0 0 1-.04 1.06L7.352 12l2.908 2.7a.75.75 0 1 1-1.02 1.1l-3.5-3.25a.75.75 0 0 1 0-1.1l3.5-3.25a.75.75 0 0 1 1.06.04Zm3.44 1.06a.75.75 0 1 1 1.02-1.1l3.5 3.25a.75.75 0 0 1 0 1.1l-3.5 3.25a.75.75 0 1 1-1.02-1.1l2.908-2.7-2.908-2.7Z"></path><path d="M2 3.75C2 2.784 2.784 2 3.75 2h16.5c.966 0 1.75.784 1.75 1.75v16.5A1.75 1.75 0 0 1 20.25 22H3.75A1.75 1.75 0 0 1 2 20.25Zm1.75-.25a.25.25 0 0 0-.25.25v16.5c0 .138.112.25.25.25h16.5a.25.25 0 0 0 .25-.25V3.75a.25.25 0 0 0-.25-.25Z"></path>
</svg>
      <div>
        <div class="color-fg-default h4">
          Code Search

        </div>

        Find more, search less
      </div>

    
</a></li>

                  </ul>
                </div>
            </div>
            <div class="HeaderMenu-column px-lg-4">
                <div class="border-bottom border-lg-bottom-0 pb-lg-0 mb-3 pb-3">

                      <span class="d-block h4 color-fg-default my-1" id="platform-explore-heading">Explore</span>

                  <ul class="list-style-none f5" aria-labelledby="platform-explore-heading">
                      <li>
  <a class="HeaderMenu-dropdown-link d-block no-underline position-relative py-2 Link--secondary" data-analytics-event="{&quot;location&quot;:&quot;navbar&quot;,&quot;action&quot;:&quot;why_github&quot;,&quot;context&quot;:&quot;platform&quot;,&quot;tag&quot;:&quot;link&quot;,&quot;label&quot;:&quot;why_github_link_platform_navbar&quot;}" href="https://github.com/why-github">
      Why GitHub

    
</a></li>

                      <li>
  <a class="HeaderMenu-dropdown-link d-block no-underline position-relative py-2 Link--secondary Link--external" target="_blank" data-analytics-event="{&quot;location&quot;:&quot;navbar&quot;,&quot;action&quot;:&quot;documentation&quot;,&quot;context&quot;:&quot;platform&quot;,&quot;tag&quot;:&quot;link&quot;,&quot;label&quot;:&quot;documentation_link_platform_navbar&quot;}" href="https://docs.github.com">
      Documentation

    <svg aria-hidden="true" height="16" viewBox="0 0 16 16" version="1.1" width="16" data-view-component="true" class="octicon octicon-link-external HeaderMenu-external-icon color-fg-subtle">
    <path d="M3.75 2h3.5a.75.75 0 0 1 0 1.5h-3.5a.25.25 0 0 0-.25.25v8.5c0 .138.112.25.25.25h8.5a.25.25 0 0 0 .25-.25v-3.5a.75.75 0 0 1 1.5 0v3.5A1.75 1.75 0 0 1 12.25 14h-8.5A1.75 1.75 0 0 1 2 12.25v-8.5C2 2.784 2.784 2 3.75 2Zm6.854-1h4.146a.25.25 0 0 1 .25.25v4.146a.25.25 0 0 1-.427.177L13.03 4.03 9.28 7.78a.751.751 0 0 1-1.042-.018.751.751 0 0 1-.018-1.042l3.75-3.75-1.543-1.543A.25.25 0 0 1 10.604 1Z"></path>
</svg>
</a></li>

                      <li>
  <a class="HeaderMenu-dropdown-link d-block no-underline position-relative py-2 Link--secondary Link--external" target="_blank" data-analytics-event="{&quot;location&quot;:&quot;navbar&quot;,&quot;action&quot;:&quot;github_skills&quot;,&quot;context&quot;:&quot;platform&quot;,&quot;tag&quot;:&quot;link&quot;,&quot;label&quot;:&quot;github_skills_link_platform_navbar&quot;}" href="https://skills.github.com">
      GitHub Skills

    <svg aria-hidden="true" height="16" viewBox="0 0 16 16" version="1.1" width="16" data-view-component="true" class="octicon octicon-link-external HeaderMenu-external-icon color-fg-subtle">
    <path d="M3.75 2h3.5a.75.75 0 0 1 0 1.5h-3.5a.25.25 0 0 0-.25.25v8.5c0 .138.112.25.25.25h8.5a.25.25 0 0 0 .25-.25v-3.5a.75.75 0 0 1 1.5 0v3.5A1.75 1.75 0 0 1 12.25 14h-8.5A1.75 1.75 0 0 1 2 12.25v-8.5C2 2.784 2.784 2 3.75 2Zm6.854-1h4.146a.25.25 0 0 1 .25.25v4.146a.25.25 0 0 1-.427.177L13.03 4.03 9.28 7.78a.751.751 0 0 1-1.042-.018.751.751 0 0 1-.018-1.042l3.75-3.75-1.543-1.543A.25.25 0 0 1 10.604 1Z"></path>
</svg>
</a></li>

                      <li>
  <a class="HeaderMenu-dropdown-link d-block no-underline position-relative py-2 Link--secondary Link--external" target="_blank" data-analytics-event="{&quot;location&quot;:&quot;navbar&quot;,&quot;action&quot;:&quot;blog&quot;,&quot;context&quot;:&quot;platform&quot;,&quot;tag&quot;:&quot;link&quot;,&quot;label&quot;:&quot;blog_link_platform_navbar&quot;}" href="https://github.blog">
      Blog

    <svg aria-hidden="true" height="16" viewBox="0 0 16 16" version="1.1" width="16" data-view-component="true" class="octicon octicon-link-external HeaderMenu-external-icon color-fg-subtle">
    <path d="M3.75 2h3.5a.75.75 0 0 1 0 1.5h-3.5a.25.25 0 0 0-.25.25v8.5c0 .138.112.25.25.25h8.5a.25.25 0 0 0 .25-.25v-3.5a.75.75 0 0 1 1.5 0v3.5A1.75 1.75 0 0 1 12.25 14h-8.5A1.75 1.75 0 0 1 2 12.25v-8.5C2 2.784 2.784 2 3.75 2Zm6.854-1h4.146a.25.25 0 0 1 .25.25v4.146a.25.25 0 0 1-.427.177L13.03 4.03 9.28 7.78a.751.751 0 0 1-1.042-.018.751.751 0 0 1-.018-1.042l3.75-3.75-1.543-1.543A.25.25 0 0 1 10.604 1Z"></path>
</svg>
</a></li>

                  </ul>
                </div>
                <div class="border-bottom border-lg-bottom-0 pb-lg-0 pb-3">

                      <span class="d-block h4 color-fg-default my-1" id="platform-integrations-heading">Integrations</span>

                  <ul class="list-style-none f5" aria-labelledby="platform-integrations-heading">
                      <li>
  <a class="HeaderMenu-dropdown-link d-block no-underline position-relative py-2 Link--secondary" data-analytics-event="{&quot;location&quot;:&quot;navbar&quot;,&quot;action&quot;:&quot;github_marketplace&quot;,&quot;context&quot;:&quot;platform&quot;,&quot;tag&quot;:&quot;link&quot;,&quot;label&quot;:&quot;github_marketplace_link_platform_navbar&quot;}" href="https://github.com/marketplace">
      GitHub Marketplace

    
</a></li>

                      <li>
  <a class="HeaderMenu-dropdown-link d-block no-underline position-relative py-2 Link--secondary" data-analytics-event="{&quot;location&quot;:&quot;navbar&quot;,&quot;action&quot;:&quot;mcp_registry&quot;,&quot;context&quot;:&quot;platform&quot;,&quot;tag&quot;:&quot;link&quot;,&quot;label&quot;:&quot;mcp_registry_link_platform_navbar&quot;}" href="https://github.com/mcp">
      MCP Registry

    
</a></li>

                  </ul>
                </div>
            </div>
        </div>

          <div class="HeaderMenu-trailing-link rounded-bottom-2 mt-lg-4 px-lg-4 py-4 py-lg-3 f5 text-semibold">
            <a data-analytics-event="{&quot;location&quot;:&quot;navbar&quot;,&quot;action&quot;:&quot;view_all_features&quot;,&quot;context&quot;:&quot;platform&quot;,&quot;tag&quot;:&quot;link&quot;,&quot;label&quot;:&quot;view_all_features_link_platform_navbar&quot;}" href="https://github.com/features">
              View all features
              <svg aria-hidden="true" height="16" viewBox="0 0 16 16" version="1.1" width="16" data-view-component="true" class="octicon octicon-chevron-right HeaderMenu-trailing-link-icon">
    <path d="M6.22 3.22a.75.75 0 0 1 1.06 0l4.25 4.25a.75.75 0 0 1 0 1.06l-4.25 4.25a.751.751 0 0 1-1.042-.018.751.751 0 0 1-.018-1.042L9.94 8 6.22 4.28a.75.75 0 0 1 0-1.06Z"></path>
</svg>
</a>          </div>
      </div>
</li>


                <li class="HeaderMenu-item position-relative flex-wrap flex-justify-between flex-items-center d-block d-lg-flex flex-lg-nowrap flex-lg-items-center js-details-container js-header-menu-item">
      <button type="button" class="HeaderMenu-link border-0 width-full width-lg-auto px-0 px-lg-2 py-lg-2 no-wrap d-flex flex-items-center flex-justify-between js-details-target" aria-expanded="false">
        Solutions
        <svg opacity="0.5" aria-hidden="true" height="16" viewBox="0 0 16 16" version="1.1" width="16" data-view-component="true" class="octicon octicon-chevron-down HeaderMenu-icon ml-1">
    <path d="M12.78 5.22a.749.749 0 0 1 0 1.06l-4.25 4.25a.749.749 0 0 1-1.06 0L3.22 6.28a.749.749 0 1 1 1.06-1.06L8 8.939l3.72-3.719a.749.749 0 0 1 1.06 0Z"></path>
</svg>
      </button>

      <div class="HeaderMenu-dropdown dropdown-menu rounded m-0 p-0 pt-2 pt-lg-4 position-relative position-lg-absolute left-0 left-lg-n3 dropdown-menu-wide">
        <div class="d-lg-flex dropdown-menu-wide">
            <div class="HeaderMenu-column px-lg-4 pb-3 pb-lg-0 border-lg-right">
                <div class="border-bottom border-lg-bottom-0 pb-lg-0 pb-3">

                      <span class="d-block h4 color-fg-default my-1" id="solutions-by-company-size-heading">By company size</span>

                  <ul class="list-style-none f5" aria-labelledby="solutions-by-company-size-heading">
                      <li>
  <a class="HeaderMenu-dropdown-link d-block no-underline position-relative py-2 Link--secondary" data-analytics-event="{&quot;location&quot;:&quot;navbar&quot;,&quot;action&quot;:&quot;enterprises&quot;,&quot;context&quot;:&quot;solutions&quot;,&quot;tag&quot;:&quot;link&quot;,&quot;label&quot;:&quot;enterprises_link_solutions_navbar&quot;}" href="https://github.com/enterprise">
      Enterprises

    
</a></li>

                      <li>
  <a class="HeaderMenu-dropdown-link d-block no-underline position-relative py-2 Link--secondary" data-analytics-event="{&quot;location&quot;:&quot;navbar&quot;,&quot;action&quot;:&quot;small_and_medium_teams&quot;,&quot;context&quot;:&quot;solutions&quot;,&quot;tag&quot;:&quot;link&quot;,&quot;label&quot;:&quot;small_and_medium_teams_link_solutions_navbar&quot;}" href="https://github.com/team">
      Small and medium teams

    
</a></li>

                      <li>
  <a class="HeaderMenu-dropdown-link d-block no-underline position-relative py-2 Link--secondary" data-analytics-event="{&quot;location&quot;:&quot;navbar&quot;,&quot;action&quot;:&quot;startups&quot;,&quot;context&quot;:&quot;solutions&quot;,&quot;tag&quot;:&quot;link&quot;,&quot;label&quot;:&quot;startups_link_solutions_navbar&quot;}" href="https://github.com/enterprise/startups">
      Startups

    
</a></li>

                      <li>
  <a class="HeaderMenu-dropdown-link d-block no-underline position-relative py-2 Link--secondary" data-analytics-event="{&quot;location&quot;:&quot;navbar&quot;,&quot;action&quot;:&quot;nonprofits&quot;,&quot;context&quot;:&quot;solutions&quot;,&quot;tag&quot;:&quot;link&quot;,&quot;label&quot;:&quot;nonprofits_link_solutions_navbar&quot;}" href="/solutions/industry/nonprofits">
      Nonprofits

    
</a></li>

                  </ul>
                </div>
            </div>
            <div class="HeaderMenu-column px-lg-4 pb-3 pb-lg-0 border-lg-right">
                <div class="border-bottom border-lg-bottom-0 pb-lg-0 pb-3">

                      <span class="d-block h4 color-fg-default my-1" id="solutions-by-use-case-heading">By use case</span>

                  <ul class="list-style-none f5" aria-labelledby="solutions-by-use-case-heading">
                      <li>
  <a class="HeaderMenu-dropdown-link d-block no-underline position-relative py-2 Link--secondary" data-analytics-event="{&quot;location&quot;:&quot;navbar&quot;,&quot;action&quot;:&quot;app_modernization&quot;,&quot;context&quot;:&quot;solutions&quot;,&quot;tag&quot;:&quot;link&quot;,&quot;label&quot;:&quot;app_modernization_link_solutions_navbar&quot;}" href="/solutions/use-case/app-modernization">
      App Modernization

    
</a></li>

                      <li>
  <a class="HeaderMenu-dropdown-link d-block no-underline position-relative py-2 Link--secondary" data-analytics-event="{&quot;location&quot;:&quot;navbar&quot;,&quot;action&quot;:&quot;devsecops&quot;,&quot;context&quot;:&quot;solutions&quot;,&quot;tag&quot;:&quot;link&quot;,&quot;label&quot;:&quot;devsecops_link_solutions_navbar&quot;}" href="/solutions/use-case/devsecops">
      DevSecOps

    
</a></li>

                      <li>
  <a class="HeaderMenu-dropdown-link d-block no-underline position-relative py-2 Link--secondary" data-analytics-event="{&quot;location&quot;:&quot;navbar&quot;,&quot;action&quot;:&quot;devops&quot;,&quot;context&quot;:&quot;solutions&quot;,&quot;tag&quot;:&quot;link&quot;,&quot;label&quot;:&quot;devops_link_solutions_navbar&quot;}" href="/solutions/use-case/devops">
      DevOps

    
</a></li>

                      <li>
  <a class="HeaderMenu-dropdown-link d-block no-underline position-relative py-2 Link--secondary" data-analytics-event="{&quot;location&quot;:&quot;navbar&quot;,&quot;action&quot;:&quot;ci_cd&quot;,&quot;context&quot;:&quot;solutions&quot;,&quot;tag&quot;:&quot;link&quot;,&quot;label&quot;:&quot;ci_cd_link_solutions_navbar&quot;}" href="/solutions/use-case/ci-cd">
      CI/CD

    
</a></li>

                      <li>
  <a class="HeaderMenu-dropdown-link d-block no-underline position-relative py-2 Link--secondary" data-analytics-event="{&quot;location&quot;:&quot;navbar&quot;,&quot;action&quot;:&quot;view_all_use_cases&quot;,&quot;context&quot;:&quot;solutions&quot;,&quot;tag&quot;:&quot;link&quot;,&quot;label&quot;:&quot;view_all_use_cases_link_solutions_navbar&quot;}" href="/solutions/use-case">
      View all use cases

    
</a></li>

                  </ul>
                </div>
            </div>
            <div class="HeaderMenu-column px-lg-4">
                <div class="border-bottom border-lg-bottom-0 pb-lg-0 pb-3">

                      <span class="d-block h4 color-fg-default my-1" id="solutions-by-industry-heading">By industry</span>

                  <ul class="list-style-none f5" aria-labelledby="solutions-by-industry-heading">
                      <li>
  <a class="HeaderMenu-dropdown-link d-block no-underline position-relative py-2 Link--secondary" data-analytics-event="{&quot;location&quot;:&quot;navbar&quot;,&quot;action&quot;:&quot;healthcare&quot;,&quot;context&quot;:&quot;solutions&quot;,&quot;tag&quot;:&quot;link&quot;,&quot;label&quot;:&quot;healthcare_link_solutions_navbar&quot;}" href="/solutions/industry/healthcare">
      Healthcare

    
</a></li>

                      <li>
  <a class="HeaderMenu-dropdown-link d-block no-underline position-relative py-2 Link--secondary" data-analytics-event="{&quot;location&quot;:&quot;navbar&quot;,&quot;action&quot;:&quot;financial_services&quot;,&quot;context&quot;:&quot;solutions&quot;,&quot;tag&quot;:&quot;link&quot;,&quot;label&quot;:&quot;financial_services_link_solutions_navbar&quot;}" href="/solutions/industry/financial-services">
      Financial services

    
</a></li>

                      <li>
  <a class="HeaderMenu-dropdown-link d-block no-underline position-relative py-2 Link--secondary" data-analytics-event="{&quot;location&quot;:&quot;navbar&quot;,&quot;action&quot;:&quot;manufacturing&quot;,&quot;context&quot;:&quot;solutions&quot;,&quot;tag&quot;:&quot;link&quot;,&quot;label&quot;:&quot;manufacturing_link_solutions_navbar&quot;}" href="/solutions/industry/manufacturing">
      Manufacturing

    
</a></li>

                      <li>
  <a class="HeaderMenu-dropdown-link d-block no-underline position-relative py-2 Link--secondary" data-analytics-event="{&quot;location&quot;:&quot;navbar&quot;,&quot;action&quot;:&quot;government&quot;,&quot;context&quot;:&quot;solutions&quot;,&quot;tag&quot;:&quot;link&quot;,&quot;label&quot;:&quot;government_link_solutions_navbar&quot;}" href="/solutions/industry/government">
      Government

    
</a></li>

                      <li>
  <a class="HeaderMenu-dropdown-link d-block no-underline position-relative py-2 Link--secondary" data-analytics-event="{&quot;location&quot;:&quot;navbar&quot;,&quot;action&quot;:&quot;view_all_industries&quot;,&quot;context&quot;:&quot;solutions&quot;,&quot;tag&quot;:&quot;link&quot;,&quot;label&quot;:&quot;view_all_industries_link_solutions_navbar&quot;}" href="/solutions/industry">
      View all industries

    
</a></li>

                  </ul>
                </div>
            </div>
        </div>

          <div class="HeaderMenu-trailing-link rounded-bottom-2 mt-lg-4 px-lg-4 py-4 py-lg-3 f5 text-semibold">
            <a data-analytics-event="{&quot;location&quot;:&quot;navbar&quot;,&quot;action&quot;:&quot;view_all_solutions&quot;,&quot;context&quot;:&quot;solutions&quot;,&quot;tag&quot;:&quot;link&quot;,&quot;label&quot;:&quot;view_all_solutions_link_solutions_navbar&quot;}" href="/solutions">
              View all solutions
              <svg aria-hidden="true" height="16" viewBox="0 0 16 16" version="1.1" width="16" data-view-component="true" class="octicon octicon-chevron-right HeaderMenu-trailing-link-icon">
    <path d="M6.22 3.22a.75.75 0 0 1 1.06 0l4.25 4.25a.75.75 0 0 1 0 1.06l-4.25 4.25a.751.751 0 0 1-1.042-.018.751.751 0 0 1-.018-1.042L9.94 8 6.22 4.28a.75.75 0 0 1 0-1.06Z"></path>
</svg>
</a>          </div>
      </div>
</li>


                <li class="HeaderMenu-item position-relative flex-wrap flex-justify-between flex-items-center d-block d-lg-flex flex-lg-nowrap flex-lg-items-center js-details-container js-header-menu-item">
      <button type="button" class="HeaderMenu-link border-0 width-full width-lg-auto px-0 px-lg-2 py-lg-2 no-wrap d-flex flex-items-center flex-justify-between js-details-target" aria-expanded="false">
        Resources
        <svg opacity="0.5" aria-hidden="true" height="16" viewBox="0 0 16 16" version="1.1" width="16" data-view-component="true" class="octicon octicon-chevron-down HeaderMenu-icon ml-1">
    <path d="M12.78 5.22a.749.749 0 0 1 0 1.06l-4.25 4.25a.749.749 0 0 1-1.06 0L3.22 6.28a.749.749 0 1 1 1.06-1.06L8 8.939l3.72-3.719a.749.749 0 0 1 1.06 0Z"></path>
</svg>
      </button>

      <div class="HeaderMenu-dropdown dropdown-menu rounded m-0 p-0 pt-2 pt-lg-4 position-relative position-lg-absolute left-0 left-lg-n3 pb-2 pb-lg-4 dropdown-menu-wide">
        <div class="d-lg-flex dropdown-menu-wide">
            <div class="HeaderMenu-column px-lg-4 pb-3 pb-lg-0 border-lg-right">
                <div class="border-bottom border-lg-bottom-0 pb-lg-0 pb-3">

                      <span class="d-block h4 color-fg-default my-1" id="resources-topics-heading">Topics</span>

                  <ul class="list-style-none f5" aria-labelledby="resources-topics-heading">
                      <li>
  <a class="HeaderMenu-dropdown-link d-block no-underline position-relative py-2 Link--secondary" data-analytics-event="{&quot;location&quot;:&quot;navbar&quot;,&quot;action&quot;:&quot;ai&quot;,&quot;context&quot;:&quot;resources&quot;,&quot;tag&quot;:&quot;link&quot;,&quot;label&quot;:&quot;ai_link_resources_navbar&quot;}" href="/resources/articles/ai">
      AI

    
</a></li>

                      <li>
  <a class="HeaderMenu-dropdown-link d-block no-underline position-relative py-2 Link--secondary" data-analytics-event="{&quot;location&quot;:&quot;navbar&quot;,&quot;action&quot;:&quot;devops&quot;,&quot;context&quot;:&quot;resources&quot;,&quot;tag&quot;:&quot;link&quot;,&quot;label&quot;:&quot;devops_link_resources_navbar&quot;}" href="/resources/articles/devops">
      DevOps

    
</a></li>

                      <li>
  <a class="HeaderMenu-dropdown-link d-block no-underline position-relative py-2 Link--secondary" data-analytics-event="{&quot;location&quot;:&quot;navbar&quot;,&quot;action&quot;:&quot;security&quot;,&quot;context&quot;:&quot;resources&quot;,&quot;tag&quot;:&quot;link&quot;,&quot;label&quot;:&quot;security_link_resources_navbar&quot;}" href="/resources/articles/security">
      Security

    
</a></li>

                      <li>
  <a class="HeaderMenu-dropdown-link d-block no-underline position-relative py-2 Link--secondary" data-analytics-event="{&quot;location&quot;:&quot;navbar&quot;,&quot;action&quot;:&quot;software_development&quot;,&quot;context&quot;:&quot;resources&quot;,&quot;tag&quot;:&quot;link&quot;,&quot;label&quot;:&quot;software_development_link_resources_navbar&quot;}" href="/resources/articles/software-development">
      Software Development

    
</a></li>

                      <li>
  <a class="HeaderMenu-dropdown-link d-block no-underline position-relative py-2 Link--secondary" data-analytics-event="{&quot;location&quot;:&quot;navbar&quot;,&quot;action&quot;:&quot;view_all&quot;,&quot;context&quot;:&quot;resources&quot;,&quot;tag&quot;:&quot;link&quot;,&quot;label&quot;:&quot;view_all_link_resources_navbar&quot;}" href="/resources/articles">
      View all

    
</a></li>

                  </ul>
                </div>
            </div>
            <div class="HeaderMenu-column px-lg-4">
                <div class="border-bottom border-lg-bottom-0 pb-lg-0 border-bottom-0">

                      <span class="d-block h4 color-fg-default my-1" id="resources-explore-heading">Explore</span>

                  <ul class="list-style-none f5" aria-labelledby="resources-explore-heading">
                      <li>
  <a class="HeaderMenu-dropdown-link d-block no-underline position-relative py-2 Link--secondary Link--external" target="_blank" data-analytics-event="{&quot;location&quot;:&quot;navbar&quot;,&quot;action&quot;:&quot;learning_pathways&quot;,&quot;context&quot;:&quot;resources&quot;,&quot;tag&quot;:&quot;link&quot;,&quot;label&quot;:&quot;learning_pathways_link_resources_navbar&quot;}" href="https://resources.github.com/learn/pathways">
      Learning Pathways

    <svg aria-hidden="true" height="16" viewBox="0 0 16 16" version="1.1" width="16" data-view-component="true" class="octicon octicon-link-external HeaderMenu-external-icon color-fg-subtle">
    <path d="M3.75 2h3.5a.75.75 0 0 1 0 1.5h-3.5a.25.25 0 0 0-.25.25v8.5c0 .138.112.25.25.25h8.5a.25.25 0 0 0 .25-.25v-3.5a.75.75 0 0 1 1.5 0v3.5A1.75 1.75 0 0 1 12.25 14h-8.5A1.75 1.75 0 0 1 2 12.25v-8.5C2 2.784 2.784 2 3.75 2Zm6.854-1h4.146a.25.25 0 0 1 .25.25v4.146a.25.25 0 0 1-.427.177L13.03 4.03 9.28 7.78a.751.751 0 0 1-1.042-.018.751.751 0 0 1-.018-1.042l3.75-3.75-1.543-1.543A.25.25 0 0 1 10.604 1Z"></path>
</svg>
</a></li>

                      <li>
  <a class="HeaderMenu-dropdown-link d-block no-underline position-relative py-2 Link--secondary" data-analytics-event="{&quot;location&quot;:&quot;navbar&quot;,&quot;action&quot;:&quot;events_amp_webinars&quot;,&quot;context&quot;:&quot;resources&quot;,&quot;tag&quot;:&quot;link&quot;,&quot;label&quot;:&quot;events_amp_webinars_link_resources_navbar&quot;}" href="https://github.com/resources/events">
      Events &amp; Webinars

    
</a></li>

                      <li>
  <a class="HeaderMenu-dropdown-link d-block no-underline position-relative py-2 Link--secondary" data-analytics-event="{&quot;location&quot;:&quot;navbar&quot;,&quot;action&quot;:&quot;ebooks_amp_whitepapers&quot;,&quot;context&quot;:&quot;resources&quot;,&quot;tag&quot;:&quot;link&quot;,&quot;label&quot;:&quot;ebooks_amp_whitepapers_link_resources_navbar&quot;}" href="https://github.com/resources/whitepapers">
      Ebooks &amp; Whitepapers

    
</a></li>

                      <li>
  <a class="HeaderMenu-dropdown-link d-block no-underline position-relative py-2 Link--secondary" data-analytics-event="{&quot;location&quot;:&quot;navbar&quot;,&quot;action&quot;:&quot;customer_stories&quot;,&quot;context&quot;:&quot;resources&quot;,&quot;tag&quot;:&quot;link&quot;,&quot;label&quot;:&quot;customer_stories_link_resources_navbar&quot;}" href="https://github.com/customer-stories">
      Customer Stories

    
</a></li>

                      <li>
  <a class="HeaderMenu-dropdown-link d-block no-underline position-relative py-2 Link--secondary Link--external" target="_blank" data-analytics-event="{&quot;location&quot;:&quot;navbar&quot;,&quot;action&quot;:&quot;partners&quot;,&quot;context&quot;:&quot;resources&quot;,&quot;tag&quot;:&quot;link&quot;,&quot;label&quot;:&quot;partners_link_resources_navbar&quot;}" href="https://partner.github.com">
      Partners

    <svg aria-hidden="true" height="16" viewBox="0 0 16 16" version="1.1" width="16" data-view-component="true" class="octicon octicon-link-external HeaderMenu-external-icon color-fg-subtle">
    <path d="M3.75 2h3.5a.75.75 0 0 1 0 1.5h-3.5a.25.25 0 0 0-.25.25v8.5c0 .138.112.25.25.25h8.5a.25.25 0 0 0 .25-.25v-3.5a.75.75 0 0 1 1.5 0v3.5A1.75 1.75 0 0 1 12.25 14h-8.5A1.75 1.75 0 0 1 2 12.25v-8.5C2 2.784 2.784 2 3.75 2Zm6.854-1h4.146a.25.25 0 0 1 .25.25v4.146a.25.25 0 0 1-.427.177L13.03 4.03 9.28 7.78a.751.751 0 0 1-1.042-.018.751.751 0 0 1-.018-1.042l3.75-3.75-1.543-1.543A.25.25 0 0 1 10.604 1Z"></path>
</svg>
</a></li>

                      <li>
  <a class="HeaderMenu-dropdown-link d-block no-underline position-relative py-2 Link--secondary" data-analytics-event="{&quot;location&quot;:&quot;navbar&quot;,&quot;action&quot;:&quot;executive_insights&quot;,&quot;context&quot;:&quot;resources&quot;,&quot;tag&quot;:&quot;link&quot;,&quot;label&quot;:&quot;executive_insights_link_resources_navbar&quot;}" href="https://github.com/solutions/executive-insights">
      Executive Insights

    
</a></li>

                  </ul>
                </div>
            </div>
        </div>

      </div>
</li>


                <li class="HeaderMenu-item position-relative flex-wrap flex-justify-between flex-items-center d-block d-lg-flex flex-lg-nowrap flex-lg-items-center js-details-container js-header-menu-item">
      <button type="button" class="HeaderMenu-link border-0 width-full width-lg-auto px-0 px-lg-2 py-lg-2 no-wrap d-flex flex-items-center flex-justify-between js-details-target" aria-expanded="false">
        Open Source
        <svg opacity="0.5" aria-hidden="true" height="16" viewBox="0 0 16 16" version="1.1" width="16" data-view-component="true" class="octicon octicon-chevron-down HeaderMenu-icon ml-1">
    <path d="M12.78 5.22a.749.749 0 0 1 0 1.06l-4.25 4.25a.749.749 0 0 1-1.06 0L3.22 6.28a.749.749 0 1 1 1.06-1.06L8 8.939l3.72-3.719a.749.749 0 0 1 1.06 0Z"></path>
</svg>
      </button>

      <div class="HeaderMenu-dropdown dropdown-menu rounded m-0 p-0 pt-2 pt-lg-4 position-relative position-lg-absolute left-0 left-lg-n3 pb-2 pb-lg-4">
        <div class="d-lg-flex dropdown-menu-wide">
            <div class="HeaderMenu-column px-lg-4">
                <div class="border-bottom mb-3 mb-lg-3 pb-3">

                  <ul class="list-style-none f5" >
                      <li>
  <a class="HeaderMenu-dropdown-link d-block no-underline position-relative py-2 Link--secondary d-flex flex-items-center Link--has-description" data-analytics-event="{&quot;location&quot;:&quot;navbar&quot;,&quot;action&quot;:&quot;github_sponsors&quot;,&quot;context&quot;:&quot;open_source&quot;,&quot;tag&quot;:&quot;link&quot;,&quot;label&quot;:&quot;github_sponsors_link_open_source_navbar&quot;}" href="/sponsors">
      
      <div>
        <div class="color-fg-default h4">
          GitHub Sponsors

        </div>

        Fund open source developers
      </div>

    
</a></li>

                  </ul>
                </div>
                <div class="border-bottom mb-3 mb-lg-3 pb-3">

                  <ul class="list-style-none f5" >
                      <li>
  <a class="HeaderMenu-dropdown-link d-block no-underline position-relative py-2 Link--secondary d-flex flex-items-center Link--has-description" data-analytics-event="{&quot;location&quot;:&quot;navbar&quot;,&quot;action&quot;:&quot;the_readme_project&quot;,&quot;context&quot;:&quot;open_source&quot;,&quot;tag&quot;:&quot;link&quot;,&quot;label&quot;:&quot;the_readme_project_link_open_source_navbar&quot;}" href="https://github.com/readme">
      
      <div>
        <div class="color-fg-default h4">
          The ReadME Project

        </div>

        GitHub community articles
      </div>

    
</a></li>

                  </ul>
                </div>
                <div class="border-bottom border-bottom-0">

                      <span class="d-block h4 color-fg-default my-1" id="open-source-repositories-heading">Repositories</span>

                  <ul class="list-style-none f5" aria-labelledby="open-source-repositories-heading">
                      <li>
  <a class="HeaderMenu-dropdown-link d-block no-underline position-relative py-2 Link--secondary" data-analytics-event="{&quot;location&quot;:&quot;navbar&quot;,&quot;action&quot;:&quot;topics&quot;,&quot;context&quot;:&quot;open_source&quot;,&quot;tag&quot;:&quot;link&quot;,&quot;label&quot;:&quot;topics_link_open_source_navbar&quot;}" href="https://github.com/topics">
      Topics

    
</a></li>

                      <li>
  <a class="HeaderMenu-dropdown-link d-block no-underline position-relative py-2 Link--secondary" data-analytics-event="{&quot;location&quot;:&quot;navbar&quot;,&quot;action&quot;:&quot;trending&quot;,&quot;context&quot;:&quot;open_source&quot;,&quot;tag&quot;:&quot;link&quot;,&quot;label&quot;:&quot;trending_link_open_source_navbar&quot;}" href="https://github.com/trending">
      Trending

    
</a></li>

                      <li>
  <a class="HeaderMenu-dropdown-link d-block no-underline position-relative py-2 Link--secondary" data-analytics-event="{&quot;location&quot;:&quot;navbar&quot;,&quot;action&quot;:&quot;collections&quot;,&quot;context&quot;:&quot;open_source&quot;,&quot;tag&quot;:&quot;link&quot;,&quot;label&quot;:&quot;collections_link_open_source_navbar&quot;}" href="https://github.com/collections">
      Collections

    
</a></li>

                  </ul>
                </div>
            </div>
        </div>

      </div>
</li>


                <li class="HeaderMenu-item position-relative flex-wrap flex-justify-between flex-items-center d-block d-lg-flex flex-lg-nowrap flex-lg-items-center js-details-container js-header-menu-item">
      <button type="button" class="HeaderMenu-link border-0 width-full width-lg-auto px-0 px-lg-2 py-lg-2 no-wrap d-flex flex-items-center flex-justify-between js-details-target" aria-expanded="false">
        Enterprise
        <svg opacity="0.5" aria-hidden="true" height="16" viewBox="0 0 16 16" version="1.1" width="16" data-view-component="true" class="octicon octicon-chevron-down HeaderMenu-icon ml-1">
    <path d="M12.78 5.22a.749.749 0 0 1 0 1.06l-4.25 4.25a.749.749 0 0 1-1.06 0L3.22 6.28a.749.749 0 1 1 1.06-1.06L8 8.939l3.72-3.719a.749.749 0 0 1 1.06 0Z"></path>
</svg>
      </button>

      <div class="HeaderMenu-dropdown dropdown-menu rounded m-0 p-0 pt-2 pt-lg-4 position-relative position-lg-absolute left-0 left-lg-n3 pb-2 pb-lg-4">
        <div class="d-lg-flex dropdown-menu-wide">
            <div class="HeaderMenu-column px-lg-4">
                <div class="border-bottom mb-3 mb-lg-3 pb-3">

                  <ul class="list-style-none f5" >
                      <li>
  <a class="HeaderMenu-dropdown-link d-block no-underline position-relative py-2 Link--secondary d-flex flex-items-center Link--has-description" data-analytics-event="{&quot;location&quot;:&quot;navbar&quot;,&quot;action&quot;:&quot;enterprise_platform&quot;,&quot;context&quot;:&quot;enterprise&quot;,&quot;tag&quot;:&quot;link&quot;,&quot;label&quot;:&quot;enterprise_platform_link_enterprise_navbar&quot;}" href="/enterprise">
      <svg aria-hidden="true" height="24" viewBox="0 0 24 24" version="1.1" width="24" data-view-component="true" class="octicon octicon-stack color-fg-subtle mr-3">
    <path d="M11.063 1.456a1.749 1.749 0 0 1 1.874 0l8.383 5.316a1.751 1.751 0 0 1 0 2.956l-8.383 5.316a1.749 1.749 0 0 1-1.874 0L2.68 9.728a1.751 1.751 0 0 1 0-2.956Zm1.071 1.267a.25.25 0 0 0-.268 0L3.483 8.039a.25.25 0 0 0 0 .422l8.383 5.316a.25.25 0 0 0 .268 0l8.383-5.316a.25.25 0 0 0 0-.422Z"></path><path d="M1.867 12.324a.75.75 0 0 1 1.035-.232l8.964 5.685a.25.25 0 0 0 .268 0l8.964-5.685a.75.75 0 0 1 .804 1.267l-8.965 5.685a1.749 1.749 0 0 1-1.874 0l-8.965-5.685a.75.75 0 0 1-.231-1.035Z"></path><path d="M1.867 16.324a.75.75 0 0 1 1.035-.232l8.964 5.685a.25.25 0 0 0 .268 0l8.964-5.685a.75.75 0 0 1 .804 1.267l-8.965 5.685a1.749 1.749 0 0 1-1.874 0l-8.965-5.685a.75.75 0 0 1-.231-1.035Z"></path>
</svg>
      <div>
        <div class="color-fg-default h4">
          Enterprise platform

        </div>

        AI-powered developer platform
      </div>

    
</a></li>

                  </ul>
                </div>
                <div class="border-bottom border-bottom-0">

                      <span class="d-block h4 color-fg-default my-1" id="enterprise-available-add-ons-heading">Available add-ons</span>

                  <ul class="list-style-none f5" aria-labelledby="enterprise-available-add-ons-heading">
                      <li>
  <a class="HeaderMenu-dropdown-link d-block no-underline position-relative py-2 Link--secondary d-flex flex-items-center Link--has-description mb-lg-3" data-analytics-event="{&quot;location&quot;:&quot;navbar&quot;,&quot;action&quot;:&quot;github_advanced_security&quot;,&quot;context&quot;:&quot;enterprise&quot;,&quot;tag&quot;:&quot;link&quot;,&quot;label&quot;:&quot;github_advanced_security_link_enterprise_navbar&quot;}" href="https://github.com/security/advanced-security">
      <svg aria-hidden="true" height="24" viewBox="0 0 24 24" version="1.1" width="24" data-view-component="true" class="octicon octicon-shield-check color-fg-subtle mr-3">
    <path d="M16.53 9.78a.75.75 0 0 0-1.06-1.06L11 13.19l-1.97-1.97a.75.75 0 0 0-1.06 1.06l2.5 2.5a.75.75 0 0 0 1.06 0l5-5Z"></path><path d="m12.54.637 8.25 2.675A1.75 1.75 0 0 1 22 4.976V10c0 6.19-3.771 10.704-9.401 12.83a1.704 1.704 0 0 1-1.198 0C5.77 20.705 2 16.19 2 10V4.976c0-.758.489-1.43 1.21-1.664L11.46.637a1.748 1.748 0 0 1 1.08 0Zm-.617 1.426-8.25 2.676a.249.249 0 0 0-.173.237V10c0 5.46 3.28 9.483 8.43 11.426a.199.199 0 0 0 .14 0C17.22 19.483 20.5 15.461 20.5 10V4.976a.25.25 0 0 0-.173-.237l-8.25-2.676a.253.253 0 0 0-.154 0Z"></path>
</svg>
      <div>
        <div class="color-fg-default h4">
          GitHub Advanced Security

        </div>

        Enterprise-grade security features
      </div>

    
</a></li>

                      <li>
  <a class="HeaderMenu-dropdown-link d-block no-underline position-relative py-2 Link--secondary d-flex flex-items-center Link--has-description mb-lg-3" data-analytics-event="{&quot;location&quot;:&quot;navbar&quot;,&quot;action&quot;:&quot;copilot_for_business&quot;,&quot;context&quot;:&quot;enterprise&quot;,&quot;tag&quot;:&quot;link&quot;,&quot;label&quot;:&quot;copilot_for_business_link_enterprise_navbar&quot;}" href="/features/copilot/copilot-business">
      <svg aria-hidden="true" height="24" viewBox="0 0 24 24" version="1.1" width="24" data-view-component="true" class="octicon octicon-copilot color-fg-subtle mr-3">
    <path d="M23.922 16.992c-.861 1.495-5.859 5.023-11.922 5.023-6.063 0-11.061-3.528-11.922-5.023A.641.641 0 0 1 0 16.736v-2.869a.841.841 0 0 1 .053-.22c.372-.935 1.347-2.292 2.605-2.656.167-.429.414-1.055.644-1.517a10.195 10.195 0 0 1-.052-1.086c0-1.331.282-2.499 1.132-3.368.397-.406.89-.717 1.474-.952 1.399-1.136 3.392-2.093 6.122-2.093 2.731 0 4.767.957 6.166 2.093.584.235 1.077.546 1.474.952.85.869 1.132 2.037 1.132 3.368 0 .368-.014.733-.052 1.086.23.462.477 1.088.644 1.517 1.258.364 2.233 1.721 2.605 2.656a.832.832 0 0 1 .053.22v2.869a.641.641 0 0 1-.078.256ZM12.172 11h-.344a4.323 4.323 0 0 1-.355.508C10.703 12.455 9.555 13 7.965 13c-1.725 0-2.989-.359-3.782-1.259a2.005 2.005 0 0 1-.085-.104L4 11.741v6.585c1.435.779 4.514 2.179 8 2.179 3.486 0 6.565-1.4 8-2.179v-6.585l-.098-.104s-.033.045-.085.104c-.793.9-2.057 1.259-3.782 1.259-1.59 0-2.738-.545-3.508-1.492a4.323 4.323 0 0 1-.355-.508h-.016.016Zm.641-2.935c.136 1.057.403 1.913.878 2.497.442.544 1.134.938 2.344.938 1.573 0 2.292-.337 2.657-.751.384-.435.558-1.15.558-2.361 0-1.14-.243-1.847-.705-2.319-.477-.488-1.319-.862-2.824-1.025-1.487-.161-2.192.138-2.533.529-.269.307-.437.808-.438 1.578v.021c0 .265.021.562.063.893Zm-1.626 0c.042-.331.063-.628.063-.894v-.02c-.001-.77-.169-1.271-.438-1.578-.341-.391-1.046-.69-2.533-.529-1.505.163-2.347.537-2.824 1.025-.462.472-.705 1.179-.705 2.319 0 1.211.175 1.926.558 2.361.365.414 1.084.751 2.657.751 1.21 0 1.902-.394 2.344-.938.475-.584.742-1.44.878-2.497Z"></path><path d="M14.5 14.25a1 1 0 0 1 1 1v2a1 1 0 0 1-2 0v-2a1 1 0 0 1 1-1Zm-5 0a1 1 0 0 1 1 1v2a1 1 0 0 1-2 0v-2a1 1 0 0 1 1-1Z"></path>
</svg>
      <div>
        <div class="color-fg-default h4">
          Copilot for business

        </div>

        Enterprise-grade AI features
      </div>

    
</a></li>

                      <li>
  <a class="HeaderMenu-dropdown-link d-block no-underline position-relative py-2 Link--secondary d-flex flex-items-center Link--has-description" data-analytics-event="{&quot;location&quot;:&quot;navbar&quot;,&quot;action&quot;:&quot;premium_support&quot;,&quot;context&quot;:&quot;enterprise&quot;,&quot;tag&quot;:&quot;link&quot;,&quot;label&quot;:&quot;premium_support_link_enterprise_navbar&quot;}" href="/premium-support">
      <svg aria-hidden="true" height="24" viewBox="0 0 24 24" version="1.1" width="24" data-view-component="true" class="octicon octicon-comment-discussion color-fg-subtle mr-3">
    <path d="M1.75 1h12.5c.966 0 1.75.784 1.75 1.75v9.5A1.75 1.75 0 0 1 14.25 14H8.061l-2.574 2.573A1.458 1.458 0 0 1 3 15.543V14H1.75A1.75 1.75 0 0 1 0 12.25v-9.5C0 1.784.784 1 1.75 1ZM1.5 2.75v9.5c0 .138.112.25.25.25h2a.75.75 0 0 1 .75.75v2.19l2.72-2.72a.749.749 0 0 1 .53-.22h6.5a.25.25 0 0 0 .25-.25v-9.5a.25.25 0 0 0-.25-.25H1.75a.25.25 0 0 0-.25.25Z"></path><path d="M22.5 8.75a.25.25 0 0 0-.25-.25h-3.5a.75.75 0 0 1 0-1.5h3.5c.966 0 1.75.784 1.75 1.75v9.5A1.75 1.75 0 0 1 22.25 20H21v1.543a1.457 1.457 0 0 1-2.487 1.03L15.939 20H10.75A1.75 1.75 0 0 1 9 18.25v-1.465a.75.75 0 0 1 1.5 0v1.465c0 .138.112.25.25.25h5.5a.75.75 0 0 1 .53.22l2.72 2.72v-2.19a.75.75 0 0 1 .75-.75h2a.25.25 0 0 0 .25-.25v-9.5Z"></path>
</svg>
      <div>
        <div class="color-fg-default h4">
          Premium Support

        </div>

        Enterprise-grade 24/7 support
      </div>

    
</a></li>

                  </ul>
                </div>
            </div>
        </div>

      </div>
</li>


                <li class="HeaderMenu-item position-relative flex-wrap flex-justify-between flex-items-center d-block d-lg-flex flex-lg-nowrap flex-lg-items-center js-details-container js-header-menu-item">
    <a class="HeaderMenu-link no-underline px-0 px-lg-2 py-3 py-lg-2 d-block d-lg-inline-block" data-analytics-event="{&quot;location&quot;:&quot;navbar&quot;,&quot;action&quot;:&quot;platform&quot;,&quot;context&quot;:&quot;global&quot;,&quot;tag&quot;:&quot;link&quot;,&quot;label&quot;:&quot;platform_link_global_navbar&quot;}" href="https://github.com/pricing">Pricing</a>
</li>

            </ul>
          </nav>

        <div class="d-flex flex-column flex-lg-row width-full flex-justify-end flex-lg-items-center text-center mt-3 mt-lg-0 text-lg-left ml-lg-3">
                


<qbsearch-input class="search-input" data-scope="repo:hkeasv/ML-Examples" data-custom-scopes-path="/search/custom_scopes" data-delete-custom-scopes-csrf="vv9yV7cwDsMx1TrpL0brruHpuBlMkh1YU1v97SyaQ4m30D4Qqt1u0EQOkx-YF9lI_SmJL0JzFjEuSg7ZNvGHJw" data-max-custom-scopes="10" data-header-redesign-enabled="false" data-initial-value="" data-blackbird-suggestions-path="/search/suggestions" data-jump-to-suggestions-path="/_graphql/GetSuggestedNavigationDestinations" data-current-repository="hkeasv/ML-Examples" data-current-org="" data-current-owner="hkeasv" data-logged-in="false" data-copilot-chat-enabled="false" data-nl-search-enabled="false" data-retain-scroll-position="true">
  <div
    class="search-input-container search-with-dialog position-relative d-flex flex-row flex-items-center mr-4 rounded"
    data-action="click:qbsearch-input#searchInputContainerClicked"
  >
      <button
        type="button"
        class="header-search-button placeholder  input-button form-control d-flex flex-1 flex-self-stretch flex-items-center no-wrap width-full py-0 pl-2 pr-0 text-left border-0 box-shadow-none"
        data-target="qbsearch-input.inputButton"
        aria-label="Search or jump to…"
        aria-haspopup="dialog"
        placeholder="Search or jump to..."
        data-hotkey=s,/
        autocapitalize="off"
        data-analytics-event="{&quot;location&quot;:&quot;navbar&quot;,&quot;action&quot;:&quot;searchbar&quot;,&quot;context&quot;:&quot;global&quot;,&quot;tag&quot;:&quot;input&quot;,&quot;label&quot;:&quot;searchbar_input_global_navbar&quot;}"
        data-action="click:qbsearch-input#handleExpand"
      >
        <div class="mr-2 color-fg-muted">
          <svg aria-hidden="true" height="16" viewBox="0 0 16 16" version="1.1" width="16" data-view-component="true" class="octicon octicon-search">
    <path d="M10.68 11.74a6 6 0 0 1-7.922-8.982 6 6 0 0 1 8.982 7.922l3.04 3.04a.749.749 0 0 1-.326 1.275.749.749 0 0 1-.734-.215ZM11.5 7a4.499 4.499 0 1 0-8.997 0A4.499 4.499 0 0 0 11.5 7Z"></path>
</svg>
        </div>
        <span class="flex-1" data-target="qbsearch-input.inputButtonText">Search or jump to...</span>
          <div class="d-flex" data-target="qbsearch-input.hotkeyIndicator">
            <svg xmlns="http://www.w3.org/2000/svg" width="22" height="20" aria-hidden="true" class="mr-1"><path fill="none" stroke="#979A9C" opacity=".4" d="M3.5.5h12c1.7 0 3 1.3 3 3v13c0 1.7-1.3 3-3 3h-12c-1.7 0-3-1.3-3-3v-13c0-1.7 1.3-3 3-3z"></path><path fill="#979A9C" d="M11.8 6L8 15.1h-.9L10.8 6h1z"></path></svg>
          </div>
      </button>

    <input type="hidden" name="type" class="js-site-search-type-field">

    
<div class="Overlay--hidden " data-modal-dialog-overlay>
  <modal-dialog data-action="close:qbsearch-input#handleClose cancel:qbsearch-input#handleClose" data-target="qbsearch-input.searchSuggestionsDialog" role="dialog" id="search-suggestions-dialog" aria-modal="true" aria-labelledby="search-suggestions-dialog-header" data-view-component="true" class="Overlay Overlay--width-large Overlay--height-auto">
      <h1 id="search-suggestions-dialog-header" class="sr-only">Search code, repositories, users, issues, pull requests...</h1>
    <div class="Overlay-body Overlay-body--paddingNone">
      
          <div data-view-component="true">        <div class="search-suggestions position-fixed width-full color-shadow-large border color-fg-default color-bg-default overflow-hidden d-flex flex-column query-builder-container"
          style="border-radius: 12px;"
          data-target="qbsearch-input.queryBuilderContainer"
          hidden
        >
          <!-- '"` --><!-- </textarea></xmp> --></option></form><form id="query-builder-test-form" action="" accept-charset="UTF-8" method="get">
  <query-builder data-target="qbsearch-input.queryBuilder" id="query-builder-query-builder-test" data-filter-key=":" data-view-component="true" class="QueryBuilder search-query-builder">
    <div class="FormControl FormControl--fullWidth">
      <label id="query-builder-test-label" for="query-builder-test" class="FormControl-label sr-only">
        Search
      </label>
      <div
        class="QueryBuilder-StyledInput width-fit "
        data-target="query-builder.styledInput"
      >
          <span id="query-builder-test-leadingvisual-wrap" class="FormControl-input-leadingVisualWrap QueryBuilder-leadingVisualWrap">
            <svg aria-hidden="true" height="16" viewBox="0 0 16 16" version="1.1" width="16" data-view-component="true" class="octicon octicon-search FormControl-input-leadingVisual">
    <path d="M10.68 11.74a6 6 0 0 1-7.922-8.982 6 6 0 0 1 8.982 7.922l3.04 3.04a.749.749 0 0 1-.326 1.275.749.749 0 0 1-.734-.215ZM11.5 7a4.499 4.499 0 1 0-8.997 0A4.499 4.499 0 0 0 11.5 7Z"></path>
</svg>
          </span>
        <div data-target="query-builder.styledInputContainer" class="QueryBuilder-StyledInputContainer">
          <div
            aria-hidden="true"
            class="QueryBuilder-StyledInputContent"
            data-target="query-builder.styledInputContent"
          ></div>
          <div class="QueryBuilder-InputWrapper">
            <div aria-hidden="true" class="QueryBuilder-Sizer" data-target="query-builder.sizer"></div>
            <input id="query-builder-test" name="query-builder-test" value="" autocomplete="off" type="text" role="combobox" spellcheck="false" aria-expanded="false" aria-describedby="validation-9b4bd130-7608-4ab7-9be2-2a978e931beb" data-target="query-builder.input" data-action="
          input:query-builder#inputChange
          blur:query-builder#inputBlur
          keydown:query-builder#inputKeydown
          focus:query-builder#inputFocus
        " data-view-component="true" class="FormControl-input QueryBuilder-Input FormControl-medium" />
          </div>
        </div>
          <span class="sr-only" id="query-builder-test-clear">Clear</span>
          <button role="button" id="query-builder-test-clear-button" aria-labelledby="query-builder-test-clear query-builder-test-label" data-target="query-builder.clearButton" data-action="
                click:query-builder#clear
                focus:query-builder#clearButtonFocus
                blur:query-builder#clearButtonBlur
              " variant="small" hidden="hidden" type="button" data-view-component="true" class="Button Button--iconOnly Button--invisible Button--medium mr-1 px-2 py-0 d-flex flex-items-center rounded-1 color-fg-muted">  <svg aria-hidden="true" height="16" viewBox="0 0 16 16" version="1.1" width="16" data-view-component="true" class="octicon octicon-x-circle-fill Button-visual">
    <path d="M2.343 13.657A8 8 0 1 1 13.658 2.343 8 8 0 0 1 2.343 13.657ZM6.03 4.97a.751.751 0 0 0-1.042.018.751.751 0 0 0-.018 1.042L6.94 8 4.97 9.97a.749.749 0 0 0 .326 1.275.749.749 0 0 0 .734-.215L8 9.06l1.97 1.97a.749.749 0 0 0 1.275-.326.749.749 0 0 0-.215-.734L9.06 8l1.97-1.97a.749.749 0 0 0-.326-1.275.749.749 0 0 0-.734.215L8 6.94Z"></path>
</svg>
</button>

      </div>
      <template id="search-icon">
  <svg aria-hidden="true" height="16" viewBox="0 0 16 16" version="1.1" width="16" data-view-component="true" class="octicon octicon-search">
    <path d="M10.68 11.74a6 6 0 0 1-7.922-8.982 6 6 0 0 1 8.982 7.922l3.04 3.04a.749.749 0 0 1-.326 1.275.749.749 0 0 1-.734-.215ZM11.5 7a4.499 4.499 0 1 0-8.997 0A4.499 4.499 0 0 0 11.5 7Z"></path>
</svg>
</template>

<template id="code-icon">
  <svg aria-hidden="true" height="16" viewBox="0 0 16 16" version="1.1" width="16" data-view-component="true" class="octicon octicon-code">
    <path d="m11.28 3.22 4.25 4.25a.75.75 0 0 1 0 1.06l-4.25 4.25a.749.749 0 0 1-1.275-.326.749.749 0 0 1 .215-.734L13.94 8l-3.72-3.72a.749.749 0 0 1 .326-1.275.749.749 0 0 1 .734.215Zm-6.56 0a.751.751 0 0 1 1.042.018.751.751 0 0 1 .018 1.042L2.06 8l3.72 3.72a.749.749 0 0 1-.326 1.275.749.749 0 0 1-.734-.215L.47 8.53a.75.75 0 0 1 0-1.06Z"></path>
</svg>
</template>

<template id="file-code-icon">
  <svg aria-hidden="true" height="16" viewBox="0 0 16 16" version="1.1" width="16" data-view-component="true" class="octicon octicon-file-code">
    <path d="M4 1.75C4 .784 4.784 0 5.75 0h5.586c.464 0 .909.184 1.237.513l2.914 2.914c.329.328.513.773.513 1.237v8.586A1.75 1.75 0 0 1 14.25 15h-9a.75.75 0 0 1 0-1.5h9a.25.25 0 0 0 .25-.25V6h-2.75A1.75 1.75 0 0 1 10 4.25V1.5H5.75a.25.25 0 0 0-.25.25v2.5a.75.75 0 0 1-1.5 0Zm1.72 4.97a.75.75 0 0 1 1.06 0l2 2a.75.75 0 0 1 0 1.06l-2 2a.749.749 0 0 1-1.275-.326.749.749 0 0 1 .215-.734l1.47-1.47-1.47-1.47a.75.75 0 0 1 0-1.06ZM3.28 7.78 1.81 9.25l1.47 1.47a.751.751 0 0 1-.018 1.042.751.751 0 0 1-1.042.018l-2-2a.75.75 0 0 1 0-1.06l2-2a.751.751 0 0 1 1.042.018.751.751 0 0 1 .018 1.042Zm8.22-6.218V4.25c0 .138.112.25.25.25h2.688l-.011-.013-2.914-2.914-.013-.011Z"></path>
</svg>
</template>

<template id="history-icon">
  <svg aria-hidden="true" height="16" viewBox="0 0 16 16" version="1.1" width="16" data-view-component="true" class="octicon octicon-history">
    <path d="m.427 1.927 1.215 1.215a8.002 8.002 0 1 1-1.6 5.685.75.75 0 1 1 1.493-.154 6.5 6.5 0 1 0 1.18-4.458l1.358 1.358A.25.25 0 0 1 3.896 6H.25A.25.25 0 0 1 0 5.75V2.104a.25.25 0 0 1 .427-.177ZM7.75 4a.75.75 0 0 1 .75.75v2.992l2.028.812a.75.75 0 0 1-.557 1.392l-2.5-1A.751.751 0 0 1 7 8.25v-3.5A.75.75 0 0 1 7.75 4Z"></path>
</svg>
</template>

<template id="repo-icon">
  <svg aria-hidden="true" height="16" viewBox="0 0 16 16" version="1.1" width="16" data-view-component="true" class="octicon octicon-repo">
    <path d="M2 2.5A2.5 2.5 0 0 1 4.5 0h8.75a.75.75 0 0 1 .75.75v12.5a.75.75 0 0 1-.75.75h-2.5a.75.75 0 0 1 0-1.5h1.75v-2h-8a1 1 0 0 0-.714 1.7.75.75 0 1 1-1.072 1.05A2.495 2.495 0 0 1 2 11.5Zm10.5-1h-8a1 1 0 0 0-1 1v6.708A2.486 2.486 0 0 1 4.5 9h8ZM5 12.25a.25.25 0 0 1 .25-.25h3.5a.25.25 0 0 1 .25.25v3.25a.25.25 0 0 1-.4.2l-1.45-1.087a.249.249 0 0 0-.3 0L5.4 15.7a.25.25 0 0 1-.4-.2Z"></path>
</svg>
</template>

<template id="bookmark-icon">
  <svg aria-hidden="true" height="16" viewBox="0 0 16 16" version="1.1" width="16" data-view-component="true" class="octicon octicon-bookmark">
    <path d="M3 2.75C3 1.784 3.784 1 4.75 1h6.5c.966 0 1.75.784 1.75 1.75v11.5a.75.75 0 0 1-1.227.579L8 11.722l-3.773 3.107A.751.751 0 0 1 3 14.25Zm1.75-.25a.25.25 0 0 0-.25.25v9.91l3.023-2.489a.75.75 0 0 1 .954 0l3.023 2.49V2.75a.25.25 0 0 0-.25-.25Z"></path>
</svg>
</template>

<template id="plus-circle-icon">
  <svg aria-hidden="true" height="16" viewBox="0 0 16 16" version="1.1" width="16" data-view-component="true" class="octicon octicon-plus-circle">
    <path d="M8 0a8 8 0 1 1 0 16A8 8 0 0 1 8 0ZM1.5 8a6.5 6.5 0 1 0 13 0 6.5 6.5 0 0 0-13 0Zm7.25-3.25v2.5h2.5a.75.75 0 0 1 0 1.5h-2.5v2.5a.75.75 0 0 1-1.5 0v-2.5h-2.5a.75.75 0 0 1 0-1.5h2.5v-2.5a.75.75 0 0 1 1.5 0Z"></path>
</svg>
</template>

<template id="circle-icon">
  <svg aria-hidden="true" height="16" viewBox="0 0 16 16" version="1.1" width="16" data-view-component="true" class="octicon octicon-dot-fill">
    <path d="M8 4a4 4 0 1 1 0 8 4 4 0 0 1 0-8Z"></path>
</svg>
</template>

<template id="trash-icon">
  <svg aria-hidden="true" height="16" viewBox="0 0 16 16" version="1.1" width="16" data-view-component="true" class="octicon octicon-trash">
    <path d="M11 1.75V3h2.25a.75.75 0 0 1 0 1.5H2.75a.75.75 0 0 1 0-1.5H5V1.75C5 .784 5.784 0 6.75 0h2.5C10.216 0 11 .784 11 1.75ZM4.496 6.675l.66 6.6a.25.25 0 0 0 .249.225h5.19a.25.25 0 0 0 .249-.225l.66-6.6a.75.75 0 0 1 1.492.149l-.66 6.6A1.748 1.748 0 0 1 10.595 15h-5.19a1.75 1.75 0 0 1-1.741-1.575l-.66-6.6a.75.75 0 1 1 1.492-.15ZM6.5 1.75V3h3V1.75a.25.25 0 0 0-.25-.25h-2.5a.25.25 0 0 0-.25.25Z"></path>
</svg>
</template>

<template id="team-icon">
  <svg aria-hidden="true" height="16" viewBox="0 0 16 16" version="1.1" width="16" data-view-component="true" class="octicon octicon-people">
    <path d="M2 5.5a3.5 3.5 0 1 1 5.898 2.549 5.508 5.508 0 0 1 3.034 4.084.75.75 0 1 1-1.482.235 4 4 0 0 0-7.9 0 .75.75 0 0 1-1.482-.236A5.507 5.507 0 0 1 3.102 8.05 3.493 3.493 0 0 1 2 5.5ZM11 4a3.001 3.001 0 0 1 2.22 5.018 5.01 5.01 0 0 1 2.56 3.012.749.749 0 0 1-.885.954.752.752 0 0 1-.549-.514 3.507 3.507 0 0 0-2.522-2.372.75.75 0 0 1-.574-.73v-.352a.75.75 0 0 1 .416-.672A1.5 1.5 0 0 0 11 5.5.75.75 0 0 1 11 4Zm-5.5-.5a2 2 0 1 0-.001 3.999A2 2 0 0 0 5.5 3.5Z"></path>
</svg>
</template>

<template id="project-icon">
  <svg aria-hidden="true" height="16" viewBox="0 0 16 16" version="1.1" width="16" data-view-component="true" class="octicon octicon-project">
    <path d="M1.75 0h12.5C15.216 0 16 .784 16 1.75v12.5A1.75 1.75 0 0 1 14.25 16H1.75A1.75 1.75 0 0 1 0 14.25V1.75C0 .784.784 0 1.75 0ZM1.5 1.75v12.5c0 .138.112.25.25.25h12.5a.25.25 0 0 0 .25-.25V1.75a.25.25 0 0 0-.25-.25H1.75a.25.25 0 0 0-.25.25ZM11.75 3a.75.75 0 0 1 .75.75v7.5a.75.75 0 0 1-1.5 0v-7.5a.75.75 0 0 1 .75-.75Zm-8.25.75a.75.75 0 0 1 1.5 0v5.5a.75.75 0 0 1-1.5 0ZM8 3a.75.75 0 0 1 .75.75v3.5a.75.75 0 0 1-1.5 0v-3.5A.75.75 0 0 1 8 3Z"></path>
</svg>
</template>

<template id="pencil-icon">
  <svg aria-hidden="true" height="16" viewBox="0 0 16 16" version="1.1" width="16" data-view-component="true" class="octicon octicon-pencil">
    <path d="M11.013 1.427a1.75 1.75 0 0 1 2.474 0l1.086 1.086a1.75 1.75 0 0 1 0 2.474l-8.61 8.61c-.21.21-.47.364-.756.445l-3.251.93a.75.75 0 0 1-.927-.928l.929-3.25c.081-.286.235-.547.445-.758l8.61-8.61Zm.176 4.823L9.75 4.81l-6.286 6.287a.253.253 0 0 0-.064.108l-.558 1.953 1.953-.558a.253.253 0 0 0 .108-.064Zm1.238-3.763a.25.25 0 0 0-.354 0L10.811 3.75l1.439 1.44 1.263-1.263a.25.25 0 0 0 0-.354Z"></path>
</svg>
</template>

<template id="copilot-icon">
  <svg aria-hidden="true" height="16" viewBox="0 0 16 16" version="1.1" width="16" data-view-component="true" class="octicon octicon-copilot">
    <path d="M7.998 15.035c-4.562 0-7.873-2.914-7.998-3.749V9.338c.085-.628.677-1.686 1.588-2.065.013-.07.024-.143.036-.218.029-.183.06-.384.126-.612-.201-.508-.254-1.084-.254-1.656 0-.87.128-1.769.693-2.484.579-.733 1.494-1.124 2.724-1.261 1.206-.134 2.262.034 2.944.765.05.053.096.108.139.165.044-.057.094-.112.143-.165.682-.731 1.738-.899 2.944-.765 1.23.137 2.145.528 2.724 1.261.566.715.693 1.614.693 2.484 0 .572-.053 1.148-.254 1.656.066.228.098.429.126.612.012.076.024.148.037.218.924.385 1.522 1.471 1.591 2.095v1.872c0 .766-3.351 3.795-8.002 3.795Zm0-1.485c2.28 0 4.584-1.11 5.002-1.433V7.862l-.023-.116c-.49.21-1.075.291-1.727.291-1.146 0-2.059-.327-2.71-.991A3.222 3.222 0 0 1 8 6.303a3.24 3.24 0 0 1-.544.743c-.65.664-1.563.991-2.71.991-.652 0-1.236-.081-1.727-.291l-.023.116v4.255c.419.323 2.722 1.433 5.002 1.433ZM6.762 2.83c-.193-.206-.637-.413-1.682-.297-1.019.113-1.479.404-1.713.7-.247.312-.369.789-.369 1.554 0 .793.129 1.171.308 1.371.162.181.519.379 1.442.379.853 0 1.339-.235 1.638-.54.315-.322.527-.827.617-1.553.117-.935-.037-1.395-.241-1.614Zm4.155-.297c-1.044-.116-1.488.091-1.681.297-.204.219-.359.679-.242 1.614.091.726.303 1.231.618 1.553.299.305.784.54 1.638.54.922 0 1.28-.198 1.442-.379.179-.2.308-.578.308-1.371 0-.765-.123-1.242-.37-1.554-.233-.296-.693-.587-1.713-.7Z"></path><path d="M6.25 9.037a.75.75 0 0 1 .75.75v1.501a.75.75 0 0 1-1.5 0V9.787a.75.75 0 0 1 .75-.75Zm4.25.75v1.501a.75.75 0 0 1-1.5 0V9.787a.75.75 0 0 1 1.5 0Z"></path>
</svg>
</template>

<template id="copilot-error-icon">
  <svg aria-hidden="true" height="16" viewBox="0 0 16 16" version="1.1" width="16" data-view-component="true" class="octicon octicon-copilot-error">
    <path d="M16 11.24c0 .112-.072.274-.21.467L13 9.688V7.862l-.023-.116c-.49.21-1.075.291-1.727.291-.198 0-.388-.009-.571-.029L6.833 5.226a4.01 4.01 0 0 0 .17-.782c.117-.935-.037-1.395-.241-1.614-.193-.206-.637-.413-1.682-.297-.683.076-1.115.231-1.395.415l-1.257-.91c.579-.564 1.413-.877 2.485-.996 1.206-.134 2.262.034 2.944.765.05.053.096.108.139.165.044-.057.094-.112.143-.165.682-.731 1.738-.899 2.944-.765 1.23.137 2.145.528 2.724 1.261.566.715.693 1.614.693 2.484 0 .572-.053 1.148-.254 1.656.066.228.098.429.126.612.012.076.024.148.037.218.924.385 1.522 1.471 1.591 2.095Zm-5.083-8.707c-1.044-.116-1.488.091-1.681.297-.204.219-.359.679-.242 1.614.091.726.303 1.231.618 1.553.299.305.784.54 1.638.54.922 0 1.28-.198 1.442-.379.179-.2.308-.578.308-1.371 0-.765-.123-1.242-.37-1.554-.233-.296-.693-.587-1.713-.7Zm2.511 11.074c-1.393.776-3.272 1.428-5.43 1.428-4.562 0-7.873-2.914-7.998-3.749V9.338c.085-.628.677-1.686 1.588-2.065.013-.07.024-.143.036-.218.029-.183.06-.384.126-.612-.18-.455-.241-.963-.252-1.475L.31 4.107A.747.747 0 0 1 0 3.509V3.49a.748.748 0 0 1 .625-.73c.156-.026.306.047.435.139l14.667 10.578a.592.592 0 0 1 .227.264.752.752 0 0 1 .046.249v.022a.75.75 0 0 1-1.19.596Zm-1.367-.991L5.635 7.964a5.128 5.128 0 0 1-.889.073c-.652 0-1.236-.081-1.727-.291l-.023.116v4.255c.419.323 2.722 1.433 5.002 1.433 1.539 0 3.089-.505 4.063-.934Z"></path>
</svg>
</template>

<template id="workflow-icon">
  <svg aria-hidden="true" height="16" viewBox="0 0 16 16" version="1.1" width="16" data-view-component="true" class="octicon octicon-workflow">
    <path d="M0 1.75C0 .784.784 0 1.75 0h3.5C6.216 0 7 .784 7 1.75v3.5A1.75 1.75 0 0 1 5.25 7H4v4a1 1 0 0 0 1 1h4v-1.25C9 9.784 9.784 9 10.75 9h3.5c.966 0 1.75.784 1.75 1.75v3.5A1.75 1.75 0 0 1 14.25 16h-3.5A1.75 1.75 0 0 1 9 14.25v-.75H5A2.5 2.5 0 0 1 2.5 11V7h-.75A1.75 1.75 0 0 1 0 5.25Zm1.75-.25a.25.25 0 0 0-.25.25v3.5c0 .138.112.25.25.25h3.5a.25.25 0 0 0 .25-.25v-3.5a.25.25 0 0 0-.25-.25Zm9 9a.25.25 0 0 0-.25.25v3.5c0 .138.112.25.25.25h3.5a.25.25 0 0 0 .25-.25v-3.5a.25.25 0 0 0-.25-.25Z"></path>
</svg>
</template>

<template id="book-icon">
  <svg aria-hidden="true" height="16" viewBox="0 0 16 16" version="1.1" width="16" data-view-component="true" class="octicon octicon-book">
    <path d="M0 1.75A.75.75 0 0 1 .75 1h4.253c1.227 0 2.317.59 3 1.501A3.743 3.743 0 0 1 11.006 1h4.245a.75.75 0 0 1 .75.75v10.5a.75.75 0 0 1-.75.75h-4.507a2.25 2.25 0 0 0-1.591.659l-.622.621a.75.75 0 0 1-1.06 0l-.622-.621A2.25 2.25 0 0 0 5.258 13H.75a.75.75 0 0 1-.75-.75Zm7.251 10.324.004-5.073-.002-2.253A2.25 2.25 0 0 0 5.003 2.5H1.5v9h3.757a3.75 3.75 0 0 1 1.994.574ZM8.755 4.75l-.004 7.322a3.752 3.752 0 0 1 1.992-.572H14.5v-9h-3.495a2.25 2.25 0 0 0-2.25 2.25Z"></path>
</svg>
</template>

<template id="code-review-icon">
  <svg aria-hidden="true" height="16" viewBox="0 0 16 16" version="1.1" width="16" data-view-component="true" class="octicon octicon-code-review">
    <path d="M1.75 1h12.5c.966 0 1.75.784 1.75 1.75v8.5A1.75 1.75 0 0 1 14.25 13H8.061l-2.574 2.573A1.458 1.458 0 0 1 3 14.543V13H1.75A1.75 1.75 0 0 1 0 11.25v-8.5C0 1.784.784 1 1.75 1ZM1.5 2.75v8.5c0 .138.112.25.25.25h2a.75.75 0 0 1 .75.75v2.19l2.72-2.72a.749.749 0 0 1 .53-.22h6.5a.25.25 0 0 0 .25-.25v-8.5a.25.25 0 0 0-.25-.25H1.75a.25.25 0 0 0-.25.25Zm5.28 1.72a.75.75 0 0 1 0 1.06L5.31 7l1.47 1.47a.751.751 0 0 1-.018 1.042.751.751 0 0 1-1.042.018l-2-2a.75.75 0 0 1 0-1.06l2-2a.75.75 0 0 1 1.06 0Zm2.44 0a.75.75 0 0 1 1.06 0l2 2a.75.75 0 0 1 0 1.06l-2 2a.751.751 0 0 1-1.042-.018.751.751 0 0 1-.018-1.042L10.69 7 9.22 5.53a.75.75 0 0 1 0-1.06Z"></path>
</svg>
</template>

<template id="codespaces-icon">
  <svg aria-hidden="true" height="16" viewBox="0 0 16 16" version="1.1" width="16" data-view-component="true" class="octicon octicon-codespaces">
    <path d="M0 11.25c0-.966.784-1.75 1.75-1.75h12.5c.966 0 1.75.784 1.75 1.75v3A1.75 1.75 0 0 1 14.25 16H1.75A1.75 1.75 0 0 1 0 14.25Zm2-9.5C2 .784 2.784 0 3.75 0h8.5C13.216 0 14 .784 14 1.75v5a1.75 1.75 0 0 1-1.75 1.75h-8.5A1.75 1.75 0 0 1 2 6.75Zm1.75-.25a.25.25 0 0 0-.25.25v5c0 .138.112.25.25.25h8.5a.25.25 0 0 0 .25-.25v-5a.25.25 0 0 0-.25-.25Zm-2 9.5a.25.25 0 0 0-.25.25v3c0 .138.112.25.25.25h12.5a.25.25 0 0 0 .25-.25v-3a.25.25 0 0 0-.25-.25Z"></path><path d="M7 12.75a.75.75 0 0 1 .75-.75h4.5a.75.75 0 0 1 0 1.5h-4.5a.75.75 0 0 1-.75-.75Zm-4 0a.75.75 0 0 1 .75-.75h.5a.75.75 0 0 1 0 1.5h-.5a.75.75 0 0 1-.75-.75Z"></path>
</svg>
</template>

<template id="comment-icon">
  <svg aria-hidden="true" height="16" viewBox="0 0 16 16" version="1.1" width="16" data-view-component="true" class="octicon octicon-comment">
    <path d="M1 2.75C1 1.784 1.784 1 2.75 1h10.5c.966 0 1.75.784 1.75 1.75v7.5A1.75 1.75 0 0 1 13.25 12H9.06l-2.573 2.573A1.458 1.458 0 0 1 4 13.543V12H2.75A1.75 1.75 0 0 1 1 10.25Zm1.75-.25a.25.25 0 0 0-.25.25v7.5c0 .138.112.25.25.25h2a.75.75 0 0 1 .75.75v2.19l2.72-2.72a.749.749 0 0 1 .53-.22h4.5a.25.25 0 0 0 .25-.25v-7.5a.25.25 0 0 0-.25-.25Z"></path>
</svg>
</template>

<template id="comment-discussion-icon">
  <svg aria-hidden="true" height="16" viewBox="0 0 16 16" version="1.1" width="16" data-view-component="true" class="octicon octicon-comment-discussion">
    <path d="M1.75 1h8.5c.966 0 1.75.784 1.75 1.75v5.5A1.75 1.75 0 0 1 10.25 10H7.061l-2.574 2.573A1.458 1.458 0 0 1 2 11.543V10h-.25A1.75 1.75 0 0 1 0 8.25v-5.5C0 1.784.784 1 1.75 1ZM1.5 2.75v5.5c0 .138.112.25.25.25h1a.75.75 0 0 1 .75.75v2.19l2.72-2.72a.749.749 0 0 1 .53-.22h3.5a.25.25 0 0 0 .25-.25v-5.5a.25.25 0 0 0-.25-.25h-8.5a.25.25 0 0 0-.25.25Zm13 2a.25.25 0 0 0-.25-.25h-.5a.75.75 0 0 1 0-1.5h.5c.966 0 1.75.784 1.75 1.75v5.5A1.75 1.75 0 0 1 14.25 12H14v1.543a1.458 1.458 0 0 1-2.487 1.03L9.22 12.28a.749.749 0 0 1 .326-1.275.749.749 0 0 1 .734.215l2.22 2.22v-2.19a.75.75 0 0 1 .75-.75h1a.25.25 0 0 0 .25-.25Z"></path>
</svg>
</template>

<template id="organization-icon">
  <svg aria-hidden="true" height="16" viewBox="0 0 16 16" version="1.1" width="16" data-view-component="true" class="octicon octicon-organization">
    <path d="M1.75 16A1.75 1.75 0 0 1 0 14.25V1.75C0 .784.784 0 1.75 0h8.5C11.216 0 12 .784 12 1.75v12.5c0 .085-.006.168-.018.25h2.268a.25.25 0 0 0 .25-.25V8.285a.25.25 0 0 0-.111-.208l-1.055-.703a.749.749 0 1 1 .832-1.248l1.055.703c.487.325.779.871.779 1.456v5.965A1.75 1.75 0 0 1 14.25 16h-3.5a.766.766 0 0 1-.197-.026c-.099.017-.2.026-.303.026h-3a.75.75 0 0 1-.75-.75V14h-1v1.25a.75.75 0 0 1-.75.75Zm-.25-1.75c0 .138.112.25.25.25H4v-1.25a.75.75 0 0 1 .75-.75h2.5a.75.75 0 0 1 .75.75v1.25h2.25a.25.25 0 0 0 .25-.25V1.75a.25.25 0 0 0-.25-.25h-8.5a.25.25 0 0 0-.25.25ZM3.75 6h.5a.75.75 0 0 1 0 1.5h-.5a.75.75 0 0 1 0-1.5ZM3 3.75A.75.75 0 0 1 3.75 3h.5a.75.75 0 0 1 0 1.5h-.5A.75.75 0 0 1 3 3.75Zm4 3A.75.75 0 0 1 7.75 6h.5a.75.75 0 0 1 0 1.5h-.5A.75.75 0 0 1 7 6.75ZM7.75 3h.5a.75.75 0 0 1 0 1.5h-.5a.75.75 0 0 1 0-1.5ZM3 9.75A.75.75 0 0 1 3.75 9h.5a.75.75 0 0 1 0 1.5h-.5A.75.75 0 0 1 3 9.75ZM7.75 9h.5a.75.75 0 0 1 0 1.5h-.5a.75.75 0 0 1 0-1.5Z"></path>
</svg>
</template>

<template id="rocket-icon">
  <svg aria-hidden="true" height="16" viewBox="0 0 16 16" version="1.1" width="16" data-view-component="true" class="octicon octicon-rocket">
    <path d="M14.064 0h.186C15.216 0 16 .784 16 1.75v.186a8.752 8.752 0 0 1-2.564 6.186l-.458.459c-.314.314-.641.616-.979.904v3.207c0 .608-.315 1.172-.833 1.49l-2.774 1.707a.749.749 0 0 1-1.11-.418l-.954-3.102a1.214 1.214 0 0 1-.145-.125L3.754 9.816a1.218 1.218 0 0 1-.124-.145L.528 8.717a.749.749 0 0 1-.418-1.11l1.71-2.774A1.748 1.748 0 0 1 3.31 4h3.204c.288-.338.59-.665.904-.979l.459-.458A8.749 8.749 0 0 1 14.064 0ZM8.938 3.623h-.002l-.458.458c-.76.76-1.437 1.598-2.02 2.5l-1.5 2.317 2.143 2.143 2.317-1.5c.902-.583 1.74-1.26 2.499-2.02l.459-.458a7.25 7.25 0 0 0 2.123-5.127V1.75a.25.25 0 0 0-.25-.25h-.186a7.249 7.249 0 0 0-5.125 2.123ZM3.56 14.56c-.732.732-2.334 1.045-3.005 1.148a.234.234 0 0 1-.201-.064.234.234 0 0 1-.064-.201c.103-.671.416-2.273 1.15-3.003a1.502 1.502 0 1 1 2.12 2.12Zm6.94-3.935c-.088.06-.177.118-.266.175l-2.35 1.521.548 1.783 1.949-1.2a.25.25 0 0 0 .119-.213ZM3.678 8.116 5.2 5.766c.058-.09.117-.178.176-.266H3.309a.25.25 0 0 0-.213.119l-1.2 1.95ZM12 5a1 1 0 1 1-2 0 1 1 0 0 1 2 0Z"></path>
</svg>
</template>

<template id="shield-check-icon">
  <svg aria-hidden="true" height="16" viewBox="0 0 16 16" version="1.1" width="16" data-view-component="true" class="octicon octicon-shield-check">
    <path d="m8.533.133 5.25 1.68A1.75 1.75 0 0 1 15 3.48V7c0 1.566-.32 3.182-1.303 4.682-.983 1.498-2.585 2.813-5.032 3.855a1.697 1.697 0 0 1-1.33 0c-2.447-1.042-4.049-2.357-5.032-3.855C1.32 10.182 1 8.566 1 7V3.48a1.75 1.75 0 0 1 1.217-1.667l5.25-1.68a1.748 1.748 0 0 1 1.066 0Zm-.61 1.429.001.001-5.25 1.68a.251.251 0 0 0-.174.237V7c0 1.36.275 2.666 1.057 3.859.784 1.194 2.121 2.342 4.366 3.298a.196.196 0 0 0 .154 0c2.245-.957 3.582-2.103 4.366-3.297C13.225 9.666 13.5 8.358 13.5 7V3.48a.25.25 0 0 0-.174-.238l-5.25-1.68a.25.25 0 0 0-.153 0ZM11.28 6.28l-3.5 3.5a.75.75 0 0 1-1.06 0l-1.5-1.5a.749.749 0 0 1 .326-1.275.749.749 0 0 1 .734.215l.97.97 2.97-2.97a.751.751 0 0 1 1.042.018.751.751 0 0 1 .018 1.042Z"></path>
</svg>
</template>

<template id="heart-icon">
  <svg aria-hidden="true" height="16" viewBox="0 0 16 16" version="1.1" width="16" data-view-component="true" class="octicon octicon-heart">
    <path d="m8 14.25.345.666a.75.75 0 0 1-.69 0l-.008-.004-.018-.01a7.152 7.152 0 0 1-.31-.17 22.055 22.055 0 0 1-3.434-2.414C2.045 10.731 0 8.35 0 5.5 0 2.836 2.086 1 4.25 1 5.797 1 7.153 1.802 8 3.02 8.847 1.802 10.203 1 11.75 1 13.914 1 16 2.836 16 5.5c0 2.85-2.045 5.231-3.885 6.818a22.066 22.066 0 0 1-3.744 2.584l-.018.01-.006.003h-.002ZM4.25 2.5c-1.336 0-2.75 1.164-2.75 3 0 2.15 1.58 4.144 3.365 5.682A20.58 20.58 0 0 0 8 13.393a20.58 20.58 0 0 0 3.135-2.211C12.92 9.644 14.5 7.65 14.5 5.5c0-1.836-1.414-3-2.75-3-1.373 0-2.609.986-3.029 2.456a.749.749 0 0 1-1.442 0C6.859 3.486 5.623 2.5 4.25 2.5Z"></path>
</svg>
</template>

<template id="server-icon">
  <svg aria-hidden="true" height="16" viewBox="0 0 16 16" version="1.1" width="16" data-view-component="true" class="octicon octicon-server">
    <path d="M1.75 1h12.5c.966 0 1.75.784 1.75 1.75v4c0 .372-.116.717-.314 1 .198.283.314.628.314 1v4a1.75 1.75 0 0 1-1.75 1.75H1.75A1.75 1.75 0 0 1 0 12.75v-4c0-.358.109-.707.314-1a1.739 1.739 0 0 1-.314-1v-4C0 1.784.784 1 1.75 1ZM1.5 2.75v4c0 .138.112.25.25.25h12.5a.25.25 0 0 0 .25-.25v-4a.25.25 0 0 0-.25-.25H1.75a.25.25 0 0 0-.25.25Zm.25 5.75a.25.25 0 0 0-.25.25v4c0 .138.112.25.25.25h12.5a.25.25 0 0 0 .25-.25v-4a.25.25 0 0 0-.25-.25ZM7 4.75A.75.75 0 0 1 7.75 4h4.5a.75.75 0 0 1 0 1.5h-4.5A.75.75 0 0 1 7 4.75ZM7.75 10h4.5a.75.75 0 0 1 0 1.5h-4.5a.75.75 0 0 1 0-1.5ZM3 4.75A.75.75 0 0 1 3.75 4h.5a.75.75 0 0 1 0 1.5h-.5A.75.75 0 0 1 3 4.75ZM3.75 10h.5a.75.75 0 0 1 0 1.5h-.5a.75.75 0 0 1 0-1.5Z"></path>
</svg>
</template>

<template id="globe-icon">
  <svg aria-hidden="true" height="16" viewBox="0 0 16 16" version="1.1" width="16" data-view-component="true" class="octicon octicon-globe">
    <path d="M8 0a8 8 0 1 1 0 16A8 8 0 0 1 8 0ZM5.78 8.75a9.64 9.64 0 0 0 1.363 4.177c.255.426.542.832.857 1.215.245-.296.551-.705.857-1.215A9.64 9.64 0 0 0 10.22 8.75Zm4.44-1.5a9.64 9.64 0 0 0-1.363-4.177c-.307-.51-.612-.919-.857-1.215a9.927 9.927 0 0 0-.857 1.215A9.64 9.64 0 0 0 5.78 7.25Zm-5.944 1.5H1.543a6.507 6.507 0 0 0 4.666 5.5c-.123-.181-.24-.365-.352-.552-.715-1.192-1.437-2.874-1.581-4.948Zm-2.733-1.5h2.733c.144-2.074.866-3.756 1.58-4.948.12-.197.237-.381.353-.552a6.507 6.507 0 0 0-4.666 5.5Zm10.181 1.5c-.144 2.074-.866 3.756-1.58 4.948-.12.197-.237.381-.353.552a6.507 6.507 0 0 0 4.666-5.5Zm2.733-1.5a6.507 6.507 0 0 0-4.666-5.5c.123.181.24.365.353.552.714 1.192 1.436 2.874 1.58 4.948Z"></path>
</svg>
</template>

<template id="issue-opened-icon">
  <svg aria-hidden="true" height="16" viewBox="0 0 16 16" version="1.1" width="16" data-view-component="true" class="octicon octicon-issue-opened">
    <path d="M8 9.5a1.5 1.5 0 1 0 0-3 1.5 1.5 0 0 0 0 3Z"></path><path d="M8 0a8 8 0 1 1 0 16A8 8 0 0 1 8 0ZM1.5 8a6.5 6.5 0 1 0 13 0 6.5 6.5 0 0 0-13 0Z"></path>
</svg>
</template>

<template id="device-mobile-icon">
  <svg aria-hidden="true" height="16" viewBox="0 0 16 16" version="1.1" width="16" data-view-component="true" class="octicon octicon-device-mobile">
    <path d="M3.75 0h8.5C13.216 0 14 .784 14 1.75v12.5A1.75 1.75 0 0 1 12.25 16h-8.5A1.75 1.75 0 0 1 2 14.25V1.75C2 .784 2.784 0 3.75 0ZM3.5 1.75v12.5c0 .138.112.25.25.25h8.5a.25.25 0 0 0 .25-.25V1.75a.25.25 0 0 0-.25-.25h-8.5a.25.25 0 0 0-.25.25ZM8 13a1 1 0 1 1 0-2 1 1 0 0 1 0 2Z"></path>
</svg>
</template>

<template id="package-icon">
  <svg aria-hidden="true" height="16" viewBox="0 0 16 16" version="1.1" width="16" data-view-component="true" class="octicon octicon-package">
    <path d="m8.878.392 5.25 3.045c.54.314.872.89.872 1.514v6.098a1.75 1.75 0 0 1-.872 1.514l-5.25 3.045a1.75 1.75 0 0 1-1.756 0l-5.25-3.045A1.75 1.75 0 0 1 1 11.049V4.951c0-.624.332-1.201.872-1.514L7.122.392a1.75 1.75 0 0 1 1.756 0ZM7.875 1.69l-4.63 2.685L8 7.133l4.755-2.758-4.63-2.685a.248.248 0 0 0-.25 0ZM2.5 5.677v5.372c0 .09.047.171.125.216l4.625 2.683V8.432Zm6.25 8.271 4.625-2.683a.25.25 0 0 0 .125-.216V5.677L8.75 8.432Z"></path>
</svg>
</template>

<template id="credit-card-icon">
  <svg aria-hidden="true" height="16" viewBox="0 0 16 16" version="1.1" width="16" data-view-component="true" class="octicon octicon-credit-card">
    <path d="M10.75 9a.75.75 0 0 0 0 1.5h1.5a.75.75 0 0 0 0-1.5h-1.5Z"></path><path d="M0 3.75C0 2.784.784 2 1.75 2h12.5c.966 0 1.75.784 1.75 1.75v8.5A1.75 1.75 0 0 1 14.25 14H1.75A1.75 1.75 0 0 1 0 12.25ZM14.5 6.5h-13v5.75c0 .138.112.25.25.25h12.5a.25.25 0 0 0 .25-.25Zm0-2.75a.25.25 0 0 0-.25-.25H1.75a.25.25 0 0 0-.25.25V5h13Z"></path>
</svg>
</template>

<template id="play-icon">
  <svg aria-hidden="true" height="16" viewBox="0 0 16 16" version="1.1" width="16" data-view-component="true" class="octicon octicon-play">
    <path d="M8 0a8 8 0 1 1 0 16A8 8 0 0 1 8 0ZM1.5 8a6.5 6.5 0 1 0 13 0 6.5 6.5 0 0 0-13 0Zm4.879-2.773 4.264 2.559a.25.25 0 0 1 0 .428l-4.264 2.559A.25.25 0 0 1 6 10.559V5.442a.25.25 0 0 1 .379-.215Z"></path>
</svg>
</template>

<template id="gift-icon">
  <svg aria-hidden="true" height="16" viewBox="0 0 16 16" version="1.1" width="16" data-view-component="true" class="octicon octicon-gift">
    <path d="M2 2.75A2.75 2.75 0 0 1 4.75 0c.983 0 1.873.42 2.57 1.232.268.318.497.668.68 1.042.183-.375.411-.725.68-1.044C9.376.42 10.266 0 11.25 0a2.75 2.75 0 0 1 2.45 4h.55c.966 0 1.75.784 1.75 1.75v2c0 .698-.409 1.301-1 1.582v4.918A1.75 1.75 0 0 1 13.25 16H2.75A1.75 1.75 0 0 1 1 14.25V9.332C.409 9.05 0 8.448 0 7.75v-2C0 4.784.784 4 1.75 4h.55c-.192-.375-.3-.8-.3-1.25ZM7.25 9.5H2.5v4.75c0 .138.112.25.25.25h4.5Zm1.5 0v5h4.5a.25.25 0 0 0 .25-.25V9.5Zm0-4V8h5.5a.25.25 0 0 0 .25-.25v-2a.25.25 0 0 0-.25-.25Zm-7 0a.25.25 0 0 0-.25.25v2c0 .138.112.25.25.25h5.5V5.5h-5.5Zm3-4a1.25 1.25 0 0 0 0 2.5h2.309c-.233-.818-.542-1.401-.878-1.793-.43-.502-.915-.707-1.431-.707ZM8.941 4h2.309a1.25 1.25 0 0 0 0-2.5c-.516 0-1 .205-1.43.707-.337.392-.646.975-.879 1.793Z"></path>
</svg>
</template>

<template id="code-square-icon">
  <svg aria-hidden="true" height="16" viewBox="0 0 16 16" version="1.1" width="16" data-view-component="true" class="octicon octicon-code-square">
    <path d="M0 1.75C0 .784.784 0 1.75 0h12.5C15.216 0 16 .784 16 1.75v12.5A1.75 1.75 0 0 1 14.25 16H1.75A1.75 1.75 0 0 1 0 14.25Zm1.75-.25a.25.25 0 0 0-.25.25v12.5c0 .138.112.25.25.25h12.5a.25.25 0 0 0 .25-.25V1.75a.25.25 0 0 0-.25-.25Zm7.47 3.97a.75.75 0 0 1 1.06 0l2 2a.75.75 0 0 1 0 1.06l-2 2a.749.749 0 0 1-1.275-.326.749.749 0 0 1 .215-.734L10.69 8 9.22 6.53a.75.75 0 0 1 0-1.06ZM6.78 6.53 5.31 8l1.47 1.47a.749.749 0 0 1-.326 1.275.749.749 0 0 1-.734-.215l-2-2a.75.75 0 0 1 0-1.06l2-2a.751.751 0 0 1 1.042.018.751.751 0 0 1 .018 1.042Z"></path>
</svg>
</template>

<template id="device-desktop-icon">
  <svg aria-hidden="true" height="16" viewBox="0 0 16 16" version="1.1" width="16" data-view-component="true" class="octicon octicon-device-desktop">
    <path d="M14.25 1c.966 0 1.75.784 1.75 1.75v7.5A1.75 1.75 0 0 1 14.25 12h-3.727c.099 1.041.52 1.872 1.292 2.757A.752.752 0 0 1 11.25 16h-6.5a.75.75 0 0 1-.565-1.243c.772-.885 1.192-1.716 1.292-2.757H1.75A1.75 1.75 0 0 1 0 10.25v-7.5C0 1.784.784 1 1.75 1ZM1.75 2.5a.25.25 0 0 0-.25.25v7.5c0 .138.112.25.25.25h12.5a.25.25 0 0 0 .25-.25v-7.5a.25.25 0 0 0-.25-.25ZM9.018 12H6.982a5.72 5.72 0 0 1-.765 2.5h3.566a5.72 5.72 0 0 1-.765-2.5Z"></path>
</svg>
</template>

        <div class="position-relative">
                <ul
                  role="listbox"
                  class="ActionListWrap QueryBuilder-ListWrap"
                  aria-label="Suggestions"
                  data-action="
                    combobox-commit:query-builder#comboboxCommit
                    mousedown:query-builder#resultsMousedown
                  "
                  data-target="query-builder.resultsList"
                  data-persist-list=false
                  id="query-builder-test-results"
                  tabindex="-1"
                ></ul>
        </div>
      <div class="FormControl-inlineValidation" id="validation-9b4bd130-7608-4ab7-9be2-2a978e931beb" hidden="hidden">
        <span class="FormControl-inlineValidation--visual">
          <svg aria-hidden="true" height="12" viewBox="0 0 12 12" version="1.1" width="12" data-view-component="true" class="octicon octicon-alert-fill">
    <path d="M4.855.708c.5-.896 1.79-.896 2.29 0l4.675 8.351a1.312 1.312 0 0 1-1.146 1.954H1.33A1.313 1.313 0 0 1 .183 9.058ZM7 7V3H5v4Zm-1 3a1 1 0 1 0 0-2 1 1 0 0 0 0 2Z"></path>
</svg>
        </span>
        <span></span>
</div>    </div>
    <div data-target="query-builder.screenReaderFeedback" aria-live="polite" aria-atomic="true" class="sr-only"></div>
</query-builder></form>
          <div class="d-flex flex-row color-fg-muted px-3 text-small color-bg-default search-feedback-prompt">
            <a target="_blank" href="https://docs.github.com/search-github/github-code-search/understanding-github-code-search-syntax" data-view-component="true" class="Link color-fg-accent text-normal ml-2">Search syntax tips</a>            <div class="d-flex flex-1"></div>
          </div>
        </div>
</div>

    </div>
</modal-dialog></div>
  </div>
  <div data-action="click:qbsearch-input#retract" class="dark-backdrop position-fixed" hidden data-target="qbsearch-input.darkBackdrop"></div>
  <div class="color-fg-default">
    
<dialog-helper>
  <dialog data-target="qbsearch-input.feedbackDialog" data-action="close:qbsearch-input#handleDialogClose cancel:qbsearch-input#handleDialogClose" id="feedback-dialog" aria-modal="true" aria-labelledby="feedback-dialog-title" aria-describedby="feedback-dialog-description" data-view-component="true" class="Overlay Overlay-whenNarrow Overlay--size-medium Overlay--motion-scaleFade Overlay--disableScroll">
    <div data-view-component="true" class="Overlay-header">
  <div class="Overlay-headerContentWrap">
    <div class="Overlay-titleWrap">
      <h1 class="Overlay-title " id="feedback-dialog-title">
        Provide feedback
      </h1>
        
    </div>
    <div class="Overlay-actionWrap">
      <button data-close-dialog-id="feedback-dialog" aria-label="Close" aria-label="Close" type="button" data-view-component="true" class="close-button Overlay-closeButton"><svg aria-hidden="true" height="16" viewBox="0 0 16 16" version="1.1" width="16" data-view-component="true" class="octicon octicon-x">
    <path d="M3.72 3.72a.75.75 0 0 1 1.06 0L8 6.94l3.22-3.22a.749.749 0 0 1 1.275.326.749.749 0 0 1-.215.734L9.06 8l3.22 3.22a.749.749 0 0 1-.326 1.275.749.749 0 0 1-.734-.215L8 9.06l-3.22 3.22a.751.751 0 0 1-1.042-.018.751.751 0 0 1-.018-1.042L6.94 8 3.72 4.78a.75.75 0 0 1 0-1.06Z"></path>
</svg></button>
    </div>
  </div>
  
</div>
      <scrollable-region data-labelled-by="feedback-dialog-title">
        <div data-view-component="true" class="Overlay-body">        <!-- '"` --><!-- </textarea></xmp> --></option></form><form id="code-search-feedback-form" data-turbo="false" action="/search/feedback" accept-charset="UTF-8" method="post"><input type="hidden" data-csrf="true" name="authenticity_token" value="Miv8tbk56JOUZrdPFUnlIu+nZJgV2DBflqGgNwvO6epJQRVooko2/alzPRP6McdNdR6UHTqa/k+pwyDxmb6Opg==" />
          <p>We read every piece of feedback, and take your input very seriously.</p>
          <textarea name="feedback" class="form-control width-full mb-2" style="height: 120px" id="feedback"></textarea>
          <input name="include_email" id="include_email" aria-label="Include my email address so I can be contacted" class="form-control mr-2" type="checkbox">
          <label for="include_email" style="font-weight: normal">Include my email address so I can be contacted</label>
</form></div>
      </scrollable-region>
      <div data-view-component="true" class="Overlay-footer Overlay-footer--alignEnd">          <button data-close-dialog-id="feedback-dialog" type="button" data-view-component="true" class="btn">    Cancel
</button>
          <button form="code-search-feedback-form" data-action="click:qbsearch-input#submitFeedback" type="submit" data-view-component="true" class="btn-primary btn">    Submit feedback
</button>
</div>
</dialog></dialog-helper>

    <custom-scopes data-target="qbsearch-input.customScopesManager">
    
<dialog-helper>
  <dialog data-target="custom-scopes.customScopesModalDialog" data-action="close:qbsearch-input#handleDialogClose cancel:qbsearch-input#handleDialogClose" id="custom-scopes-dialog" aria-modal="true" aria-labelledby="custom-scopes-dialog-title" aria-describedby="custom-scopes-dialog-description" data-view-component="true" class="Overlay Overlay-whenNarrow Overlay--size-medium Overlay--motion-scaleFade Overlay--disableScroll">
    <div data-view-component="true" class="Overlay-header Overlay-header--divided">
  <div class="Overlay-headerContentWrap">
    <div class="Overlay-titleWrap">
      <h1 class="Overlay-title " id="custom-scopes-dialog-title">
        Saved searches
      </h1>
        <h2 id="custom-scopes-dialog-description" class="Overlay-description">Use saved searches to filter your results more quickly</h2>
    </div>
    <div class="Overlay-actionWrap">
      <button data-close-dialog-id="custom-scopes-dialog" aria-label="Close" aria-label="Close" type="button" data-view-component="true" class="close-button Overlay-closeButton"><svg aria-hidden="true" height="16" viewBox="0 0 16 16" version="1.1" width="16" data-view-component="true" class="octicon octicon-x">
    <path d="M3.72 3.72a.75.75 0 0 1 1.06 0L8 6.94l3.22-3.22a.749.749 0 0 1 1.275.326.749.749 0 0 1-.215.734L9.06 8l3.22 3.22a.749.749 0 0 1-.326 1.275.749.749 0 0 1-.734-.215L8 9.06l-3.22 3.22a.751.751 0 0 1-1.042-.018.751.751 0 0 1-.018-1.042L6.94 8 3.72 4.78a.75.75 0 0 1 0-1.06Z"></path>
</svg></button>
    </div>
  </div>
  
</div>
      <scrollable-region data-labelled-by="custom-scopes-dialog-title">
        <div data-view-component="true" class="Overlay-body">        <div data-target="custom-scopes.customScopesModalDialogFlash"></div>

        <div hidden class="create-custom-scope-form" data-target="custom-scopes.createCustomScopeForm">
        <!-- '"` --><!-- </textarea></xmp> --></option></form><form id="custom-scopes-dialog-form" data-turbo="false" action="/search/custom_scopes" accept-charset="UTF-8" method="post"><input type="hidden" data-csrf="true" name="authenticity_token" value="VmrgacB4lQ56jCL7tKZlyaZarY8DzAXc7qvMisN9GFBe+S8c4DBvSvPee+GhTpblbY3IrEHKUs/8SQdjfU/GcA==" />
          <div data-target="custom-scopes.customScopesModalDialogFlash"></div>

          <input type="hidden" id="custom_scope_id" name="custom_scope_id" data-target="custom-scopes.customScopesIdField">

          <div class="form-group">
            <label for="custom_scope_name">Name</label>
            <auto-check src="/search/custom_scopes/check_name" required>
              <input
                type="text"
                name="custom_scope_name"
                id="custom_scope_name"
                data-target="custom-scopes.customScopesNameField"
                class="form-control"
                autocomplete="off"
                placeholder="github-ruby"
                required
                maxlength="50">
              <input type="hidden" data-csrf="true" value="K4swo0//jtxpzFLbelQJ5kYbYZBQZRN86zG/y7KxQMvroR6iJlVQPoktdAuzGpqcO2uUtJM0bg6iGF+OlVIcKg==" />
            </auto-check>
          </div>

          <div class="form-group">
            <label for="custom_scope_query">Query</label>
            <input
              type="text"
              name="custom_scope_query"
              id="custom_scope_query"
              data-target="custom-scopes.customScopesQueryField"
              class="form-control"
              autocomplete="off"
              placeholder="(repo:mona/a OR repo:mona/b) AND lang:python"
              required
              maxlength="500">
          </div>

          <p class="text-small color-fg-muted">
            To see all available qualifiers, see our <a class="Link--inTextBlock" href="https://docs.github.com/search-github/github-code-search/understanding-github-code-search-syntax">documentation</a>.
          </p>
</form>        </div>

        <div data-target="custom-scopes.manageCustomScopesForm">
          <div data-target="custom-scopes.list"></div>
        </div>

</div>
      </scrollable-region>
      <div data-view-component="true" class="Overlay-footer Overlay-footer--alignEnd Overlay-footer--divided">          <button data-action="click:custom-scopes#customScopesCancel" type="button" data-view-component="true" class="btn">    Cancel
</button>
          <button form="custom-scopes-dialog-form" data-action="click:custom-scopes#customScopesSubmit" data-target="custom-scopes.customScopesSubmitButton" type="submit" data-view-component="true" class="btn-primary btn">    Create saved search
</button>
</div>
</dialog></dialog-helper>
    </custom-scopes>
  </div>
</qbsearch-input>


            <div class="position-relative HeaderMenu-link-wrap d-lg-inline-block">
              <a
                href="/login?return_to=https%3A%2F%2Fgithub.com%2Fhkeasv%2FML-Examples%2Fblob%2Fmain%2FChap_10_MNIST_Fashion_Callbacks.ipynb"
                class="HeaderMenu-link HeaderMenu-link--sign-in HeaderMenu-button flex-shrink-0 no-underline d-none d-lg-inline-flex border border-lg-0 rounded px-2 py-1"
                style="margin-left: 12px;"
                data-hydro-click="{&quot;event_type&quot;:&quot;authentication.click&quot;,&quot;payload&quot;:{&quot;location_in_page&quot;:&quot;site header menu&quot;,&quot;repository_id&quot;:null,&quot;auth_type&quot;:&quot;SIGN_UP&quot;,&quot;originating_url&quot;:&quot;https://github.com/hkeasv/ML-Examples/blob/main/Chap_10_MNIST_Fashion_Callbacks.ipynb&quot;,&quot;user_id&quot;:null}}" data-hydro-click-hmac="1faf36c999282069737dcd2a5801a0341ad7aac1118a2761de64a0e1d224fd23"
                data-analytics-event="{&quot;category&quot;:&quot;Marketing nav&quot;,&quot;action&quot;:&quot;click to go to homepage&quot;,&quot;label&quot;:&quot;ref_page:Marketing;ref_cta:Sign in;ref_loc:Header&quot;}"
              >
                Sign in
              </a>
            </div>

              <a href="/signup?ref_cta=Sign+up&amp;ref_loc=header+logged+out&amp;ref_page=%2F%3Cuser-name%3E%2F%3Crepo-name%3E%2Fblob%2Fshow&amp;source=header-repo&amp;source_repo=hkeasv%2FML-Examples"
                class="HeaderMenu-link HeaderMenu-link--sign-up HeaderMenu-button flex-shrink-0 d-flex d-lg-inline-flex no-underline border color-border-default rounded px-2 py-1"
                data-hydro-click="{&quot;event_type&quot;:&quot;authentication.click&quot;,&quot;payload&quot;:{&quot;location_in_page&quot;:&quot;site header menu&quot;,&quot;repository_id&quot;:null,&quot;auth_type&quot;:&quot;SIGN_UP&quot;,&quot;originating_url&quot;:&quot;https://github.com/hkeasv/ML-Examples/blob/main/Chap_10_MNIST_Fashion_Callbacks.ipynb&quot;,&quot;user_id&quot;:null}}" data-hydro-click-hmac="1faf36c999282069737dcd2a5801a0341ad7aac1118a2761de64a0e1d224fd23"
                data-analytics-event="{&quot;category&quot;:&quot;Sign up&quot;,&quot;action&quot;:&quot;click to sign up for account&quot;,&quot;label&quot;:&quot;ref_page:/&lt;user-name&gt;/&lt;repo-name&gt;/blob/show;ref_cta:Sign up;ref_loc:header logged out&quot;}"
              >
                Sign up
              </a>

                <div class="AppHeader-appearanceSettings">
    <react-partial-anchor>
      <button data-target="react-partial-anchor.anchor" id="icon-button-ff072e8b-f129-4767-8e28-5f3bbaa89a54" aria-labelledby="tooltip-48a373c0-728b-4cf1-b13f-edd13c10f6c5" type="button" disabled="disabled" data-view-component="true" class="Button Button--iconOnly Button--invisible Button--medium AppHeader-button HeaderMenu-link border cursor-wait">  <svg aria-hidden="true" height="16" viewBox="0 0 16 16" version="1.1" width="16" data-view-component="true" class="octicon octicon-sliders Button-visual">
    <path d="M15 2.75a.75.75 0 0 1-.75.75h-4a.75.75 0 0 1 0-1.5h4a.75.75 0 0 1 .75.75Zm-8.5.75v1.25a.75.75 0 0 0 1.5 0v-4a.75.75 0 0 0-1.5 0V2H1.75a.75.75 0 0 0 0 1.5H6.5Zm1.25 5.25a.75.75 0 0 0 0-1.5h-6a.75.75 0 0 0 0 1.5h6ZM15 8a.75.75 0 0 1-.75.75H11.5V10a.75.75 0 1 1-1.5 0V6a.75.75 0 0 1 1.5 0v1.25h2.75A.75.75 0 0 1 15 8Zm-9 5.25v-2a.75.75 0 0 0-1.5 0v1.25H1.75a.75.75 0 0 0 0 1.5H4.5v1.25a.75.75 0 0 0 1.5 0v-2Zm9 0a.75.75 0 0 1-.75.75h-6a.75.75 0 0 1 0-1.5h6a.75.75 0 0 1 .75.75Z"></path>
</svg>
</button><tool-tip id="tooltip-48a373c0-728b-4cf1-b13f-edd13c10f6c5" for="icon-button-ff072e8b-f129-4767-8e28-5f3bbaa89a54" popover="manual" data-direction="s" data-type="label" data-view-component="true" class="sr-only position-absolute">Appearance settings</tool-tip>

      <template data-target="react-partial-anchor.template">
        <link crossorigin="anonymous" media="all" rel="stylesheet" href="https://github.githubassets.com/assets/primer-react.592b66644437c8ba4190.module.css" />
<link crossorigin="anonymous" media="all" rel="stylesheet" href="https://github.githubassets.com/assets/appearance-settings.6c63a6de228d6520804d.module.css" />

<react-partial
  partial-name="appearance-settings"
  data-ssr="false"
  data-attempted-ssr="false"
  data-react-profiling="false"
>
  
  <script type="application/json" data-target="react-partial.embeddedData">{"props":{}}</script>
  <div data-target="react-partial.reactRoot"></div>
</react-partial>


      </template>
    </react-partial-anchor>
  </div>

          <button type="button" class="sr-only js-header-menu-focus-trap d-block d-lg-none">Resetting focus</button>
        </div>
      </div>
    </div>
  </div>
</header>

      <div hidden="hidden" data-view-component="true" class="js-stale-session-flash stale-session-flash flash flash-warn flash-full">
  
        <svg aria-hidden="true" height="16" viewBox="0 0 16 16" version="1.1" width="16" data-view-component="true" class="octicon octicon-alert">
    <path d="M6.457 1.047c.659-1.234 2.427-1.234 3.086 0l6.082 11.378A1.75 1.75 0 0 1 14.082 15H1.918a1.75 1.75 0 0 1-1.543-2.575Zm1.763.707a.25.25 0 0 0-.44 0L1.698 13.132a.25.25 0 0 0 .22.368h12.164a.25.25 0 0 0 .22-.368Zm.53 3.996v2.5a.75.75 0 0 1-1.5 0v-2.5a.75.75 0 0 1 1.5 0ZM9 11a1 1 0 1 1-2 0 1 1 0 0 1 2 0Z"></path>
</svg>
        <span class="js-stale-session-flash-signed-in" hidden>You signed in with another tab or window. <a class="Link--inTextBlock" href="">Reload</a> to refresh your session.</span>
        <span class="js-stale-session-flash-signed-out" hidden>You signed out in another tab or window. <a class="Link--inTextBlock" href="">Reload</a> to refresh your session.</span>
        <span class="js-stale-session-flash-switched" hidden>You switched accounts on another tab or window. <a class="Link--inTextBlock" href="">Reload</a> to refresh your session.</span>

    <button id="icon-button-3923ee11-d230-4359-a772-c7fb8b9ba56e" aria-labelledby="tooltip-d4fcacfc-e8c9-4119-b26b-73e8e0fa2453" type="button" data-view-component="true" class="Button Button--iconOnly Button--invisible Button--medium flash-close js-flash-close">  <svg aria-hidden="true" height="16" viewBox="0 0 16 16" version="1.1" width="16" data-view-component="true" class="octicon octicon-x Button-visual">
    <path d="M3.72 3.72a.75.75 0 0 1 1.06 0L8 6.94l3.22-3.22a.749.749 0 0 1 1.275.326.749.749 0 0 1-.215.734L9.06 8l3.22 3.22a.749.749 0 0 1-.326 1.275.749.749 0 0 1-.734-.215L8 9.06l-3.22 3.22a.751.751 0 0 1-1.042-.018.751.751 0 0 1-.018-1.042L6.94 8 3.72 4.78a.75.75 0 0 1 0-1.06Z"></path>
</svg>
</button><tool-tip id="tooltip-d4fcacfc-e8c9-4119-b26b-73e8e0fa2453" for="icon-button-3923ee11-d230-4359-a772-c7fb8b9ba56e" popover="manual" data-direction="s" data-type="label" data-view-component="true" class="sr-only position-absolute">Dismiss alert</tool-tip>


  
</div>
    </div>

  <div id="start-of-content" class="show-on-focus"></div>








    <div id="js-flash-container" class="flash-container" data-turbo-replace>




  <template class="js-flash-template">
    
<div class="flash flash-full   {{ className }}">
  <div >
    <button autofocus class="flash-close js-flash-close" type="button" aria-label="Dismiss this message">
      <svg aria-hidden="true" height="16" viewBox="0 0 16 16" version="1.1" width="16" data-view-component="true" class="octicon octicon-x">
    <path d="M3.72 3.72a.75.75 0 0 1 1.06 0L8 6.94l3.22-3.22a.749.749 0 0 1 1.275.326.749.749 0 0 1-.215.734L9.06 8l3.22 3.22a.749.749 0 0 1-.326 1.275.749.749 0 0 1-.734-.215L8 9.06l-3.22 3.22a.751.751 0 0 1-1.042-.018.751.751 0 0 1-.018-1.042L6.94 8 3.72 4.78a.75.75 0 0 1 0-1.06Z"></path>
</svg>
    </button>
    <div aria-atomic="true" role="alert" class="js-flash-alert">
      
      <div>{{ message }}</div>

    </div>
  </div>
</div>
  </template>
</div>


    






  <div
    class="application-main "
    data-commit-hovercards-enabled
    data-discussion-hovercards-enabled
    data-issue-and-pr-hovercards-enabled
    data-project-hovercards-enabled
  >
        <div itemscope itemtype="http://schema.org/SoftwareSourceCode" class="">
    <main id="js-repo-pjax-container" >
      
      






  
  <div id="repository-container-header"  class="pt-3 hide-full-screen" style="background-color: var(--page-header-bgColor, var(--color-page-header-bg));" data-turbo-replace>

      <div class="d-flex flex-nowrap flex-justify-end mb-3  px-3 px-lg-5" style="gap: 1rem;">

        <div class="flex-auto min-width-0 width-fit">
            
  <div class=" d-flex flex-wrap flex-items-center wb-break-word f3 text-normal">
      <svg aria-hidden="true" height="16" viewBox="0 0 16 16" version="1.1" width="16" data-view-component="true" class="octicon octicon-repo color-fg-muted mr-2">
    <path d="M2 2.5A2.5 2.5 0 0 1 4.5 0h8.75a.75.75 0 0 1 .75.75v12.5a.75.75 0 0 1-.75.75h-2.5a.75.75 0 0 1 0-1.5h1.75v-2h-8a1 1 0 0 0-.714 1.7.75.75 0 1 1-1.072 1.05A2.495 2.495 0 0 1 2 11.5Zm10.5-1h-8a1 1 0 0 0-1 1v6.708A2.486 2.486 0 0 1 4.5 9h8ZM5 12.25a.25.25 0 0 1 .25-.25h3.5a.25.25 0 0 1 .25.25v3.25a.25.25 0 0 1-.4.2l-1.45-1.087a.249.249 0 0 0-.3 0L5.4 15.7a.25.25 0 0 1-.4-.2Z"></path>
</svg>
    
    <span class="author flex-self-stretch" itemprop="author">
      <a class="url fn" rel="author" data-hovercard-type="user" data-hovercard-url="/users/hkeasv/hovercard" data-octo-click="hovercard-link-click" data-octo-dimensions="link_type:self" href="/hkeasv">
        hkeasv
</a>    </span>
    <span class="mx-1 flex-self-stretch color-fg-muted">/</span>
    <strong itemprop="name" class="mr-2 flex-self-stretch">
      <a data-pjax="#repo-content-pjax-container" data-turbo-frame="repo-content-turbo-frame" href="/hkeasv/ML-Examples">ML-Examples</a>
    </strong>

    <span></span><span class="Label Label--secondary v-align-middle mr-1">Public</span>
  </div>


        </div>

        <div id="repository-details-container" class="flex-shrink-0" data-turbo-replace style="max-width: 70%;">
            <ul class="pagehead-actions flex-shrink-0 d-none d-md-inline" style="padding: 2px 0;">
    
      

  <li>
            <a href="/login?return_to=%2Fhkeasv%2FML-Examples" rel="nofollow" id="repository-details-watch-button" data-hydro-click="{&quot;event_type&quot;:&quot;authentication.click&quot;,&quot;payload&quot;:{&quot;location_in_page&quot;:&quot;notification subscription menu watch&quot;,&quot;repository_id&quot;:null,&quot;auth_type&quot;:&quot;LOG_IN&quot;,&quot;originating_url&quot;:&quot;https://github.com/hkeasv/ML-Examples/blob/main/Chap_10_MNIST_Fashion_Callbacks.ipynb&quot;,&quot;user_id&quot;:null}}" data-hydro-click-hmac="35e2ed41710961b02eac95f93e39cb1581319ac6f999dce04c70e1f23e4003c9" aria-label="You must be signed in to change notification settings" data-view-component="true" class="btn-sm btn">    <svg aria-hidden="true" height="16" viewBox="0 0 16 16" version="1.1" width="16" data-view-component="true" class="octicon octicon-bell mr-2">
    <path d="M8 16a2 2 0 0 0 1.985-1.75c.017-.137-.097-.25-.235-.25h-3.5c-.138 0-.252.113-.235.25A2 2 0 0 0 8 16ZM3 5a5 5 0 0 1 10 0v2.947c0 .05.015.098.042.139l1.703 2.555A1.519 1.519 0 0 1 13.482 13H2.518a1.516 1.516 0 0 1-1.263-2.36l1.703-2.554A.255.255 0 0 0 3 7.947Zm5-3.5A3.5 3.5 0 0 0 4.5 5v2.947c0 .346-.102.683-.294.97l-1.703 2.556a.017.017 0 0 0-.003.01l.001.006c0 .002.002.004.004.006l.006.004.007.001h10.964l.007-.001.006-.004.004-.006.001-.007a.017.017 0 0 0-.003-.01l-1.703-2.554a1.745 1.745 0 0 1-.294-.97V5A3.5 3.5 0 0 0 8 1.5Z"></path>
</svg>Notifications
</a>    <tool-tip id="tooltip-fb2fbafa-8c9d-4cd4-be26-91f3c300a295" for="repository-details-watch-button" popover="manual" data-direction="s" data-type="description" data-view-component="true" class="sr-only position-absolute">You must be signed in to change notification settings</tool-tip>

  </li>

  <li>
          <a icon="repo-forked" id="fork-button" href="/login?return_to=%2Fhkeasv%2FML-Examples" rel="nofollow" data-hydro-click="{&quot;event_type&quot;:&quot;authentication.click&quot;,&quot;payload&quot;:{&quot;location_in_page&quot;:&quot;repo details fork button&quot;,&quot;repository_id&quot;:751802809,&quot;auth_type&quot;:&quot;LOG_IN&quot;,&quot;originating_url&quot;:&quot;https://github.com/hkeasv/ML-Examples/blob/main/Chap_10_MNIST_Fashion_Callbacks.ipynb&quot;,&quot;user_id&quot;:null}}" data-hydro-click-hmac="4c5e8b84d5963bfc94941eda64402c92ef4fd6cabd82a7da40acf275212b0942" data-view-component="true" class="btn-sm btn">    <svg aria-hidden="true" height="16" viewBox="0 0 16 16" version="1.1" width="16" data-view-component="true" class="octicon octicon-repo-forked mr-2">
    <path d="M5 5.372v.878c0 .414.336.75.75.75h4.5a.75.75 0 0 0 .75-.75v-.878a2.25 2.25 0 1 1 1.5 0v.878a2.25 2.25 0 0 1-2.25 2.25h-1.5v2.128a2.251 2.251 0 1 1-1.5 0V8.5h-1.5A2.25 2.25 0 0 1 3.5 6.25v-.878a2.25 2.25 0 1 1 1.5 0ZM5 3.25a.75.75 0 1 0-1.5 0 .75.75 0 0 0 1.5 0Zm6.75.75a.75.75 0 1 0 0-1.5.75.75 0 0 0 0 1.5Zm-3 8.75a.75.75 0 1 0-1.5 0 .75.75 0 0 0 1.5 0Z"></path>
</svg>Fork
    <span id="repo-network-counter" data-pjax-replace="true" data-turbo-replace="true" title="7" data-view-component="true" class="Counter">7</span>
</a>
  </li>

  <li>
        <div data-view-component="true" class="BtnGroup d-flex">
        <a href="/login?return_to=%2Fhkeasv%2FML-Examples" rel="nofollow" data-hydro-click="{&quot;event_type&quot;:&quot;authentication.click&quot;,&quot;payload&quot;:{&quot;location_in_page&quot;:&quot;star button&quot;,&quot;repository_id&quot;:751802809,&quot;auth_type&quot;:&quot;LOG_IN&quot;,&quot;originating_url&quot;:&quot;https://github.com/hkeasv/ML-Examples/blob/main/Chap_10_MNIST_Fashion_Callbacks.ipynb&quot;,&quot;user_id&quot;:null}}" data-hydro-click-hmac="22b24c96d80e04152877c9e1c740dafd5cc733971f13ce97fff0f4ab17324943" aria-label="You must be signed in to star a repository" data-view-component="true" class="tooltipped tooltipped-sw btn-sm btn">    <svg aria-hidden="true" height="16" viewBox="0 0 16 16" version="1.1" width="16" data-view-component="true" class="octicon octicon-star v-align-text-bottom d-inline-block mr-2">
    <path d="M8 .25a.75.75 0 0 1 .673.418l1.882 3.815 4.21.612a.75.75 0 0 1 .416 1.279l-3.046 2.97.719 4.192a.751.751 0 0 1-1.088.791L8 12.347l-3.766 1.98a.75.75 0 0 1-1.088-.79l.72-4.194L.818 6.374a.75.75 0 0 1 .416-1.28l4.21-.611L7.327.668A.75.75 0 0 1 8 .25Zm0 2.445L6.615 5.5a.75.75 0 0 1-.564.41l-3.097.45 2.24 2.184a.75.75 0 0 1 .216.664l-.528 3.084 2.769-1.456a.75.75 0 0 1 .698 0l2.77 1.456-.53-3.084a.75.75 0 0 1 .216-.664l2.24-2.183-3.096-.45a.75.75 0 0 1-.564-.41L8 2.694Z"></path>
</svg><span data-view-component="true" class="d-inline">
          Star
</span>          <span id="repo-stars-counter-star" aria-label="1 user starred this repository" data-singular-suffix="user starred this repository" data-plural-suffix="users starred this repository" data-turbo-replace="true" title="1" data-view-component="true" class="Counter js-social-count">1</span>
</a></div>
  </li>

</ul>

        </div>
      </div>

        <div id="responsive-meta-container" data-turbo-replace>
</div>


          <nav data-pjax="#js-repo-pjax-container" aria-label="Repository" data-view-component="true" class="js-repo-nav js-sidenav-container-pjax js-responsive-underlinenav overflow-hidden UnderlineNav px-3 px-md-4 px-lg-5">

  <ul data-view-component="true" class="UnderlineNav-body list-style-none">
      <li data-view-component="true" class="d-inline-flex">
  <a id="code-tab" href="/hkeasv/ML-Examples" data-tab-item="i0code-tab" data-selected-links="repo_source repo_downloads repo_commits repo_releases repo_tags repo_branches repo_packages repo_deployments repo_attestations /hkeasv/ML-Examples" data-pjax="#repo-content-pjax-container" data-turbo-frame="repo-content-turbo-frame" data-hotkey="g c" data-analytics-event="{&quot;category&quot;:&quot;Underline navbar&quot;,&quot;action&quot;:&quot;Click tab&quot;,&quot;label&quot;:&quot;Code&quot;,&quot;target&quot;:&quot;UNDERLINE_NAV.TAB&quot;}" aria-current="page" data-view-component="true" class="UnderlineNav-item no-wrap js-responsive-underlinenav-item js-selected-navigation-item selected">
    
              <svg aria-hidden="true" height="16" viewBox="0 0 16 16" version="1.1" width="16" data-view-component="true" class="octicon octicon-code UnderlineNav-octicon d-none d-sm-inline">
    <path d="m11.28 3.22 4.25 4.25a.75.75 0 0 1 0 1.06l-4.25 4.25a.749.749 0 0 1-1.275-.326.749.749 0 0 1 .215-.734L13.94 8l-3.72-3.72a.749.749 0 0 1 .326-1.275.749.749 0 0 1 .734.215Zm-6.56 0a.751.751 0 0 1 1.042.018.751.751 0 0 1 .018 1.042L2.06 8l3.72 3.72a.749.749 0 0 1-.326 1.275.749.749 0 0 1-.734-.215L.47 8.53a.75.75 0 0 1 0-1.06Z"></path>
</svg>
        <span data-content="Code">Code</span>
          <span id="code-repo-tab-count" data-pjax-replace="" data-turbo-replace="" title="Not available" data-view-component="true" class="Counter"></span>


    
</a></li>
      <li data-view-component="true" class="d-inline-flex">
  <a id="issues-tab" href="/hkeasv/ML-Examples/issues" data-tab-item="i1issues-tab" data-selected-links="repo_issues repo_labels repo_milestones /hkeasv/ML-Examples/issues" data-pjax="#repo-content-pjax-container" data-turbo-frame="repo-content-turbo-frame" data-hotkey="g i" data-analytics-event="{&quot;category&quot;:&quot;Underline navbar&quot;,&quot;action&quot;:&quot;Click tab&quot;,&quot;label&quot;:&quot;Issues&quot;,&quot;target&quot;:&quot;UNDERLINE_NAV.TAB&quot;}" data-view-component="true" class="UnderlineNav-item no-wrap js-responsive-underlinenav-item js-selected-navigation-item">
    
              <svg aria-hidden="true" height="16" viewBox="0 0 16 16" version="1.1" width="16" data-view-component="true" class="octicon octicon-issue-opened UnderlineNav-octicon d-none d-sm-inline">
    <path d="M8 9.5a1.5 1.5 0 1 0 0-3 1.5 1.5 0 0 0 0 3Z"></path><path d="M8 0a8 8 0 1 1 0 16A8 8 0 0 1 8 0ZM1.5 8a6.5 6.5 0 1 0 13 0 6.5 6.5 0 0 0-13 0Z"></path>
</svg>
        <span data-content="Issues">Issues</span>
          <span id="issues-repo-tab-count" data-pjax-replace="" data-turbo-replace="" title="0" hidden="hidden" data-view-component="true" class="Counter">0</span>


    
</a></li>
      <li data-view-component="true" class="d-inline-flex">
  <a id="pull-requests-tab" href="/hkeasv/ML-Examples/pulls" data-tab-item="i2pull-requests-tab" data-selected-links="repo_pulls checks /hkeasv/ML-Examples/pulls" data-pjax="#repo-content-pjax-container" data-turbo-frame="repo-content-turbo-frame" data-hotkey="g p" data-analytics-event="{&quot;category&quot;:&quot;Underline navbar&quot;,&quot;action&quot;:&quot;Click tab&quot;,&quot;label&quot;:&quot;Pull requests&quot;,&quot;target&quot;:&quot;UNDERLINE_NAV.TAB&quot;}" data-view-component="true" class="UnderlineNav-item no-wrap js-responsive-underlinenav-item js-selected-navigation-item">
    
              <svg aria-hidden="true" height="16" viewBox="0 0 16 16" version="1.1" width="16" data-view-component="true" class="octicon octicon-git-pull-request UnderlineNav-octicon d-none d-sm-inline">
    <path d="M1.5 3.25a2.25 2.25 0 1 1 3 2.122v5.256a2.251 2.251 0 1 1-1.5 0V5.372A2.25 2.25 0 0 1 1.5 3.25Zm5.677-.177L9.573.677A.25.25 0 0 1 10 .854V2.5h1A2.5 2.5 0 0 1 13.5 5v5.628a2.251 2.251 0 1 1-1.5 0V5a1 1 0 0 0-1-1h-1v1.646a.25.25 0 0 1-.427.177L7.177 3.427a.25.25 0 0 1 0-.354ZM3.75 2.5a.75.75 0 1 0 0 1.5.75.75 0 0 0 0-1.5Zm0 9.5a.75.75 0 1 0 0 1.5.75.75 0 0 0 0-1.5Zm8.25.75a.75.75 0 1 0 1.5 0 .75.75 0 0 0-1.5 0Z"></path>
</svg>
        <span data-content="Pull requests">Pull requests</span>
          <span id="pull-requests-repo-tab-count" data-pjax-replace="" data-turbo-replace="" title="0" hidden="hidden" data-view-component="true" class="Counter">0</span>


    
</a></li>
      <li data-view-component="true" class="d-inline-flex">
  <a id="actions-tab" href="/hkeasv/ML-Examples/actions" data-tab-item="i3actions-tab" data-selected-links="repo_actions /hkeasv/ML-Examples/actions" data-pjax="#repo-content-pjax-container" data-turbo-frame="repo-content-turbo-frame" data-hotkey="g a" data-analytics-event="{&quot;category&quot;:&quot;Underline navbar&quot;,&quot;action&quot;:&quot;Click tab&quot;,&quot;label&quot;:&quot;Actions&quot;,&quot;target&quot;:&quot;UNDERLINE_NAV.TAB&quot;}" data-view-component="true" class="UnderlineNav-item no-wrap js-responsive-underlinenav-item js-selected-navigation-item">
    
              <svg aria-hidden="true" height="16" viewBox="0 0 16 16" version="1.1" width="16" data-view-component="true" class="octicon octicon-play UnderlineNav-octicon d-none d-sm-inline">
    <path d="M8 0a8 8 0 1 1 0 16A8 8 0 0 1 8 0ZM1.5 8a6.5 6.5 0 1 0 13 0 6.5 6.5 0 0 0-13 0Zm4.879-2.773 4.264 2.559a.25.25 0 0 1 0 .428l-4.264 2.559A.25.25 0 0 1 6 10.559V5.442a.25.25 0 0 1 .379-.215Z"></path>
</svg>
        <span data-content="Actions">Actions</span>
          <span id="actions-repo-tab-count" data-pjax-replace="" data-turbo-replace="" title="Not available" data-view-component="true" class="Counter"></span>


    
</a></li>
      <li data-view-component="true" class="d-inline-flex">
  <a id="projects-tab" href="/hkeasv/ML-Examples/projects" data-tab-item="i4projects-tab" data-selected-links="repo_projects new_repo_project repo_project /hkeasv/ML-Examples/projects" data-pjax="#repo-content-pjax-container" data-turbo-frame="repo-content-turbo-frame" data-hotkey="g b" data-analytics-event="{&quot;category&quot;:&quot;Underline navbar&quot;,&quot;action&quot;:&quot;Click tab&quot;,&quot;label&quot;:&quot;Projects&quot;,&quot;target&quot;:&quot;UNDERLINE_NAV.TAB&quot;}" data-view-component="true" class="UnderlineNav-item no-wrap js-responsive-underlinenav-item js-selected-navigation-item">
    
              <svg aria-hidden="true" height="16" viewBox="0 0 16 16" version="1.1" width="16" data-view-component="true" class="octicon octicon-table UnderlineNav-octicon d-none d-sm-inline">
    <path d="M0 1.75C0 .784.784 0 1.75 0h12.5C15.216 0 16 .784 16 1.75v12.5A1.75 1.75 0 0 1 14.25 16H1.75A1.75 1.75 0 0 1 0 14.25ZM6.5 6.5v8h7.75a.25.25 0 0 0 .25-.25V6.5Zm8-1.5V1.75a.25.25 0 0 0-.25-.25H6.5V5Zm-13 1.5v7.75c0 .138.112.25.25.25H5v-8ZM5 5V1.5H1.75a.25.25 0 0 0-.25.25V5Z"></path>
</svg>
        <span data-content="Projects">Projects</span>
          <span id="projects-repo-tab-count" data-pjax-replace="" data-turbo-replace="" title="0" hidden="hidden" data-view-component="true" class="Counter">0</span>


    
</a></li>
      <li data-view-component="true" class="d-inline-flex">
  <a id="security-tab" href="/hkeasv/ML-Examples/security" data-tab-item="i5security-tab" data-selected-links="security overview alerts policy token_scanning code_scanning /hkeasv/ML-Examples/security" data-pjax="#repo-content-pjax-container" data-turbo-frame="repo-content-turbo-frame" data-hotkey="g s" data-analytics-event="{&quot;category&quot;:&quot;Underline navbar&quot;,&quot;action&quot;:&quot;Click tab&quot;,&quot;label&quot;:&quot;Security&quot;,&quot;target&quot;:&quot;UNDERLINE_NAV.TAB&quot;}" data-view-component="true" class="UnderlineNav-item no-wrap js-responsive-underlinenav-item js-selected-navigation-item">
    
              <svg aria-hidden="true" height="16" viewBox="0 0 16 16" version="1.1" width="16" data-view-component="true" class="octicon octicon-shield UnderlineNav-octicon d-none d-sm-inline">
    <path d="M7.467.133a1.748 1.748 0 0 1 1.066 0l5.25 1.68A1.75 1.75 0 0 1 15 3.48V7c0 1.566-.32 3.182-1.303 4.682-.983 1.498-2.585 2.813-5.032 3.855a1.697 1.697 0 0 1-1.33 0c-2.447-1.042-4.049-2.357-5.032-3.855C1.32 10.182 1 8.566 1 7V3.48a1.75 1.75 0 0 1 1.217-1.667Zm.61 1.429a.25.25 0 0 0-.153 0l-5.25 1.68a.25.25 0 0 0-.174.238V7c0 1.358.275 2.666 1.057 3.86.784 1.194 2.121 2.34 4.366 3.297a.196.196 0 0 0 .154 0c2.245-.956 3.582-2.104 4.366-3.298C13.225 9.666 13.5 8.36 13.5 7V3.48a.251.251 0 0 0-.174-.237l-5.25-1.68ZM8.75 4.75v3a.75.75 0 0 1-1.5 0v-3a.75.75 0 0 1 1.5 0ZM9 10.5a1 1 0 1 1-2 0 1 1 0 0 1 2 0Z"></path>
</svg>
        <span data-content="Security">Security</span>
          <include-fragment src="/hkeasv/ML-Examples/security/overall-count" accept="text/fragment+html" data-nonce="v2:68089bc2-af2d-4ea2-dd90-94ca1ea36ef6" data-view-component="true">
  
  <div data-show-on-forbidden-error hidden>
    <div class="Box">
  <div class="blankslate-container">
    <div data-view-component="true" class="blankslate blankslate-spacious color-bg-default rounded-2">
      

      <h3 data-view-component="true" class="blankslate-heading">        Uh oh!
</h3>
      <p data-view-component="true">        <p class="color-fg-muted my-2 mb-2 ws-normal">There was an error while loading. <a class="Link--inTextBlock" data-turbo="false" href="" aria-label="Please reload this page">Please reload this page</a>.</p>
</p>

</div>  </div>
</div>  </div>
</include-fragment>

    
</a></li>
      <li data-view-component="true" class="d-inline-flex">
  <a id="insights-tab" href="/hkeasv/ML-Examples/pulse" data-tab-item="i6insights-tab" data-selected-links="repo_graphs repo_contributors dependency_graph dependabot_updates pulse people community /hkeasv/ML-Examples/pulse" data-pjax="#repo-content-pjax-container" data-turbo-frame="repo-content-turbo-frame" data-analytics-event="{&quot;category&quot;:&quot;Underline navbar&quot;,&quot;action&quot;:&quot;Click tab&quot;,&quot;label&quot;:&quot;Insights&quot;,&quot;target&quot;:&quot;UNDERLINE_NAV.TAB&quot;}" data-view-component="true" class="UnderlineNav-item no-wrap js-responsive-underlinenav-item js-selected-navigation-item">
    
              <svg aria-hidden="true" height="16" viewBox="0 0 16 16" version="1.1" width="16" data-view-component="true" class="octicon octicon-graph UnderlineNav-octicon d-none d-sm-inline">
    <path d="M1.5 1.75V13.5h13.75a.75.75 0 0 1 0 1.5H.75a.75.75 0 0 1-.75-.75V1.75a.75.75 0 0 1 1.5 0Zm14.28 2.53-5.25 5.25a.75.75 0 0 1-1.06 0L7 7.06 4.28 9.78a.751.751 0 0 1-1.042-.018.751.751 0 0 1-.018-1.042l3.25-3.25a.75.75 0 0 1 1.06 0L10 7.94l4.72-4.72a.751.751 0 0 1 1.042.018.751.751 0 0 1 .018 1.042Z"></path>
</svg>
        <span data-content="Insights">Insights</span>
          <span id="insights-repo-tab-count" data-pjax-replace="" data-turbo-replace="" title="Not available" data-view-component="true" class="Counter"></span>


    
</a></li>
</ul>
    <div style="visibility:hidden;" data-view-component="true" class="UnderlineNav-actions js-responsive-underlinenav-overflow position-absolute pr-3 pr-md-4 pr-lg-5 right-0">      <action-menu data-select-variant="none" data-view-component="true">
  <focus-group direction="vertical" mnemonics retain>
    <button id="action-menu-8a87c4aa-86c8-4a09-ab7a-419fce7f3461-button" popovertarget="action-menu-8a87c4aa-86c8-4a09-ab7a-419fce7f3461-overlay" aria-controls="action-menu-8a87c4aa-86c8-4a09-ab7a-419fce7f3461-list" aria-haspopup="true" aria-labelledby="tooltip-8e9fb25e-1f8e-4629-9451-8da1003c5fe1" type="button" data-view-component="true" class="Button Button--iconOnly Button--secondary Button--medium UnderlineNav-item">  <svg aria-hidden="true" height="16" viewBox="0 0 16 16" version="1.1" width="16" data-view-component="true" class="octicon octicon-kebab-horizontal Button-visual">
    <path d="M8 9a1.5 1.5 0 1 0 0-3 1.5 1.5 0 0 0 0 3ZM1.5 9a1.5 1.5 0 1 0 0-3 1.5 1.5 0 0 0 0 3Zm13 0a1.5 1.5 0 1 0 0-3 1.5 1.5 0 0 0 0 3Z"></path>
</svg>
</button><tool-tip id="tooltip-8e9fb25e-1f8e-4629-9451-8da1003c5fe1" for="action-menu-8a87c4aa-86c8-4a09-ab7a-419fce7f3461-button" popover="manual" data-direction="s" data-type="label" data-view-component="true" class="sr-only position-absolute">Additional navigation options</tool-tip>


<anchored-position data-target="action-menu.overlay" id="action-menu-8a87c4aa-86c8-4a09-ab7a-419fce7f3461-overlay" anchor="action-menu-8a87c4aa-86c8-4a09-ab7a-419fce7f3461-button" align="start" side="outside-bottom" anchor-offset="normal" popover="auto" data-view-component="true">
  <div data-view-component="true" class="Overlay Overlay--size-auto">
    
      <div data-view-component="true" class="Overlay-body Overlay-body--paddingNone">          <action-list>
  <div data-view-component="true">
    <ul aria-labelledby="action-menu-8a87c4aa-86c8-4a09-ab7a-419fce7f3461-button" id="action-menu-8a87c4aa-86c8-4a09-ab7a-419fce7f3461-list" role="menu" data-view-component="true" class="ActionListWrap--inset ActionListWrap">
        <li hidden="hidden" data-menu-item="i0code-tab" data-targets="action-list.items" role="none" data-view-component="true" class="ActionListItem">
    
    
    <a tabindex="-1" id="item-8d98ccfd-8afb-4ef7-8815-afa9086555b6" href="/hkeasv/ML-Examples" role="menuitem" data-view-component="true" class="ActionListContent ActionListContent--visual16">
        <span class="ActionListItem-visual ActionListItem-visual--leading">
          <svg aria-hidden="true" height="16" viewBox="0 0 16 16" version="1.1" width="16" data-view-component="true" class="octicon octicon-code">
    <path d="m11.28 3.22 4.25 4.25a.75.75 0 0 1 0 1.06l-4.25 4.25a.749.749 0 0 1-1.275-.326.749.749 0 0 1 .215-.734L13.94 8l-3.72-3.72a.749.749 0 0 1 .326-1.275.749.749 0 0 1 .734.215Zm-6.56 0a.751.751 0 0 1 1.042.018.751.751 0 0 1 .018 1.042L2.06 8l3.72 3.72a.749.749 0 0 1-.326 1.275.749.749 0 0 1-.734-.215L.47 8.53a.75.75 0 0 1 0-1.06Z"></path>
</svg>
        </span>
      
        <span data-view-component="true" class="ActionListItem-label">
          Code
</span>      
</a>
  
</li>
        <li hidden="hidden" data-menu-item="i1issues-tab" data-targets="action-list.items" role="none" data-view-component="true" class="ActionListItem">
    
    
    <a tabindex="-1" id="item-d213148e-e6dd-455b-a98b-6f80845d880a" href="/hkeasv/ML-Examples/issues" role="menuitem" data-view-component="true" class="ActionListContent ActionListContent--visual16">
        <span class="ActionListItem-visual ActionListItem-visual--leading">
          <svg aria-hidden="true" height="16" viewBox="0 0 16 16" version="1.1" width="16" data-view-component="true" class="octicon octicon-issue-opened">
    <path d="M8 9.5a1.5 1.5 0 1 0 0-3 1.5 1.5 0 0 0 0 3Z"></path><path d="M8 0a8 8 0 1 1 0 16A8 8 0 0 1 8 0ZM1.5 8a6.5 6.5 0 1 0 13 0 6.5 6.5 0 0 0-13 0Z"></path>
</svg>
        </span>
      
        <span data-view-component="true" class="ActionListItem-label">
          Issues
</span>      
</a>
  
</li>
        <li hidden="hidden" data-menu-item="i2pull-requests-tab" data-targets="action-list.items" role="none" data-view-component="true" class="ActionListItem">
    
    
    <a tabindex="-1" id="item-26dbbd33-2cf9-45b1-a83c-1e2ede14fffe" href="/hkeasv/ML-Examples/pulls" role="menuitem" data-view-component="true" class="ActionListContent ActionListContent--visual16">
        <span class="ActionListItem-visual ActionListItem-visual--leading">
          <svg aria-hidden="true" height="16" viewBox="0 0 16 16" version="1.1" width="16" data-view-component="true" class="octicon octicon-git-pull-request">
    <path d="M1.5 3.25a2.25 2.25 0 1 1 3 2.122v5.256a2.251 2.251 0 1 1-1.5 0V5.372A2.25 2.25 0 0 1 1.5 3.25Zm5.677-.177L9.573.677A.25.25 0 0 1 10 .854V2.5h1A2.5 2.5 0 0 1 13.5 5v5.628a2.251 2.251 0 1 1-1.5 0V5a1 1 0 0 0-1-1h-1v1.646a.25.25 0 0 1-.427.177L7.177 3.427a.25.25 0 0 1 0-.354ZM3.75 2.5a.75.75 0 1 0 0 1.5.75.75 0 0 0 0-1.5Zm0 9.5a.75.75 0 1 0 0 1.5.75.75 0 0 0 0-1.5Zm8.25.75a.75.75 0 1 0 1.5 0 .75.75 0 0 0-1.5 0Z"></path>
</svg>
        </span>
      
        <span data-view-component="true" class="ActionListItem-label">
          Pull requests
</span>      
</a>
  
</li>
        <li hidden="hidden" data-menu-item="i3actions-tab" data-targets="action-list.items" role="none" data-view-component="true" class="ActionListItem">
    
    
    <a tabindex="-1" id="item-0c07e8a2-06c0-403d-84fd-93b1582aa116" href="/hkeasv/ML-Examples/actions" role="menuitem" data-view-component="true" class="ActionListContent ActionListContent--visual16">
        <span class="ActionListItem-visual ActionListItem-visual--leading">
          <svg aria-hidden="true" height="16" viewBox="0 0 16 16" version="1.1" width="16" data-view-component="true" class="octicon octicon-play">
    <path d="M8 0a8 8 0 1 1 0 16A8 8 0 0 1 8 0ZM1.5 8a6.5 6.5 0 1 0 13 0 6.5 6.5 0 0 0-13 0Zm4.879-2.773 4.264 2.559a.25.25 0 0 1 0 .428l-4.264 2.559A.25.25 0 0 1 6 10.559V5.442a.25.25 0 0 1 .379-.215Z"></path>
</svg>
        </span>
      
        <span data-view-component="true" class="ActionListItem-label">
          Actions
</span>      
</a>
  
</li>
        <li hidden="hidden" data-menu-item="i4projects-tab" data-targets="action-list.items" role="none" data-view-component="true" class="ActionListItem">
    
    
    <a tabindex="-1" id="item-15783d3d-a4f7-4ed6-84c5-eb7cce914e8b" href="/hkeasv/ML-Examples/projects" role="menuitem" data-view-component="true" class="ActionListContent ActionListContent--visual16">
        <span class="ActionListItem-visual ActionListItem-visual--leading">
          <svg aria-hidden="true" height="16" viewBox="0 0 16 16" version="1.1" width="16" data-view-component="true" class="octicon octicon-table">
    <path d="M0 1.75C0 .784.784 0 1.75 0h12.5C15.216 0 16 .784 16 1.75v12.5A1.75 1.75 0 0 1 14.25 16H1.75A1.75 1.75 0 0 1 0 14.25ZM6.5 6.5v8h7.75a.25.25 0 0 0 .25-.25V6.5Zm8-1.5V1.75a.25.25 0 0 0-.25-.25H6.5V5Zm-13 1.5v7.75c0 .138.112.25.25.25H5v-8ZM5 5V1.5H1.75a.25.25 0 0 0-.25.25V5Z"></path>
</svg>
        </span>
      
        <span data-view-component="true" class="ActionListItem-label">
          Projects
</span>      
</a>
  
</li>
        <li hidden="hidden" data-menu-item="i5security-tab" data-targets="action-list.items" role="none" data-view-component="true" class="ActionListItem">
    
    
    <a tabindex="-1" id="item-d4f79672-4329-4120-8a61-10a6a4df4e16" href="/hkeasv/ML-Examples/security" role="menuitem" data-view-component="true" class="ActionListContent ActionListContent--visual16">
        <span class="ActionListItem-visual ActionListItem-visual--leading">
          <svg aria-hidden="true" height="16" viewBox="0 0 16 16" version="1.1" width="16" data-view-component="true" class="octicon octicon-shield">
    <path d="M7.467.133a1.748 1.748 0 0 1 1.066 0l5.25 1.68A1.75 1.75 0 0 1 15 3.48V7c0 1.566-.32 3.182-1.303 4.682-.983 1.498-2.585 2.813-5.032 3.855a1.697 1.697 0 0 1-1.33 0c-2.447-1.042-4.049-2.357-5.032-3.855C1.32 10.182 1 8.566 1 7V3.48a1.75 1.75 0 0 1 1.217-1.667Zm.61 1.429a.25.25 0 0 0-.153 0l-5.25 1.68a.25.25 0 0 0-.174.238V7c0 1.358.275 2.666 1.057 3.86.784 1.194 2.121 2.34 4.366 3.297a.196.196 0 0 0 .154 0c2.245-.956 3.582-2.104 4.366-3.298C13.225 9.666 13.5 8.36 13.5 7V3.48a.251.251 0 0 0-.174-.237l-5.25-1.68ZM8.75 4.75v3a.75.75 0 0 1-1.5 0v-3a.75.75 0 0 1 1.5 0ZM9 10.5a1 1 0 1 1-2 0 1 1 0 0 1 2 0Z"></path>
</svg>
        </span>
      
        <span data-view-component="true" class="ActionListItem-label">
          Security
</span>      
</a>
  
</li>
        <li hidden="hidden" data-menu-item="i6insights-tab" data-targets="action-list.items" role="none" data-view-component="true" class="ActionListItem">
    
    
    <a tabindex="-1" id="item-5344e780-90bd-4a4c-9769-d1ee7544a061" href="/hkeasv/ML-Examples/pulse" role="menuitem" data-view-component="true" class="ActionListContent ActionListContent--visual16">
        <span class="ActionListItem-visual ActionListItem-visual--leading">
          <svg aria-hidden="true" height="16" viewBox="0 0 16 16" version="1.1" width="16" data-view-component="true" class="octicon octicon-graph">
    <path d="M1.5 1.75V13.5h13.75a.75.75 0 0 1 0 1.5H.75a.75.75 0 0 1-.75-.75V1.75a.75.75 0 0 1 1.5 0Zm14.28 2.53-5.25 5.25a.75.75 0 0 1-1.06 0L7 7.06 4.28 9.78a.751.751 0 0 1-1.042-.018.751.751 0 0 1-.018-1.042l3.25-3.25a.75.75 0 0 1 1.06 0L10 7.94l4.72-4.72a.751.751 0 0 1 1.042.018.751.751 0 0 1 .018 1.042Z"></path>
</svg>
        </span>
      
        <span data-view-component="true" class="ActionListItem-label">
          Insights
</span>      
</a>
  
</li>
</ul>    
</div></action-list>


</div>
      
</div></anchored-position>  </focus-group>
</action-menu></div>
</nav>

  </div>

  



<turbo-frame id="repo-content-turbo-frame" target="_top" data-turbo-action="advance" class="">
    <div id="repo-content-pjax-container" class="repository-content " >
    



    
      
    








<react-app
  app-name="react-code-view"
  initial-path="/hkeasv/ML-Examples/blob/main/Chap_10_MNIST_Fashion_Callbacks.ipynb"
    style="display: block; min-height: calc(100vh - 64px);"
  data-attempted-ssr="false"
  data-ssr="false"
  data-lazy="false"
  data-alternate="false"
  data-data-router-enabled="false"
  data-react-profiling="false"
>
  
  <script type="application/json" data-target="react-app.embeddedData">{"payload":{"allShortcutsEnabled":false,"fileTree":{"":{"items":[{"name":".ipynb_checkpoints","path":".ipynb_checkpoints","contentType":"directory"},{"name":"Old examples","path":"Old examples","contentType":"directory"},{"name":"datasets","path":"datasets","contentType":"directory"},{"name":"my_logs","path":"my_logs","contentType":"directory"},{"name":"my_mnist","path":"my_mnist","contentType":"directory"},{"name":".DS_Store","path":".DS_Store","contentType":"file"},{"name":".gitattributes","path":".gitattributes","contentType":"file"},{"name":"Chap_10_Housing.ipynb","path":"Chap_10_Housing.ipynb","contentType":"file"},{"name":"Chap_10_MNIST_Fashion.ipynb","path":"Chap_10_MNIST_Fashion.ipynb","contentType":"file"},{"name":"Chap_10_MNIST_Fashion_Callbacks.ipynb","path":"Chap_10_MNIST_Fashion_Callbacks.ipynb","contentType":"file"},{"name":"Chap_10_MNIST_Fashion_KerasTuner.ipynb","path":"Chap_10_MNIST_Fashion_KerasTuner.ipynb","contentType":"file"},{"name":"Chap_11_1_MNIST_Fashion.ipynb","path":"Chap_11_1_MNIST_Fashion.ipynb","contentType":"file"},{"name":"Chap_11_2_Momentum_Optimization.ipynb","path":"Chap_11_2_Momentum_Optimization.ipynb","contentType":"file"},{"name":"Chap_11_3_SELU_Lecun.ipynb","path":"Chap_11_3_SELU_Lecun.ipynb","contentType":"file"},{"name":"Chap_11_4_LR_Scheduling.ipynb","path":"Chap_11_4_LR_Scheduling.ipynb","contentType":"file"},{"name":"Chap_11_5_Dropout.ipynb","path":"Chap_11_5_Dropout.ipynb","contentType":"file"},{"name":"Chap_11_MNIST_Fashion.ipynb","path":"Chap_11_MNIST_Fashion.ipynb","contentType":"file"},{"name":"Chap_2_Housing_GridSearch.ipynb","path":"Chap_2_Housing_GridSearch.ipynb","contentType":"file"},{"name":"Chap_2_Housing_Improved.ipynb","path":"Chap_2_Housing_Improved.ipynb","contentType":"file"},{"name":"Chap_6_Decision_Trees.ipynb","path":"Chap_6_Decision_Trees.ipynb","contentType":"file"},{"name":"Chap_7_Gradient_Boosting.ipynb","path":"Chap_7_Gradient_Boosting.ipynb","contentType":"file"},{"name":"Chap_7_Random_Forest.ipynb","path":"Chap_7_Random_Forest.ipynb","contentType":"file"},{"name":"Intro to ML.ipynb","path":"Intro to ML.ipynb","contentType":"file"},{"name":"MNIST_Fashion_CNN.ipynb","path":"MNIST_Fashion_CNN.ipynb","contentType":"file"},{"name":"MNIST_Fashion_CNN2.ipynb","path":"MNIST_Fashion_CNN2.ipynb","contentType":"file"},{"name":"NumPy slicing.ipynb","path":"NumPy slicing.ipynb","contentType":"file"},{"name":"README.md","path":"README.md","contentType":"file"},{"name":"TensorFlow_with_GPU.ipynb","path":"TensorFlow_with_GPU.ipynb","contentType":"file"},{"name":"Tensorflow Serving.ipynb","path":"Tensorflow Serving.ipynb","contentType":"file"},{"name":"mnist_fashion.h5","path":"mnist_fashion.h5","contentType":"file"},{"name":"mnist_fashion.keras","path":"mnist_fashion.keras","contentType":"file"}],"totalCount":31}},"fileTreeProcessingTime":6.320163,"foldersToFetch":[],"incompleteFileTree":false,"repo":{"id":751802809,"defaultBranch":"main","name":"ML-Examples","ownerLogin":"hkeasv","currentUserCanPush":false,"isFork":false,"isEmpty":false,"createdAt":"2024-02-02T11:08:38.000Z","ownerAvatar":"https://avatars.githubusercontent.com/u/151037089?v=4","public":true,"private":false,"isOrgOwned":false},"codeLineWrapEnabled":false,"symbolsExpanded":false,"treeExpanded":true,"refInfo":{"name":"main","listCacheKey":"v0:1706872175.0","canEdit":false,"refType":"branch","currentOid":"544257e8dd17126f78ca120a2d0c033408d76373","canEditOnDefaultBranch":false,"fileExistsOnDefault":true},"path":"Chap_10_MNIST_Fashion_Callbacks.ipynb","currentUser":null,"blob":{"rawLines":["{"," \"cells\": [","  {","   \"attachments\": {","    \"mls2_1011.png\": {","     \"image/png\": \"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\"","    }","   },","   \"cell_type\": \"markdown\",","   \"metadata\": {},","   \"source\": [","    \"# Demonstrating callbacks using the Fashion MNIST dataset\\n\",","    \"The Fashion MNIST dataset consists of 70.000 grayscale images of 28x28 pixels each, and there are 10 classes.\\n\",","    \"\\n\",","    \"![mls2_1011.png](attachment:mls2_1011.png)\"","   ]","  },","  {","   \"cell_type\": \"markdown\",","   \"metadata\": {},","   \"source\": [","    \"## Setup\"","   ]","  },","  {","   \"cell_type\": \"code\",","   \"execution_count\": 1,","   \"metadata\": {},","   \"outputs\": [],","   \"source\": [","    \"# Common imports\\n\",","    \"import sys\\n\",","    \"import os\\n\",","    \"import sklearn\\n\",","    \"import numpy as np\\n\",","    \"import pandas as pd\\n\",","    \"import tensorflow as tf\\n\",","    \"from tensorflow import keras\\n\",","    \"\\n\",","    \"# to make this notebook's output stable across runs\\n\",","    \"np.random.seed(42)\\n\",","    \"tf.random.set_seed(42)\\n\",","    \"\\n\",","    \"# To plot pretty figures\\n\",","    \"%matplotlib inline\\n\",","    \"import matplotlib.pyplot as plt\\n\",","    \"\\n\",","    \"# Ignore useless warnings (see SciPy issue #5998)\\n\",","    \"import warnings\\n\",","    \"warnings.filterwarnings(action=\\\"ignore\\\", message=\\\"^internal gelsd\\\")\"","   ]","  },","  {","   \"cell_type\": \"markdown\",","   \"metadata\": {},","   \"source\": [","    \"## Load the data\\n\",","    \"Keras has a number of functions to load popular datasets in `keras.datasets`. The dataset is already split for you between a training set and a test set.\"","   ]","  },","  {","   \"cell_type\": \"code\",","   \"execution_count\": 2,","   \"metadata\": {},","   \"outputs\": [],","   \"source\": [","    \"fashion_mnist = keras.datasets.fashion_mnist\\n\",","    \"(X_train_full, y_train_full), (X_test, y_test) = fashion_mnist.load_data()\"","   ]","  },","  {","   \"cell_type\": \"code\",","   \"execution_count\": 3,","   \"metadata\": {},","   \"outputs\": [],","   \"source\": [","    \"# Split the full training set into a validation set and a (smaller) training set,\\n\",","    \"# and scale the pixel intensities down to the 0-1 range and convert them to floats, by dividing by 255.\\n\",","    \"X_valid, X_train = X_train_full[:5000] / 255., X_train_full[5000:] / 255.\\n\",","    \"y_valid, y_train = y_train_full[:5000], y_train_full[5000:]\\n\",","    \"X_test = X_test / 255.\"","   ]","  },","  {","   \"cell_type\": \"code\",","   \"execution_count\": 4,","   \"metadata\": {},","   \"outputs\": [],","   \"source\": [","    \"class_names = [\\\"T-shirt/top\\\", \\\"Trouser\\\", \\\"Pullover\\\", \\\"Dress\\\", \\\"Coat\\\",\\n\",","    \"               \\\"Sandal\\\", \\\"Shirt\\\", \\\"Sneaker\\\", \\\"Bag\\\", \\\"Ankle boot\\\"]\"","   ]","  },","  {","   \"cell_type\": \"markdown\",","   \"metadata\": {},","   \"source\": [","    \"## Create a model using the Sequential API\"","   ]","  },","  {","   \"cell_type\": \"code\",","   \"execution_count\": 5,","   \"metadata\": {},","   \"outputs\": [","    {","     \"name\": \"stderr\",","     \"output_type\": \"stream\",","     \"text\": [","      \"/Users/hk/opt/anaconda3/lib/python3.12/site-packages/keras/src/layers/reshaping/flatten.py:37: UserWarning: Do not pass an `input_shape`/`input_dim` argument to a layer. When using Sequential models, prefer using an `Input(shape)` object as the first layer in the model instead.\\n\",","      \"  super().__init__(**kwargs)\\n\"","     ]","    }","   ],","   \"source\": [","    \"model = keras.models.Sequential()\\n\",","    \"# Input layer:\\n\",","    \"# A \\\"Flatten\\\" layer converts each input image into a 1-dimensional array.\\n\",","    \"# You could also use an \\\"InputLayer\\\" instead of a \\\"Flatten\\\" layer.\\n\",","    \"model.add(keras.layers.Flatten(input_shape=[28, 28]))\\n\",","    \"\\n\",","    \"# Hidden layers:\\n\",","    \"# A dense layer is fully connected.\\n\",","    \"model.add(keras.layers.Dense(300, activation=\\\"relu\\\"))\\n\",","    \"model.add(keras.layers.Dense(100, activation=\\\"relu\\\"))\\n\",","    \"\\n\",","    \"# Output layer.\\n\",","    \"# The layer contains one neuron per class (i.e. 10).\\n\",","    \"# Since it is multiclass classification, we should use the softmax activation function.\\n\",","    \"# It will ensure that the estimated probabilities are between 0 and 1, and that the sum\\n\",","    \"# of estimated probabilities for one prediction is 1.\\n\",","    \"# (for binary classification we would have a single output neuron using the logistic activation function).\\n\",","    \"model.add(keras.layers.Dense(10, activation=\\\"softmax\\\"))\"","   ]","  },","  {","   \"cell_type\": \"markdown\",","   \"metadata\": {},","   \"source\": [","    \"## Compile the model\\n\",","    \"You must at least specify the loss function and the optimizer to use. You can also specify a list of additional metrics to use during training and evaluation.\"","   ]","  },","  {","   \"cell_type\": \"code\",","   \"execution_count\": 6,","   \"metadata\": {},","   \"outputs\": [],","   \"source\": [","    \"# \\\"sparse_categorical_crossentropy\\\" is the loss function to use for classification when the classes are exclusive.\\n\",","    \"# \\\"sgd\\\" means Stochastic Gradient Descent.\\n\",","    \"# \\\"accuracy\\\" enables us to measure the accuracy during training and evaluation.\\n\",","    \"model.compile(loss=\\\"sparse_categorical_crossentropy\\\",\\n\",","    \"              optimizer=\\\"sgd\\\",\\n\",","    \"              metrics=[\\\"accuracy\\\"])\"","   ]","  },","  {","   \"cell_type\": \"markdown\",","   \"metadata\": {},","   \"source\": [","    \"## Training using callbacks\\n\",","    \"The fit() method accepts a callbacks argument that lets you specify a list of objects that Keras will call at the start and end of\\n\",","    \"\\n\",","    \"1. training\\n\",","    \"2. each epoch\\n\",","    \"3. each batch\\n\",","    \"\\n\",","    \"We will use 3 callbacks in the following example:\\n\",","    \"\\n\",","    \"\u003cb\u003eModelCheckpoint\u003c/b\u003e: Saves checkpoints of the model at regular intervals.\u003cbr\u003e\\n\",","    \"\u003cb\u003eEarlyStopping\u003c/b\u003e: Interrupts training when it measures no progress on the validation set for a number of epochs, defined by a patience argument.\u003cbr\u003e\\n\",","    \"\u003cb\u003eTensorBoard\u003c/b\u003e: Will save data in log files at regular intervals so that it can be displayed by a visualization tool, called TensorBoard.\"","   ]","  },","  {","   \"cell_type\": \"code\",","   \"execution_count\": 7,","   \"metadata\": {},","   \"outputs\": [],","   \"source\": [","    \"if \\\"google.colab\\\" in sys.modules:  # extra code\\n\",","    \"    %pip install -q -U tensorboard-plugin-profile\"","   ]","  },","  {","   \"cell_type\": \"code\",","   \"execution_count\": 8,","   \"metadata\": {},","   \"outputs\": [],","   \"source\": [","    \"# Define the root log directory.\\n\",","    \"root_logdir = os.path.join(os.curdir, \\\"my_logs\\\")\"","   ]","  },","  {","   \"cell_type\": \"code\",","   \"execution_count\": 9,","   \"metadata\": {},","   \"outputs\": [","    {","     \"data\": {","      \"text/plain\": [","       \"'./my_logs/run_2025_09_22-16_12_15'\"","      ]","     },","     \"execution_count\": 9,","     \"metadata\": {},","     \"output_type\": \"execute_result\"","    }","   ],","   \"source\": [","    \"# Create a function that will generate a subdirectory path based on the current date and time\\n\",","    \"# (this information must be passed to the TensorBoard callback as an argument)\\n\",","    \"def get_run_logdir():\\n\",","    \"    import time\\n\",","    \"    run_id = time.strftime(\\\"run_%Y_%m_%d-%H_%M_%S\\\")\\n\",","    \"    return os.path.join(root_logdir, run_id)\\n\",","    \"\\n\",","    \"run_logdir = get_run_logdir()\\n\",","    \"run_logdir\"","   ]","  },","  {","   \"cell_type\": \"code\",","   \"execution_count\": 10,","   \"metadata\": {},","   \"outputs\": [],","   \"source\": [","    \"# Define callbacks.\\n\",","    \"\\n\",","    \"# ModelCheckpoint.\\n\",","    \"checkpoint_cb = keras.callbacks.ModelCheckpoint(\\\"mnist_fashion.keras\\\", save_best_only=True)\\n\",","    \"\\n\",","    \"# EarlyStopping (with rollback to the best model).\\n\",","    \"early_stopping_cb = keras.callbacks.EarlyStopping(patience=5, restore_best_weights=True)\\n\",","    \"\\n\",","    \"#TensorBoard.\\n\",","    \"tensorboard_cb = keras.callbacks.TensorBoard(run_logdir)\"","   ]","  },","  {","   \"cell_type\": \"code\",","   \"execution_count\": 11,","   \"metadata\": {},","   \"outputs\": [","    {","     \"name\": \"stdout\",","     \"output_type\": \"stream\",","     \"text\": [","      \"Epoch 1/50\\n\",","      \"\\u001b[1m1719/1719\\u001b[0m \\u001b[32m━━━━━━━━━━━━━━━━━━━━\\u001b[0m\\u001b[37m\\u001b[0m \\u001b[1m1s\\u001b[0m 641us/step - accuracy: 0.6836 - loss: 0.9965 - val_accuracy: 0.8228 - val_loss: 0.5193\\n\",","      \"Epoch 2/50\\n\",","      \"\\u001b[1m1719/1719\\u001b[0m \\u001b[32m━━━━━━━━━━━━━━━━━━━━\\u001b[0m\\u001b[37m\\u001b[0m \\u001b[1m1s\\u001b[0m 605us/step - accuracy: 0.8250 - loss: 0.4990 - val_accuracy: 0.8464 - val_loss: 0.4535\\n\",","      \"Epoch 3/50\\n\",","      \"\\u001b[1m1719/1719\\u001b[0m \\u001b[32m━━━━━━━━━━━━━━━━━━━━\\u001b[0m\\u001b[37m\\u001b[0m \\u001b[1m1s\\u001b[0m 564us/step - accuracy: 0.8422 - loss: 0.4477 - val_accuracy: 0.8562 - val_loss: 0.4219\\n\",","      \"Epoch 4/50\\n\",","      \"\\u001b[1m1719/1719\\u001b[0m \\u001b[32m━━━━━━━━━━━━━━━━━━━━\\u001b[0m\\u001b[37m\\u001b[0m \\u001b[1m1s\\u001b[0m 585us/step - accuracy: 0.8527 - loss: 0.4187 - val_accuracy: 0.8634 - val_loss: 0.3995\\n\",","      \"Epoch 5/50\\n\",","      \"\\u001b[1m1719/1719\\u001b[0m \\u001b[32m━━━━━━━━━━━━━━━━━━━━\\u001b[0m\\u001b[37m\\u001b[0m \\u001b[1m1s\\u001b[0m 584us/step - accuracy: 0.8596 - loss: 0.3975 - val_accuracy: 0.8662 - val_loss: 0.3842\\n\",","      \"Epoch 6/50\\n\",","      \"\\u001b[1m1719/1719\\u001b[0m \\u001b[32m━━━━━━━━━━━━━━━━━━━━\\u001b[0m\\u001b[37m\\u001b[0m \\u001b[1m1s\\u001b[0m 571us/step - accuracy: 0.8646 - loss: 0.3808 - val_accuracy: 0.8674 - val_loss: 0.3720\\n\",","      \"Epoch 7/50\\n\",","      \"\\u001b[1m1719/1719\\u001b[0m \\u001b[32m━━━━━━━━━━━━━━━━━━━━\\u001b[0m\\u001b[37m\\u001b[0m \\u001b[1m1s\\u001b[0m 599us/step - accuracy: 0.8695 - loss: 0.3670 - val_accuracy: 0.8700 - val_loss: 0.3625\\n\",","      \"Epoch 8/50\\n\",","      \"\\u001b[1m1719/1719\\u001b[0m \\u001b[32m━━━━━━━━━━━━━━━━━━━━\\u001b[0m\\u001b[37m\\u001b[0m \\u001b[1m1s\\u001b[0m 606us/step - accuracy: 0.8738 - loss: 0.3550 - val_accuracy: 0.8730 - val_loss: 0.3551\\n\",","      \"Epoch 9/50\\n\",","      \"\\u001b[1m1719/1719\\u001b[0m \\u001b[32m━━━━━━━━━━━━━━━━━━━━\\u001b[0m\\u001b[37m\\u001b[0m \\u001b[1m1s\\u001b[0m 569us/step - accuracy: 0.8764 - loss: 0.3446 - val_accuracy: 0.8758 - val_loss: 0.3484\\n\",","      \"Epoch 10/50\\n\",","      \"\\u001b[1m1719/1719\\u001b[0m \\u001b[32m━━━━━━━━━━━━━━━━━━━━\\u001b[0m\\u001b[37m\\u001b[0m \\u001b[1m1s\\u001b[0m 580us/step - accuracy: 0.8799 - loss: 0.3349 - val_accuracy: 0.8754 - val_loss: 0.3432\\n\",","      \"Epoch 11/50\\n\",","      \"\\u001b[1m1719/1719\\u001b[0m \\u001b[32m━━━━━━━━━━━━━━━━━━━━\\u001b[0m\\u001b[37m\\u001b[0m \\u001b[1m1s\\u001b[0m 588us/step - accuracy: 0.8822 - loss: 0.3263 - val_accuracy: 0.8762 - val_loss: 0.3384\\n\",","      \"Epoch 12/50\\n\",","      \"\\u001b[1m1719/1719\\u001b[0m \\u001b[32m━━━━━━━━━━━━━━━━━━━━\\u001b[0m\\u001b[37m\\u001b[0m \\u001b[1m1s\\u001b[0m 570us/step - accuracy: 0.8852 - loss: 0.3182 - val_accuracy: 0.8786 - val_loss: 0.3337\\n\",","      \"Epoch 13/50\\n\",","      \"\\u001b[1m1719/1719\\u001b[0m \\u001b[32m━━━━━━━━━━━━━━━━━━━━\\u001b[0m\\u001b[37m\\u001b[0m \\u001b[1m1s\\u001b[0m 595us/step - accuracy: 0.8879 - loss: 0.3107 - val_accuracy: 0.8788 - val_loss: 0.3297\\n\",","      \"Epoch 14/50\\n\",","      \"\\u001b[1m1719/1719\\u001b[0m \\u001b[32m━━━━━━━━━━━━━━━━━━━━\\u001b[0m\\u001b[37m\\u001b[0m \\u001b[1m1s\\u001b[0m 613us/step - accuracy: 0.8900 - loss: 0.3038 - val_accuracy: 0.8796 - val_loss: 0.3259\\n\",","      \"Epoch 15/50\\n\",","      \"\\u001b[1m1719/1719\\u001b[0m \\u001b[32m━━━━━━━━━━━━━━━━━━━━\\u001b[0m\\u001b[37m\\u001b[0m \\u001b[1m1s\\u001b[0m 584us/step - accuracy: 0.8930 - loss: 0.2971 - val_accuracy: 0.8806 - val_loss: 0.3223\\n\",","      \"Epoch 16/50\\n\",","      \"\\u001b[1m1719/1719\\u001b[0m \\u001b[32m━━━━━━━━━━━━━━━━━━━━\\u001b[0m\\u001b[37m\\u001b[0m \\u001b[1m1s\\u001b[0m 585us/step - accuracy: 0.8948 - loss: 0.2908 - val_accuracy: 0.8836 - val_loss: 0.3194\\n\",","      \"Epoch 17/50\\n\",","      \"\\u001b[1m1719/1719\\u001b[0m \\u001b[32m━━━━━━━━━━━━━━━━━━━━\\u001b[0m\\u001b[37m\\u001b[0m \\u001b[1m1s\\u001b[0m 576us/step - accuracy: 0.8968 - loss: 0.2848 - val_accuracy: 0.8842 - val_loss: 0.3168\\n\",","      \"Epoch 18/50\\n\",","      \"\\u001b[1m1719/1719\\u001b[0m \\u001b[32m━━━━━━━━━━━━━━━━━━━━\\u001b[0m\\u001b[37m\\u001b[0m \\u001b[1m1s\\u001b[0m 601us/step - accuracy: 0.8988 - loss: 0.2793 - val_accuracy: 0.8850 - val_loss: 0.3139\\n\",","      \"Epoch 19/50\\n\",","      \"\\u001b[1m1719/1719\\u001b[0m \\u001b[32m━━━━━━━━━━━━━━━━━━━━\\u001b[0m\\u001b[37m\\u001b[0m \\u001b[1m1s\\u001b[0m 663us/step - accuracy: 0.9003 - loss: 0.2741 - val_accuracy: 0.8858 - val_loss: 0.3119\\n\",","      \"Epoch 20/50\\n\",","      \"\\u001b[1m1719/1719\\u001b[0m \\u001b[32m━━━━━━━━━━━━━━━━━━━━\\u001b[0m\\u001b[37m\\u001b[0m \\u001b[1m1s\\u001b[0m 617us/step - accuracy: 0.9023 - loss: 0.2689 - val_accuracy: 0.8860 - val_loss: 0.3099\\n\",","      \"Epoch 21/50\\n\",","      \"\\u001b[1m1719/1719\\u001b[0m \\u001b[32m━━━━━━━━━━━━━━━━━━━━\\u001b[0m\\u001b[37m\\u001b[0m \\u001b[1m1s\\u001b[0m 591us/step - accuracy: 0.9043 - loss: 0.2640 - val_accuracy: 0.8874 - val_loss: 0.3070\\n\",","      \"Epoch 22/50\\n\",","      \"\\u001b[1m1719/1719\\u001b[0m \\u001b[32m━━━━━━━━━━━━━━━━━━━━\\u001b[0m\\u001b[37m\\u001b[0m \\u001b[1m1s\\u001b[0m 580us/step - accuracy: 0.9061 - loss: 0.2591 - val_accuracy: 0.8888 - val_loss: 0.3055\\n\",","      \"Epoch 23/50\\n\",","      \"\\u001b[1m1719/1719\\u001b[0m \\u001b[32m━━━━━━━━━━━━━━━━━━━━\\u001b[0m\\u001b[37m\\u001b[0m \\u001b[1m1s\\u001b[0m 583us/step - accuracy: 0.9078 - loss: 0.2543 - val_accuracy: 0.8892 - val_loss: 0.3040\\n\",","      \"Epoch 24/50\\n\",","      \"\\u001b[1m1719/1719\\u001b[0m \\u001b[32m━━━━━━━━━━━━━━━━━━━━\\u001b[0m\\u001b[37m\\u001b[0m \\u001b[1m1s\\u001b[0m 594us/step - accuracy: 0.9101 - loss: 0.2497 - val_accuracy: 0.8894 - val_loss: 0.3033\\n\",","      \"Epoch 25/50\\n\",","      \"\\u001b[1m1719/1719\\u001b[0m \\u001b[32m━━━━━━━━━━━━━━━━━━━━\\u001b[0m\\u001b[37m\\u001b[0m \\u001b[1m1s\\u001b[0m 569us/step - accuracy: 0.9122 - loss: 0.2452 - val_accuracy: 0.8890 - val_loss: 0.3020\\n\",","      \"Epoch 26/50\\n\",","      \"\\u001b[1m1719/1719\\u001b[0m \\u001b[32m━━━━━━━━━━━━━━━━━━━━\\u001b[0m\\u001b[37m\\u001b[0m \\u001b[1m1s\\u001b[0m 603us/step - accuracy: 0.9137 - loss: 0.2410 - val_accuracy: 0.8906 - val_loss: 0.3008\\n\",","      \"Epoch 27/50\\n\",","      \"\\u001b[1m1719/1719\\u001b[0m \\u001b[32m━━━━━━━━━━━━━━━━━━━━\\u001b[0m\\u001b[37m\\u001b[0m \\u001b[1m1s\\u001b[0m 601us/step - accuracy: 0.9157 - loss: 0.2369 - val_accuracy: 0.8900 - val_loss: 0.3004\\n\",","      \"Epoch 28/50\\n\",","      \"\\u001b[1m1719/1719\\u001b[0m \\u001b[32m━━━━━━━━━━━━━━━━━━━━\\u001b[0m\\u001b[37m\\u001b[0m \\u001b[1m1s\\u001b[0m 578us/step - accuracy: 0.9174 - loss: 0.2329 - val_accuracy: 0.8906 - val_loss: 0.2999\\n\",","      \"Epoch 29/50\\n\",","      \"\\u001b[1m1719/1719\\u001b[0m \\u001b[32m━━━━━━━━━━━━━━━━━━━━\\u001b[0m\\u001b[37m\\u001b[0m \\u001b[1m1s\\u001b[0m 590us/step - accuracy: 0.9191 - loss: 0.2288 - val_accuracy: 0.8902 - val_loss: 0.2998\\n\",","      \"Epoch 30/50\\n\",","      \"\\u001b[1m1719/1719\\u001b[0m \\u001b[32m━━━━━━━━━━━━━━━━━━━━\\u001b[0m\\u001b[37m\\u001b[0m \\u001b[1m1s\\u001b[0m 611us/step - accuracy: 0.9205 - loss: 0.2249 - val_accuracy: 0.8918 - val_loss: 0.2999\\n\",","      \"Epoch 31/50\\n\",","      \"\\u001b[1m1719/1719\\u001b[0m \\u001b[32m━━━━━━━━━━━━━━━━━━━━\\u001b[0m\\u001b[37m\\u001b[0m \\u001b[1m1s\\u001b[0m 622us/step - accuracy: 0.9217 - loss: 0.2212 - val_accuracy: 0.8894 - val_loss: 0.2999\\n\",","      \"Epoch 32/50\\n\",","      \"\\u001b[1m1719/1719\\u001b[0m \\u001b[32m━━━━━━━━━━━━━━━━━━━━\\u001b[0m\\u001b[37m\\u001b[0m \\u001b[1m1s\\u001b[0m 630us/step - accuracy: 0.9232 - loss: 0.2176 - val_accuracy: 0.8898 - val_loss: 0.2998\\n\",","      \"Epoch 33/50\\n\",","      \"\\u001b[1m1719/1719\\u001b[0m \\u001b[32m━━━━━━━━━━━━━━━━━━━━\\u001b[0m\\u001b[37m\\u001b[0m \\u001b[1m1s\\u001b[0m 596us/step - accuracy: 0.9240 - loss: 0.2140 - val_accuracy: 0.8910 - val_loss: 0.2997\\n\",","      \"Epoch 34/50\\n\",","      \"\\u001b[1m1719/1719\\u001b[0m \\u001b[32m━━━━━━━━━━━━━━━━━━━━\\u001b[0m\\u001b[37m\\u001b[0m \\u001b[1m1s\\u001b[0m 582us/step - accuracy: 0.9258 - loss: 0.2104 - val_accuracy: 0.8890 - val_loss: 0.3002\\n\",","      \"Epoch 35/50\\n\",","      \"\\u001b[1m1719/1719\\u001b[0m \\u001b[32m━━━━━━━━━━━━━━━━━━━━\\u001b[0m\\u001b[37m\\u001b[0m \\u001b[1m1s\\u001b[0m 591us/step - accuracy: 0.9273 - loss: 0.2071 - val_accuracy: 0.8928 - val_loss: 0.3001\\n\",","      \"Epoch 36/50\\n\",","      \"\\u001b[1m1719/1719\\u001b[0m \\u001b[32m━━━━━━━━━━━━━━━━━━━━\\u001b[0m\\u001b[37m\\u001b[0m \\u001b[1m1s\\u001b[0m 599us/step - accuracy: 0.9282 - loss: 0.2038 - val_accuracy: 0.8902 - val_loss: 0.3015\\n\",","      \"Epoch 37/50\\n\",","      \"\\u001b[1m1719/1719\\u001b[0m \\u001b[32m━━━━━━━━━━━━━━━━━━━━\\u001b[0m\\u001b[37m\\u001b[0m \\u001b[1m1s\\u001b[0m 624us/step - accuracy: 0.9298 - loss: 0.2004 - val_accuracy: 0.8906 - val_loss: 0.3021\\n\",","      \"Epoch 38/50\\n\",","      \"\\u001b[1m1719/1719\\u001b[0m \\u001b[32m━━━━━━━━━━━━━━━━━━━━\\u001b[0m\\u001b[37m\\u001b[0m \\u001b[1m1s\\u001b[0m 569us/step - accuracy: 0.9310 - loss: 0.1970 - val_accuracy: 0.8910 - val_loss: 0.3019\\n\"","     ]","    }","   ],","   \"source\": [","    \"# Train the model with callbacks\\n\",","    \"history = model.fit(X_train, y_train, epochs=50,\\n\",","    \"                    validation_data=(X_valid, y_valid),\\n\",","    \"                    callbacks=[checkpoint_cb, early_stopping_cb, tensorboard_cb])\"","   ]","  },","  {","   \"cell_type\": \"markdown\",","   \"metadata\": {},","   \"source\": [","    \"## Evaluate the model\"","   ]","  },","  {","   \"cell_type\": \"code\",","   \"execution_count\": 12,","   \"metadata\": {},","   \"outputs\": [","    {","     \"name\": \"stdout\",","     \"output_type\": \"stream\",","     \"text\": [","      \"\\u001b[1m313/313\\u001b[0m \\u001b[32m━━━━━━━━━━━━━━━━━━━━\\u001b[0m\\u001b[37m\\u001b[0m \\u001b[1m0s\\u001b[0m 300us/step - accuracy: 0.8763 - loss: 0.3462\\n\"","     ]","    },","    {","     \"data\": {","      \"text/plain\": [","       \"[0.3426145613193512, 0.8791999816894531]\"","      ]","     },","     \"execution_count\": 12,","     \"metadata\": {},","     \"output_type\": \"execute_result\"","    }","   ],","   \"source\": [","    \"model.evaluate(X_test, y_test)\"","   ]","  },","  {","   \"cell_type\": \"markdown\",","   \"metadata\": {},","   \"source\": [","    \"## Display learning curves in TensorBoard\"","   ]","  },","  {","   \"cell_type\": \"code\",","   \"execution_count\": 13,","   \"metadata\": {},","   \"outputs\": [","    {","     \"data\": {","      \"text/html\": [","       \"\\n\",","       \"      \u003ciframe id=\\\"tensorboard-frame-9780d36f45faa261\\\" width=\\\"100%\\\" height=\\\"800\\\" frameborder=\\\"0\\\"\u003e\\n\",","       \"      \u003c/iframe\u003e\\n\",","       \"      \u003cscript\u003e\\n\",","       \"        (function() {\\n\",","       \"          const frame = document.getElementById(\\\"tensorboard-frame-9780d36f45faa261\\\");\\n\",","       \"          const url = new URL(\\\"/\\\", window.location);\\n\",","       \"          const port = 6006;\\n\",","       \"          if (port) {\\n\",","       \"            url.port = port;\\n\",","       \"          }\\n\",","       \"          frame.src = url;\\n\",","       \"        })();\\n\",","       \"      \u003c/script\u003e\\n\",","       \"    \"","      ],","      \"text/plain\": [","       \"\u003cIPython.core.display.HTML object\u003e\"","      ]","     },","     \"metadata\": {},","     \"output_type\": \"display_data\"","    }","   ],","   \"source\": [","    \"# Load the TensorBoard extension in the Jupyter notebook\\n\",","    \"%load_ext tensorboard\\n\",","    \"\\n\",","    \"# Start the TensorBoard server, and view inside the notebook.\\n\",","    \"%tensorboard --logdir=./my_logs --port=6006\"","   ]","  },","  {","   \"cell_type\": \"markdown\",","   \"metadata\": {},","   \"source\": [","    \"## Saving and restoring the model\"","   ]","  },","  {","   \"cell_type\": \"code\",","   \"execution_count\": 14,","   \"metadata\": {},","   \"outputs\": [],","   \"source\": [","    \"# Save the model.\\n\",","    \"model.save(\\\"mnist_fashion.keras\\\")\"","   ]","  },","  {","   \"cell_type\": \"code\",","   \"execution_count\": 15,","   \"metadata\": {},","   \"outputs\": [],","   \"source\": [","    \"# Load the saved model\\n\",","    \"model = keras.models.load_model(\\\"mnist_fashion.keras\\\")\"","   ]","  },","  {","   \"cell_type\": \"code\",","   \"execution_count\": null,","   \"metadata\": {},","   \"outputs\": [],","   \"source\": []","  }"," ],"," \"metadata\": {","  \"kernelspec\": {","   \"display_name\": \"Python [conda env:base] *\",","   \"language\": \"python\",","   \"name\": \"conda-base-py\"","  },","  \"language_info\": {","   \"codemirror_mode\": {","    \"name\": \"ipython\",","    \"version\": 3","   },","   \"file_extension\": \".py\",","   \"mimetype\": \"text/x-python\",","   \"name\": \"python\",","   \"nbconvert_exporter\": \"python\",","   \"pygments_lexer\": \"ipython3\",","   \"version\": \"3.12.4\"","  },","  \"nav_menu\": {","   \"height\": \"264px\",","   \"width\": \"369px\"","  },","  \"toc\": {","   \"navigate_menu\": true,","   \"number_sections\": true,","   \"sideBar\": true,","   \"threshold\": 6,","   \"toc_cell\": false,","   \"toc_section_display\": \"block\",","   \"toc_window_display\": false","  }"," },"," \"nbformat\": 4,"," \"nbformat_minor\": 4","}"],"stylingDirectives":null,"colorizedLines":null,"csv":null,"csvError":null,"copilotSWEAgentEnabled":false,"dependabotInfo":{"showConfigurationBanner":false,"configFilePath":null,"networkDependabotPath":"/hkeasv/ML-Examples/network/updates","dismissConfigurationNoticePath":"/settings/dismiss-notice/dependabot_configuration_notice","configurationNoticeDismissed":null},"displayName":"Chap_10_MNIST_Fashion_Callbacks.ipynb","displayUrl":"https://notebooks.githubusercontent.com/view/ipynb?browser=unknown_browser\u0026bypass_fastly=true\u0026color_mode=auto\u0026commit=544257e8dd17126f78ca120a2d0c033408d76373\u0026device=unknown_device\u0026docs_host=https%3A%2F%2Fdocs.github.com\u0026enc_url=68747470733a2f2f7261772e67697468756275736572636f6e74656e742e636f6d2f686b656173762f4d4c2d4578616d706c65732f353434323537653864643137313236663738636131323061326430633033333430386437363337332f436861705f31305f4d4e4953545f46617368696f6e5f43616c6c6261636b732e6970796e62\u0026logged_in=false\u0026nwo=hkeasv%2FML-Examples\u0026path=Chap_10_MNIST_Fashion_Callbacks.ipynb\u0026platform=unknown_platform\u0026repository_id=751802809\u0026repository_type=Repository\u0026version=0","headerInfo":{"blobSize":"204 KB","deleteTooltip":"You must be signed in to make or propose changes","editTooltip":"You must be signed in to make or propose changes","ghDesktopPath":"https://desktop.github.com","isGitLfs":false,"onBranch":true,"shortPath":"178f7cb","siteNavLoginPath":"/login?return_to=https%3A%2F%2Fgithub.com%2Fhkeasv%2FML-Examples%2Fblob%2Fmain%2FChap_10_MNIST_Fashion_Callbacks.ipynb","isCSV":false,"isRichtext":false,"toc":null,"lineInfo":{"truncatedLoc":"487","truncatedSloc":"487"},"mode":"file"},"image":false,"isCodeownersFile":null,"isPlain":false,"isValidLegacyIssueTemplate":false,"issueTemplate":null,"discussionTemplate":null,"language":"Jupyter Notebook","languageID":185,"large":false,"planSupportInfo":{"repoIsFork":null,"repoOwnedByCurrentUser":null,"requestFullPath":"/hkeasv/ML-Examples/blob/main/Chap_10_MNIST_Fashion_Callbacks.ipynb","showFreeOrgGatedFeatureMessage":null,"showPlanSupportBanner":null,"upgradeDataAttributes":null,"upgradePath":null},"publishBannersInfo":{"dismissActionNoticePath":"/settings/dismiss-notice/publish_action_from_dockerfile","releasePath":"/hkeasv/ML-Examples/releases/new?marketplace=true","showPublishActionBanner":false},"rawBlobUrl":"https://github.com/hkeasv/ML-Examples/raw/refs/heads/main/Chap_10_MNIST_Fashion_Callbacks.ipynb","renderImageOrRaw":false,"richText":null,"renderedFileInfo":{"identityUUID":"0219ea1e-9b51-446d-ace1-bc92734fdfcc","renderFileType":"ipynb","size":208532},"shortPath":null,"symbolsEnabled":true,"tabSize":4,"topBannersInfo":{"overridingGlobalFundingFile":false,"globalPreferredFundingPath":null,"showInvalidCitationWarning":false,"citationHelpUrl":"https://docs.github.com/github/creating-cloning-and-archiving-repositories/creating-a-repository-on-github/about-citation-files","actionsOnboardingTip":null},"truncated":false,"viewable":true,"workflowRedirectUrl":null,"symbols":{"timed_out":false,"not_analyzed":true,"symbols":[]}},"copilotInfo":null,"copilotAccessAllowed":false,"modelsAccessAllowed":false,"modelsRepoIntegrationEnabled":false,"isMarketplaceEnabled":true,"csrf_tokens":{"/hkeasv/ML-Examples/branches":{"post":"bRewGjdDVAloxFy06svy-PhHClnY6_yIRfnvAiTn9PAoX4ePOxq-qbYONqHNraYvuWtdBocCLOIXjfOw4XBMLQ"},"/repos/preferences":{"post":"8aTaKi12bFHP0SulWJ-dtYgu54SonKN3GZJ_b0wj9kzbxH6Gqui21Z-qLw3wVgHSGBDBU89D8y7EBvEssCCJRA"}}},"title":"ML-Examples/Chap_10_MNIST_Fashion_Callbacks.ipynb at main · hkeasv/ML-Examples","appPayload":{"helpUrl":"https://docs.github.com","findFileWorkerPath":"/assets-cdn/worker/find-file-worker-9bd411a8e273.js","findInFileWorkerPath":"/assets-cdn/worker/find-in-file-worker-410714137fc9.js","githubDevUrl":null,"enabled_features":{"code_nav_ui_events":false,"react_blob_overlay":false,"accessible_code_button":true}}}</script>
  <div data-target="react-app.reactRoot"></div>
</react-app>
</turbo-frame>



  </div>

</turbo-frame>

    </main>
  </div>

  </div>

          <footer class="footer pt-8 pb-6 f6 color-fg-muted p-responsive" role="contentinfo" >
  <h2 class='sr-only'>Footer</h2>

  


  <div class="d-flex flex-justify-center flex-items-center flex-column-reverse flex-lg-row flex-wrap flex-lg-nowrap">
    <div class="d-flex flex-items-center flex-shrink-0 mx-2">
      <a aria-label="GitHub Homepage" class="footer-octicon mr-2" href="https://github.com">
        <svg aria-hidden="true" height="24" viewBox="0 0 24 24" version="1.1" width="24" data-view-component="true" class="octicon octicon-mark-github">
    <path d="M12 1C5.923 1 1 5.923 1 12c0 4.867 3.149 8.979 7.521 10.436.55.096.756-.233.756-.522 0-.262-.013-1.128-.013-2.049-2.764.509-3.479-.674-3.699-1.292-.124-.317-.66-1.293-1.127-1.554-.385-.207-.936-.715-.014-.729.866-.014 1.485.797 1.691 1.128.99 1.663 2.571 1.196 3.204.907.096-.715.385-1.196.701-1.471-2.448-.275-5.005-1.224-5.005-5.432 0-1.196.426-2.186 1.128-2.956-.111-.275-.496-1.402.11-2.915 0 0 .921-.288 3.024 1.128a10.193 10.193 0 0 1 2.75-.371c.936 0 1.871.123 2.75.371 2.104-1.43 3.025-1.128 3.025-1.128.605 1.513.221 2.64.111 2.915.701.77 1.127 1.747 1.127 2.956 0 4.222-2.571 5.157-5.019 5.432.399.344.743 1.004.743 2.035 0 1.471-.014 2.654-.014 3.025 0 .289.206.632.756.522C19.851 20.979 23 16.854 23 12c0-6.077-4.922-11-11-11Z"></path>
</svg>
</a>
      <span>
        &copy; 2025 GitHub,&nbsp;Inc.
      </span>
    </div>

    <nav aria-label="Footer">
      <h3 class="sr-only" id="sr-footer-heading">Footer navigation</h3>

      <ul class="list-style-none d-flex flex-justify-center flex-wrap mb-2 mb-lg-0" aria-labelledby="sr-footer-heading">

          <li class="mx-2">
            <a data-analytics-event="{&quot;category&quot;:&quot;Footer&quot;,&quot;action&quot;:&quot;go to Terms&quot;,&quot;label&quot;:&quot;text:terms&quot;}" href="https://docs.github.com/site-policy/github-terms/github-terms-of-service" data-view-component="true" class="Link--secondary Link">Terms</a>
          </li>

          <li class="mx-2">
            <a data-analytics-event="{&quot;category&quot;:&quot;Footer&quot;,&quot;action&quot;:&quot;go to privacy&quot;,&quot;label&quot;:&quot;text:privacy&quot;}" href="https://docs.github.com/site-policy/privacy-policies/github-privacy-statement" data-view-component="true" class="Link--secondary Link">Privacy</a>
          </li>

          <li class="mx-2">
            <a data-analytics-event="{&quot;category&quot;:&quot;Footer&quot;,&quot;action&quot;:&quot;go to security&quot;,&quot;label&quot;:&quot;text:security&quot;}" href="https://github.com/security" data-view-component="true" class="Link--secondary Link">Security</a>
          </li>

          <li class="mx-2">
            <a data-analytics-event="{&quot;category&quot;:&quot;Footer&quot;,&quot;action&quot;:&quot;go to status&quot;,&quot;label&quot;:&quot;text:status&quot;}" href="https://www.githubstatus.com/" data-view-component="true" class="Link--secondary Link">Status</a>
          </li>

            <li class="mx-2">
              <a data-analytics-event="{&quot;category&quot;:&quot;Footer&quot;,&quot;action&quot;:&quot;go to community&quot;,&quot;label&quot;:&quot;text:community&quot;}" href="https://github.community/" data-view-component="true" class="Link--secondary Link">Community</a>
            </li>

          <li class="mx-2">
            <a data-analytics-event="{&quot;category&quot;:&quot;Footer&quot;,&quot;action&quot;:&quot;go to docs&quot;,&quot;label&quot;:&quot;text:docs&quot;}" href="https://docs.github.com/" data-view-component="true" class="Link--secondary Link">Docs</a>
          </li>

          <li class="mx-2">
            <a data-analytics-event="{&quot;category&quot;:&quot;Footer&quot;,&quot;action&quot;:&quot;go to contact&quot;,&quot;label&quot;:&quot;text:contact&quot;}" href="https://support.github.com?tags=dotcom-footer" data-view-component="true" class="Link--secondary Link">Contact</a>
          </li>

          <li class="mx-2" >
  <cookie-consent-link>
    <button
      type="button"
      class="Link--secondary underline-on-hover border-0 p-0 color-bg-transparent"
      data-action="click:cookie-consent-link#showConsentManagement"
      data-analytics-event="{&quot;location&quot;:&quot;footer&quot;,&quot;action&quot;:&quot;cookies&quot;,&quot;context&quot;:&quot;subfooter&quot;,&quot;tag&quot;:&quot;link&quot;,&quot;label&quot;:&quot;cookies_link_subfooter_footer&quot;}"
    >
       Manage cookies
    </button>
  </cookie-consent-link>
</li>

<li class="mx-2">
  <cookie-consent-link>
    <button
      type="button"
      class="Link--secondary underline-on-hover border-0 p-0 color-bg-transparent text-left"
      data-action="click:cookie-consent-link#showConsentManagement"
      data-analytics-event="{&quot;location&quot;:&quot;footer&quot;,&quot;action&quot;:&quot;dont_share_info&quot;,&quot;context&quot;:&quot;subfooter&quot;,&quot;tag&quot;:&quot;link&quot;,&quot;label&quot;:&quot;dont_share_info_link_subfooter_footer&quot;}"
    >
      Do not share my personal information
    </button>
  </cookie-consent-link>
</li>

      </ul>
    </nav>
  </div>
</footer>



    <ghcc-consent id="ghcc" class="position-fixed bottom-0 left-0" style="z-index: 999999"
      data-locale="en"
      data-initial-cookie-consent-allowed=""
      data-cookie-consent-required="true"
    ></ghcc-consent>




  <div id="ajax-error-message" class="ajax-error-message flash flash-error" hidden>
    <svg aria-hidden="true" height="16" viewBox="0 0 16 16" version="1.1" width="16" data-view-component="true" class="octicon octicon-alert">
    <path d="M6.457 1.047c.659-1.234 2.427-1.234 3.086 0l6.082 11.378A1.75 1.75 0 0 1 14.082 15H1.918a1.75 1.75 0 0 1-1.543-2.575Zm1.763.707a.25.25 0 0 0-.44 0L1.698 13.132a.25.25 0 0 0 .22.368h12.164a.25.25 0 0 0 .22-.368Zm.53 3.996v2.5a.75.75 0 0 1-1.5 0v-2.5a.75.75 0 0 1 1.5 0ZM9 11a1 1 0 1 1-2 0 1 1 0 0 1 2 0Z"></path>
</svg>
    <button type="button" class="flash-close js-ajax-error-dismiss" aria-label="Dismiss error">
      <svg aria-hidden="true" height="16" viewBox="0 0 16 16" version="1.1" width="16" data-view-component="true" class="octicon octicon-x">
    <path d="M3.72 3.72a.75.75 0 0 1 1.06 0L8 6.94l3.22-3.22a.749.749 0 0 1 1.275.326.749.749 0 0 1-.215.734L9.06 8l3.22 3.22a.749.749 0 0 1-.326 1.275.749.749 0 0 1-.734-.215L8 9.06l-3.22 3.22a.751.751 0 0 1-1.042-.018.751.751 0 0 1-.018-1.042L6.94 8 3.72 4.78a.75.75 0 0 1 0-1.06Z"></path>
</svg>
    </button>
    You can’t perform that action at this time.
  </div>

    <template id="site-details-dialog">
  <details class="details-reset details-overlay details-overlay-dark lh-default color-fg-default hx_rsm" open>
    <summary role="button" aria-label="Close dialog"></summary>
    <details-dialog class="Box Box--overlay d-flex flex-column anim-fade-in fast hx_rsm-dialog hx_rsm-modal">
      <button class="Box-btn-octicon m-0 btn-octicon position-absolute right-0 top-0" type="button" aria-label="Close dialog" data-close-dialog>
        <svg aria-hidden="true" height="16" viewBox="0 0 16 16" version="1.1" width="16" data-view-component="true" class="octicon octicon-x">
    <path d="M3.72 3.72a.75.75 0 0 1 1.06 0L8 6.94l3.22-3.22a.749.749 0 0 1 1.275.326.749.749 0 0 1-.215.734L9.06 8l3.22 3.22a.749.749 0 0 1-.326 1.275.749.749 0 0 1-.734-.215L8 9.06l-3.22 3.22a.751.751 0 0 1-1.042-.018.751.751 0 0 1-.018-1.042L6.94 8 3.72 4.78a.75.75 0 0 1 0-1.06Z"></path>
</svg>
      </button>
      <div class="octocat-spinner my-6 js-details-dialog-spinner"></div>
    </details-dialog>
  </details>
</template>

    <div class="Popover js-hovercard-content position-absolute" style="display: none; outline: none;">
  <div class="Popover-message Popover-message--bottom-left Popover-message--large Box color-shadow-large" style="width:360px;">
  </div>
</div>

    <template id="snippet-clipboard-copy-button">
  <div class="zeroclipboard-container position-absolute right-0 top-0">
    <clipboard-copy aria-label="Copy" class="ClipboardButton btn js-clipboard-copy m-2 p-0" data-copy-feedback="Copied!" data-tooltip-direction="w">
      <svg aria-hidden="true" height="16" viewBox="0 0 16 16" version="1.1" width="16" data-view-component="true" class="octicon octicon-copy js-clipboard-copy-icon m-2">
    <path d="M0 6.75C0 5.784.784 5 1.75 5h1.5a.75.75 0 0 1 0 1.5h-1.5a.25.25 0 0 0-.25.25v7.5c0 .138.112.25.25.25h7.5a.25.25 0 0 0 .25-.25v-1.5a.75.75 0 0 1 1.5 0v1.5A1.75 1.75 0 0 1 9.25 16h-7.5A1.75 1.75 0 0 1 0 14.25Z"></path><path d="M5 1.75C5 .784 5.784 0 6.75 0h7.5C15.216 0 16 .784 16 1.75v7.5A1.75 1.75 0 0 1 14.25 11h-7.5A1.75 1.75 0 0 1 5 9.25Zm1.75-.25a.25.25 0 0 0-.25.25v7.5c0 .138.112.25.25.25h7.5a.25.25 0 0 0 .25-.25v-7.5a.25.25 0 0 0-.25-.25Z"></path>
</svg>
      <svg aria-hidden="true" height="16" viewBox="0 0 16 16" version="1.1" width="16" data-view-component="true" class="octicon octicon-check js-clipboard-check-icon color-fg-success d-none m-2">
    <path d="M13.78 4.22a.75.75 0 0 1 0 1.06l-7.25 7.25a.75.75 0 0 1-1.06 0L2.22 9.28a.751.751 0 0 1 .018-1.042.751.751 0 0 1 1.042-.018L6 10.94l6.72-6.72a.75.75 0 0 1 1.06 0Z"></path>
</svg>
    </clipboard-copy>
  </div>
</template>
<template id="snippet-clipboard-copy-button-unpositioned">
  <div class="zeroclipboard-container">
    <clipboard-copy aria-label="Copy" class="ClipboardButton btn btn-invisible js-clipboard-copy m-2 p-0 d-flex flex-justify-center flex-items-center" data-copy-feedback="Copied!" data-tooltip-direction="w">
      <svg aria-hidden="true" height="16" viewBox="0 0 16 16" version="1.1" width="16" data-view-component="true" class="octicon octicon-copy js-clipboard-copy-icon">
    <path d="M0 6.75C0 5.784.784 5 1.75 5h1.5a.75.75 0 0 1 0 1.5h-1.5a.25.25 0 0 0-.25.25v7.5c0 .138.112.25.25.25h7.5a.25.25 0 0 0 .25-.25v-1.5a.75.75 0 0 1 1.5 0v1.5A1.75 1.75 0 0 1 9.25 16h-7.5A1.75 1.75 0 0 1 0 14.25Z"></path><path d="M5 1.75C5 .784 5.784 0 6.75 0h7.5C15.216 0 16 .784 16 1.75v7.5A1.75 1.75 0 0 1 14.25 11h-7.5A1.75 1.75 0 0 1 5 9.25Zm1.75-.25a.25.25 0 0 0-.25.25v7.5c0 .138.112.25.25.25h7.5a.25.25 0 0 0 .25-.25v-7.5a.25.25 0 0 0-.25-.25Z"></path>
</svg>
      <svg aria-hidden="true" height="16" viewBox="0 0 16 16" version="1.1" width="16" data-view-component="true" class="octicon octicon-check js-clipboard-check-icon color-fg-success d-none">
    <path d="M13.78 4.22a.75.75 0 0 1 0 1.06l-7.25 7.25a.75.75 0 0 1-1.06 0L2.22 9.28a.751.751 0 0 1 .018-1.042.751.751 0 0 1 1.042-.018L6 10.94l6.72-6.72a.75.75 0 0 1 1.06 0Z"></path>
</svg>
    </clipboard-copy>
  </div>
</template>




    </div>
    <div id="js-global-screen-reader-notice" class="sr-only mt-n1" aria-live="polite" aria-atomic="true" ></div>
    <div id="js-global-screen-reader-notice-assertive" class="sr-only mt-n1" aria-live="assertive" aria-atomic="true"></div>
  </body>
</html>

